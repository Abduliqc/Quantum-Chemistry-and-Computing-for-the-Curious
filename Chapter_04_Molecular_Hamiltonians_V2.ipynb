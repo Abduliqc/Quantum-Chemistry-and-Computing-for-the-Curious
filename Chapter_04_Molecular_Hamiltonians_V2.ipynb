{
 "cells": [
  {
   "cell_type": "markdown",
   "metadata": {
    "id": "boqsNTC8Y7mN"
   },
   "source": [
    "This is the companion Jupyter Notebook of Chapter 4, Molecular Hamiltonians, of the book titled:\n",
    "\"Quantum Chemistry and Computing for the Curious: Illustrated with Python and Qiskit® code\" and with ISBN-13: 978-1803243900.\n",
    "Copyright © 2022, Keeper L. Sharkey and Alain Chancé."
   ]
  },
  {
   "cell_type": "markdown",
   "metadata": {
    "id": "lyOS5s2Q4Jx2"
   },
   "source": [
    "The following MIT license only applies to the code, and not to the text and images. The authors are not granting a license to replicate or reuse the text and images in the companion Jupyter notebook.\n",
    "\n",
    "# MIT License\n",
    "\n",
    "Copyright (c) 2022 Packt\n",
    "\n",
    "Permission is hereby granted, free of charge, to any person obtaining a copy\n",
    "of this software and associated documentation files (the \"Software\"), to deal\n",
    "in the Software without restriction, including without limitation the rights\n",
    "to use, copy, modify, merge, publish, distribute, sublicense, and/or sell\n",
    "copies of the Software, and to permit persons to whom the Software is\n",
    "furnished to do so, subject to the following conditions:\n",
    "\n",
    "The above copyright notice and this permission notice shall be included in all\n",
    "copies or substantial portions of the Software.\n",
    "\n",
    "THE SOFTWARE IS PROVIDED \"AS IS\", WITHOUT WARRANTY OF ANY KIND, EXPRESS OR\n",
    "IMPLIED, INCLUDING BUT NOT LIMITED TO THE WARRANTIES OF MERCHANTABILITY,\n",
    "FITNESS FOR A PARTICULAR PURPOSE AND NONINFRINGEMENT. IN NO EVENT SHALL THE\n",
    "AUTHORS OR COPYRIGHT HOLDERS BE LIABLE FOR ANY CLAIM, DAMAGES OR OTHER\n",
    "LIABILITY, WHETHER IN AN ACTION OF CONTRACT, TORT OR OTHERWISE, ARISING FROM,\n",
    "OUT OF OR IN CONNECTION WITH THE SOFTWARE OR THE USE OR OTHER DEALINGS IN THE\n",
    "SOFTWARE.\n"
   ]
  },
  {
   "cell_type": "markdown",
   "metadata": {
    "id": "oNqOYS227ESk"
   },
   "source": [
    "# 4. Molecular Hamiltonians\n",
    "\n",
    "# Technical requirements"
   ]
  },
  {
   "cell_type": "markdown",
   "metadata": {},
   "source": [
    "# Summary of updates V2\n",
    "## Purpose\n",
    "This Jupyter notebook has been adapted to work with Qiskit Nature v0.5 and the new Qiskit Runtime primitives. \n",
    "\n",
    "Please refer to the following documentation:\n",
    "\n",
    "Electronic Structure Problems with v0.5, https://qiskit.org/documentation/nature/migration/00b_Electronic_structure_with_v0.5.html\n",
    "\n",
    "Leveraging Qiskit Runtime\n",
    "https://qiskit.org/documentation/nature/tutorials/07_leveraging_qiskit_runtime.html\n",
    "\n",
    "FermionicOp\n",
    "https://qiskit.org/documentation/nature/locale/bn_BN/stubs/qiskit_nature.second_q.operators.FermionicOp.html\n",
    "\n",
    "## New install command\n",
    "Install qiskit.utils with the following command (V2):\n",
    "```\n",
    "pip install qiskit.utils\n",
    "```\n",
    "## Updates in import statements\n",
    "Previously\n",
    "```\n",
    "from qiskit_nature.drivers.second_quantization import ElectronicStructureDriverType, ElectronicStructureMoleculeDriver\n",
    "from qiskit_nature.problems.second_quantization import ElectronicStructureProblem\n",
    "from qiskit_nature.mappers.second_quantization import ParityMapper, JordanWignerMapper, BravyiKitaevMapper\n",
    "from qiskit_nature.converters.second_quantization import QubitConverter\n",
    "from qiskit_nature.transformers.second_quantization.electronic import ActiveSpaceTransformer, FreezeCoreTransformer\n",
    "from qiskit_nature.operators.second_quantization import FermionicOp\n",
    "```\n",
    "New\n",
    "```\n",
    "# Electronic Structure Problems with v0.5\n",
    "# https://qiskit.org/documentation/nature/migration/00b_Electronic_structure_with_v0.5.html\n",
    "from qiskit_nature.second_q.formats.molecule_info import MoleculeInfo\n",
    "from qiskit_nature.units import DistanceUnit\n",
    "from qiskit_nature.second_q.drivers import PySCFDriver\n",
    "from qiskit_nature.second_q.mappers import QubitConverter\n",
    "from qiskit_nature.second_q.mappers import ParityMapper, JordanWignerMapper, BravyiKitaevMapper\n",
    "from qiskit_nature.second_q.properties import ParticleNumber\n",
    "from qiskit_nature.second_q.transformers import ActiveSpaceTransformer, FreezeCoreTransformer\n",
    "from qiskit_nature.second_q.operators import FermionicOp\n",
    "```\n",
    "\n",
    "## Updates in code\n",
    "\n",
    "### Removed figure 4.10 and figure 4.11 showing the molecular orbital (MO) 1-body and (MO) 2-body terms\n",
    "The One body and two bodies integrals which were components of qiskit_nature.properties are no longer supported, see: https://qiskit.org/documentation/nature/migration/00b_Electronic_structure_with_v0.5.html#qiskit_nature.properties\n",
    "\n",
    "```\n",
    "second_quantization.electronic.integrals.OneBodyElectronicIntegrals removed\n",
    "second_quantization.electronic.integrals.TwoBodyElectronicIntegrals removed\n",
    "```\n",
    "\n",
    "### Updates pertaining to the new MoleculeInfo data structure\n",
    "The MoleculeInfo has become a pure data container and no longer supports degrees of freedom. This version uses a new info_dict dictionary to set up both the MoleculeInfo and the PySCF molecule data structure.\n",
    "\n",
    "The info_dict dictionary contains the following keys:\n",
    "- 'atoms', a list of atoms names, e.g. \"Li\", \"H\".\n",
    "- 'coords', Cartesian coordinates $(x, y, z)$ of the atom’s position in units of angstroms., e.g. (0.0, 0.0, 0.0), (0.0, 0.0, 1.5474)\n",
    "- 'charge', integer, the electric charge on the molecule.\n",
    "- 'multiplicity', integer, the multiplicity $2S+1$ of the molecule, where $S$ is the total spin angular momentum which is determined by the number of unpaired electrons in the molecule, that is the number of electrons that occupy a molecular orbital singly, not with another electron.\n",
    "- 'atom_pair', the pair of atoms used by bopes() to compute and plot the BOPES of the molecule. They must have their Cartesian coordinates in the same line or in the same plane. The perturbation is applied to the first atom in the atom_pair.\n",
    "\n",
    "Previously\n",
    "```\n",
    "H2_molecule = Molecule(geometry=[['H', [0., 0., 0.]],['H', [0., 0., 0.735]]],charge=0, multiplicity=1)\n",
    "```\n",
    "New\n",
    "```\n",
    "H2_atoms = [\"H\", \"H\"]\n",
    "H2_coords = [(0.0, 0.0, 0.0), (0.0, 0.0, 0.735)]\n",
    "H2_charge = 0\n",
    "H2_multiplicity = 1\n",
    "H2_atom_pair=(1, 0)\n",
    "H2_info_dict={'atoms':H2_atoms, 'coords':H2_coords, 'charge':H2_charge, 'multiplicity':H2_multiplicity, 'atom_pair':H2_atom_pair}\n",
    "\n",
    "H2_moleculeinfo = MoleculeInfo(H2_atoms, H2_coords, charge=H2_charge, multiplicity=H2_multiplicity)\n",
    "```\n",
    "\n",
    "Previously\n",
    "```\n",
    "LiH_molecule = Molecule(geometry=[['Li', [0., 0., 0.]], ['H', [0., 0., 1.5474]]], charge=0, multiplicity=1)\n",
    "```\n",
    "\n",
    "New\n",
    "```\n",
    "LiH_atoms = [\"Li\", \"H\"]\n",
    "LiH_coords = [(0.0, 0.0, 0.0), (0.0, 0.0, 1.5474)]\n",
    "LiH_charge = 0\n",
    "LiH_multiplicity = 1\n",
    "LiH_atom_pair=(1,0)\n",
    "LiH_info_dict={'atoms':LiH_atoms, 'coords':LiH_coords, 'charge':LiH_charge, 'multiplicity':LiH_multiplicity, 'atom_pair':LiH_atom_pair}\n",
    "\n",
    "LiH_moleculeinfo = MoleculeInfo(LiH_atoms, LiH_coords, charge=LiH_charge, multiplicity=LiH_multiplicity)\n",
    "```\n",
    "\n",
    "### Updates pertaining to the get_particle_number() function\n",
    "Previously\n",
    "```\n",
    "def get_particle_number(problem, show=True):\n",
    "  particle_number = problem.grouped_property_transformed.get_property(\"ParticleNumber\")\n",
    "  num_particles = (particle_number.num_alpha, particle_number.num_beta)\n",
    "  num_spin_orbitals = particle_number.num_spin_orbitals\n",
    "  if show:\n",
    "    print(\"Number of alpha electrons: {}\".format(particle_number.num_alpha))\n",
    "    print(\"Number of beta electrons: {}\".format(particle_number.num_beta))\n",
    "    print(\"Number of spin orbitals: {}\".format(num_spin_orbitals))\n",
    "  return particle_number\n",
    "```\n",
    "New\n",
    "```\n",
    "def get_particle_number(problem, qubit_converter, show=True):\n",
    "  num_particles = qubit_converter.num_particles\n",
    "  \n",
    "  # https://qiskit.org/documentation/nature/stubs/qiskit_nature.second_q.problems.ElectronicStructureProblem.num_spin_orbitals.html\n",
    "  num_spin_orbitals = problem.num_spin_orbitals\n",
    "  \n",
    "  if show:\n",
    "    print(\"Number of particles: {}\".format(num_particles))\n",
    "    print(\"Number of spin orbitals: {}\".format(num_spin_orbitals))\n",
    "    \n",
    "  return num_particles, num_spin_orbitals\n",
    "```\n",
    "### Updates pertaining to the fermion_to_qubit() function\n",
    "Now second_q_op is used as a replacement for second_q_op[0]\n",
    "\n",
    "Previously\n",
    "```\n",
    "def fermion_to_qubit(f_op, second_q_op, mapper, truncate=20, two_qubit_reduction=False, z2symmetry_reduction=None, show=True): \n",
    "  if show:\n",
    "    print(\"Qubit Hamiltonian operator\")\n",
    "  dmap = {\"Jordan-Wigner\": JordanWignerMapper(), \"Parity\": ParityMapper(), \"Bravyi-Kitaev\": BravyiKitaevMapper()}\n",
    "  qubit_op = None\n",
    "  qubit_converter = None\n",
    "  for k, v in dmap.items():\n",
    "    if k == mapper:\n",
    "      if show:\n",
    "        print(\"{} transformation \". format(mapper))\n",
    "      qubit_converter = QubitConverter(v, two_qubit_reduction=two_qubit_reduction, z2symmetry_reduction=z2symmetry_reduction)\n",
    "      if two_qubit_reduction:\n",
    "        qubit_op = qubit_converter.convert(second_q_op[0], num_particles=f_op.num_particles)\n",
    "      else:\n",
    "        qubit_op = qubit_converter.convert(second_q_op[0])\n",
    "      n_items = len(qubit_op)\n",
    "      if show:\n",
    "        print(\"Number of items in the Pauli list:\", n_items)\n",
    "        if n_items <= truncate:\n",
    "          print(qubit_op)\n",
    "        else:\n",
    "          print(qubit_op[0:truncate])\n",
    "  return qubit_op, qubit_converter\n",
    "```\n",
    "New\n",
    "```\n",
    "def fermion_to_qubit(problem, second_q_op, mapper, truncate=20, two_qubit_reduction=False, z2symmetry_reduction=None, show=True): \n",
    "# Electronic Structure Problems with v0.5\n",
    "# https://qiskit.org/documentation/nature/migration/00b_Electronic_structure_with_v0.5.html\n",
    "# https://qiskit.org/documentation/nature/stubs/qiskit_nature.second_q.mappers.QubitConverter.html#qubitconverter\n",
    "  if show:\n",
    "    print(\"Qubit Hamiltonian operator\")\n",
    "  dmap = {\"Jordan-Wigner\": JordanWignerMapper(), \"Parity\": ParityMapper(), \"Bravyi-Kitaev\": BravyiKitaevMapper()}\n",
    "  qubit_op = None\n",
    "  qubit_converter = None\n",
    "  for k, v in dmap.items():\n",
    "    if k == mapper:\n",
    "      if show:\n",
    "        print(\"{} transformation \". format(mapper))\n",
    "      qubit_converter = QubitConverter(v, two_qubit_reduction=two_qubit_reduction, z2symmetry_reduction=z2symmetry_reduction)\n",
    "      # QubitConverter.convert\n",
    "      # https://qiskit.org/documentation/nature/stubs/qiskit_nature.second_q.mappers.QubitConverter.convert.html\n",
    "      if two_qubit_reduction:\n",
    "        qubit_op = qubit_converter.convert(second_q_op, num_particles=problem.num_particles)\n",
    "      else:\n",
    "        qubit_op = qubit_converter.convert(second_q_op)\n",
    "      n_items = len(qubit_op)\n",
    "      if show:\n",
    "        print(\"Number of items in the Pauli list:\", n_items)\n",
    "        if n_items <= truncate:\n",
    "          print(qubit_op)\n",
    "        else:\n",
    "          print(qubit_op[0:truncate])\n",
    "  return qubit_op, qubit_converter\n",
    "```\n",
    "### Updates pertaining to the label_to_qubit() function\n",
    "A FermionicOp is initialized with a dictionary, mapping terms to their respective coefficients.\n",
    "\n",
    "```\n",
    "for k in ({\"+_0\":1.0}, {\"+_1\":1.0}, {\"+_2\":1.0}, {\"+_3\":1.0}, {\"+_4\":1.0}):\n",
    "  qubit_op = label_to_qubit(k, BravyiKitaevMapper())\n",
    "  print(\"{}:\\n {}\\n\".format(k, qubit_op))\n",
    "```\n",
    "```\n",
    "{'+_0': 1.0}:\n",
    " 0.5 * X\n",
    "+ -0.5j * Y\n",
    "\n",
    "{'+_1': 1.0}:\n",
    " 0.5 * XZ\n",
    "+ -0.5j * YZ\n",
    "\n",
    "{'+_2': 1.0}:\n",
    " 0.5 * XZZ\n",
    "+ -0.5j * YZZ\n",
    "\n",
    "{'+_3': 1.0}:\n",
    " 0.5 * XZZZ\n",
    "+ -0.5j * YZZZ\n",
    "\n",
    "{'+_4': 1.0}:\n",
    " 0.5 * XZZZZ\n",
    "+ -0.5j * YZZZZ\n",
    "```"
   ]
  },
  {
   "cell_type": "markdown",
   "metadata": {
    "id": "-VltqWatg_ND"
   },
   "source": [
    "## Installing NumPy, Qiskit and importing various modules\n",
    "Install NumPy with the following command:"
   ]
  },
  {
   "cell_type": "code",
   "execution_count": 1,
   "metadata": {
    "colab": {
     "base_uri": "https://localhost:8080/"
    },
    "executionInfo": {
     "elapsed": 7063,
     "status": "ok",
     "timestamp": 1650284065813,
     "user": {
      "displayName": "Alain Chancé",
      "userId": "15344856735617693852"
     },
     "user_tz": -120
    },
    "id": "7XhpijAbD1v4",
    "outputId": "90a29845-088b-4ae2-e6be-23376908f12d"
   },
   "outputs": [
    {
     "name": "stdout",
     "output_type": "stream",
     "text": [
      "Requirement already satisfied: numpy in /home/alain/psi4conda/lib/python3.8/site-packages (1.21.2)\n",
      "Note: you may need to restart the kernel to use updated packages.\n"
     ]
    }
   ],
   "source": [
    "pip install numpy"
   ]
  },
  {
   "cell_type": "markdown",
   "metadata": {
    "id": "e86gdgsLD_pU"
   },
   "source": [
    "Install Qiskit with the following command:"
   ]
  },
  {
   "cell_type": "code",
   "execution_count": 2,
   "metadata": {
    "colab": {
     "base_uri": "https://localhost:8080/"
    },
    "executionInfo": {
     "elapsed": 34795,
     "status": "ok",
     "timestamp": 1650284100604,
     "user": {
      "displayName": "Alain Chancé",
      "userId": "15344856735617693852"
     },
     "user_tz": -120
    },
    "id": "5W0P77WaD7Yh",
    "outputId": "3283b9eb-b0fe-4bee-dec3-92e25f822f3a"
   },
   "outputs": [
    {
     "name": "stdout",
     "output_type": "stream",
     "text": [
      "Requirement already satisfied: qiskit in /home/alain/psi4conda/lib/python3.8/site-packages (0.38.0)\n",
      "Collecting qiskit-terra==0.21.2\n",
      "  Using cached qiskit_terra-0.21.2-cp38-cp38-manylinux_2_17_x86_64.manylinux2014_x86_64.whl (6.7 MB)\n",
      "Requirement already satisfied: qiskit-ibmq-provider==0.19.2 in /home/alain/psi4conda/lib/python3.8/site-packages (from qiskit) (0.19.2)\n",
      "Requirement already satisfied: qiskit-aer==0.11.0 in /home/alain/psi4conda/lib/python3.8/site-packages (from qiskit) (0.11.0)\n",
      "Requirement already satisfied: numpy>=1.16.3 in /home/alain/psi4conda/lib/python3.8/site-packages (from qiskit-aer==0.11.0->qiskit) (1.21.2)\n",
      "Requirement already satisfied: scipy>=1.0 in /home/alain/psi4conda/lib/python3.8/site-packages (from qiskit-aer==0.11.0->qiskit) (1.7.1)\n",
      "Requirement already satisfied: python-dateutil>=2.8.0 in /home/alain/psi4conda/lib/python3.8/site-packages (from qiskit-ibmq-provider==0.19.2->qiskit) (2.8.2)\n",
      "Requirement already satisfied: requests>=2.19 in /home/alain/psi4conda/lib/python3.8/site-packages (from qiskit-ibmq-provider==0.19.2->qiskit) (2.26.0)\n",
      "Requirement already satisfied: urllib3>=1.21.1 in /home/alain/psi4conda/lib/python3.8/site-packages (from qiskit-ibmq-provider==0.19.2->qiskit) (1.26.7)\n",
      "Requirement already satisfied: requests-ntlm>=1.1.0 in /home/alain/psi4conda/lib/python3.8/site-packages (from qiskit-ibmq-provider==0.19.2->qiskit) (1.1.0)\n",
      "Requirement already satisfied: websockets>=10.0 in /home/alain/psi4conda/lib/python3.8/site-packages (from qiskit-ibmq-provider==0.19.2->qiskit) (10.3)\n",
      "Requirement already satisfied: websocket-client>=1.0.1 in /home/alain/psi4conda/lib/python3.8/site-packages (from qiskit-ibmq-provider==0.19.2->qiskit) (1.3.3)\n",
      "Requirement already satisfied: sympy>=1.3 in /home/alain/psi4conda/lib/python3.8/site-packages (from qiskit-terra==0.21.2->qiskit) (1.9)\n",
      "Requirement already satisfied: retworkx>=0.11.0 in /home/alain/psi4conda/lib/python3.8/site-packages (from qiskit-terra==0.21.2->qiskit) (0.11.0)\n",
      "Requirement already satisfied: tweedledum<2.0,>=1.1 in /home/alain/psi4conda/lib/python3.8/site-packages (from qiskit-terra==0.21.2->qiskit) (1.1.1)\n",
      "Requirement already satisfied: dill>=0.3 in /home/alain/psi4conda/lib/python3.8/site-packages (from qiskit-terra==0.21.2->qiskit) (0.3.5.1)\n",
      "Requirement already satisfied: symengine>=0.9 in /home/alain/psi4conda/lib/python3.8/site-packages (from qiskit-terra==0.21.2->qiskit) (0.9.2)\n",
      "Requirement already satisfied: ply>=3.10 in /home/alain/psi4conda/lib/python3.8/site-packages (from qiskit-terra==0.21.2->qiskit) (3.11)\n",
      "Requirement already satisfied: psutil>=5 in /home/alain/psi4conda/lib/python3.8/site-packages (from qiskit-terra==0.21.2->qiskit) (5.8.0)\n",
      "Requirement already satisfied: stevedore>=3.0.0 in /home/alain/psi4conda/lib/python3.8/site-packages (from qiskit-terra==0.21.2->qiskit) (4.0.0)\n",
      "Requirement already satisfied: six>=1.5 in /home/alain/psi4conda/lib/python3.8/site-packages (from python-dateutil>=2.8.0->qiskit-ibmq-provider==0.19.2->qiskit) (1.16.0)\n",
      "Requirement already satisfied: charset-normalizer~=2.0.0 in /home/alain/psi4conda/lib/python3.8/site-packages (from requests>=2.19->qiskit-ibmq-provider==0.19.2->qiskit) (2.0.4)\n",
      "Requirement already satisfied: idna<4,>=2.5 in /home/alain/psi4conda/lib/python3.8/site-packages (from requests>=2.19->qiskit-ibmq-provider==0.19.2->qiskit) (3.3)\n",
      "Requirement already satisfied: certifi>=2017.4.17 in /home/alain/psi4conda/lib/python3.8/site-packages (from requests>=2.19->qiskit-ibmq-provider==0.19.2->qiskit) (2022.6.15)\n",
      "Requirement already satisfied: cryptography>=1.3 in /home/alain/psi4conda/lib/python3.8/site-packages (from requests-ntlm>=1.1.0->qiskit-ibmq-provider==0.19.2->qiskit) (35.0.0)\n",
      "Requirement already satisfied: ntlm-auth>=1.0.2 in /home/alain/psi4conda/lib/python3.8/site-packages (from requests-ntlm>=1.1.0->qiskit-ibmq-provider==0.19.2->qiskit) (1.5.0)\n",
      "Requirement already satisfied: cffi>=1.12 in /home/alain/psi4conda/lib/python3.8/site-packages (from cryptography>=1.3->requests-ntlm>=1.1.0->qiskit-ibmq-provider==0.19.2->qiskit) (1.14.6)\n",
      "Requirement already satisfied: pycparser in /home/alain/psi4conda/lib/python3.8/site-packages (from cffi>=1.12->cryptography>=1.3->requests-ntlm>=1.1.0->qiskit-ibmq-provider==0.19.2->qiskit) (2.21)\n",
      "Requirement already satisfied: pbr!=2.1.0,>=2.0.0 in /home/alain/psi4conda/lib/python3.8/site-packages (from stevedore>=3.0.0->qiskit-terra==0.21.2->qiskit) (5.10.0)\n",
      "Requirement already satisfied: mpmath>=0.19 in /home/alain/psi4conda/lib/python3.8/site-packages (from sympy>=1.3->qiskit-terra==0.21.2->qiskit) (1.2.1)\n",
      "Installing collected packages: qiskit-terra\n",
      "  Attempting uninstall: qiskit-terra\n",
      "    Found existing installation: qiskit-terra 0.22.3\n",
      "    Uninstalling qiskit-terra-0.22.3:\n",
      "      Successfully uninstalled qiskit-terra-0.22.3\n",
      "\u001b[31mERROR: pip's dependency resolver does not currently take into account all the packages that are installed. This behaviour is the source of the following dependency conflicts.\n",
      "qiskit-nature 0.5.1 requires qiskit-terra>=0.22.*, but you have qiskit-terra 0.21.2 which is incompatible.\u001b[0m\n",
      "Successfully installed qiskit-terra-0.21.2\n",
      "Note: you may need to restart the kernel to use updated packages.\n"
     ]
    }
   ],
   "source": [
    "pip install qiskit"
   ]
  },
  {
   "cell_type": "markdown",
   "metadata": {
    "id": "S3Qs6ee42nIF"
   },
   "source": [
    "Install Qiskit visualization support with the following command:"
   ]
  },
  {
   "cell_type": "code",
   "execution_count": 3,
   "metadata": {
    "colab": {
     "base_uri": "https://localhost:8080/"
    },
    "executionInfo": {
     "elapsed": 10142,
     "status": "ok",
     "timestamp": 1650284110740,
     "user": {
      "displayName": "Alain Chancé",
      "userId": "15344856735617693852"
     },
     "user_tz": -120
    },
    "id": "QTMbSY-62kEN",
    "outputId": "64db98ec-d224-4079-c705-800b04ab1872",
    "scrolled": false
   },
   "outputs": [
    {
     "name": "stdout",
     "output_type": "stream",
     "text": [
      "Requirement already satisfied: qiskit[visualization] in /home/alain/psi4conda/lib/python3.8/site-packages (0.38.0)\n",
      "Requirement already satisfied: qiskit-aer==0.11.0 in /home/alain/psi4conda/lib/python3.8/site-packages (from qiskit[visualization]) (0.11.0)\n",
      "Requirement already satisfied: qiskit-ibmq-provider==0.19.2 in /home/alain/psi4conda/lib/python3.8/site-packages (from qiskit[visualization]) (0.19.2)\n",
      "Requirement already satisfied: qiskit-terra==0.21.2 in /home/alain/psi4conda/lib/python3.8/site-packages (from qiskit[visualization]) (0.21.2)\n",
      "Requirement already satisfied: seaborn>=0.9.0 in /home/alain/psi4conda/lib/python3.8/site-packages (from qiskit[visualization]) (0.12.0)\n",
      "Requirement already satisfied: pydot in /home/alain/psi4conda/lib/python3.8/site-packages (from qiskit[visualization]) (1.4.2)\n",
      "Requirement already satisfied: ipywidgets>=7.3.0 in /home/alain/psi4conda/lib/python3.8/site-packages (from qiskit[visualization]) (8.0.2)\n",
      "Requirement already satisfied: matplotlib>=2.1 in /home/alain/psi4conda/lib/python3.8/site-packages (from qiskit[visualization]) (3.4.3)\n",
      "Requirement already satisfied: pylatexenc>=1.4 in /home/alain/psi4conda/lib/python3.8/site-packages (from qiskit[visualization]) (2.10)\n",
      "Requirement already satisfied: pillow>=4.2.1 in /home/alain/psi4conda/lib/python3.8/site-packages (from qiskit[visualization]) (8.4.0)\n",
      "Requirement already satisfied: pygments>=2.4 in /home/alain/psi4conda/lib/python3.8/site-packages (from qiskit[visualization]) (2.12.0)\n",
      "Requirement already satisfied: numpy>=1.16.3 in /home/alain/psi4conda/lib/python3.8/site-packages (from qiskit-aer==0.11.0->qiskit[visualization]) (1.21.2)\n",
      "Requirement already satisfied: scipy>=1.0 in /home/alain/psi4conda/lib/python3.8/site-packages (from qiskit-aer==0.11.0->qiskit[visualization]) (1.7.1)\n",
      "Requirement already satisfied: requests>=2.19 in /home/alain/psi4conda/lib/python3.8/site-packages (from qiskit-ibmq-provider==0.19.2->qiskit[visualization]) (2.26.0)\n",
      "Requirement already satisfied: urllib3>=1.21.1 in /home/alain/psi4conda/lib/python3.8/site-packages (from qiskit-ibmq-provider==0.19.2->qiskit[visualization]) (1.26.7)\n",
      "Requirement already satisfied: requests-ntlm>=1.1.0 in /home/alain/psi4conda/lib/python3.8/site-packages (from qiskit-ibmq-provider==0.19.2->qiskit[visualization]) (1.1.0)\n",
      "Requirement already satisfied: websocket-client>=1.0.1 in /home/alain/psi4conda/lib/python3.8/site-packages (from qiskit-ibmq-provider==0.19.2->qiskit[visualization]) (1.3.3)\n",
      "Requirement already satisfied: websockets>=10.0 in /home/alain/psi4conda/lib/python3.8/site-packages (from qiskit-ibmq-provider==0.19.2->qiskit[visualization]) (10.3)\n",
      "Requirement already satisfied: python-dateutil>=2.8.0 in /home/alain/psi4conda/lib/python3.8/site-packages (from qiskit-ibmq-provider==0.19.2->qiskit[visualization]) (2.8.2)\n",
      "Requirement already satisfied: sympy>=1.3 in /home/alain/psi4conda/lib/python3.8/site-packages (from qiskit-terra==0.21.2->qiskit[visualization]) (1.9)\n",
      "Requirement already satisfied: stevedore>=3.0.0 in /home/alain/psi4conda/lib/python3.8/site-packages (from qiskit-terra==0.21.2->qiskit[visualization]) (4.0.0)\n",
      "Requirement already satisfied: ply>=3.10 in /home/alain/psi4conda/lib/python3.8/site-packages (from qiskit-terra==0.21.2->qiskit[visualization]) (3.11)\n",
      "Requirement already satisfied: psutil>=5 in /home/alain/psi4conda/lib/python3.8/site-packages (from qiskit-terra==0.21.2->qiskit[visualization]) (5.8.0)\n",
      "Requirement already satisfied: dill>=0.3 in /home/alain/psi4conda/lib/python3.8/site-packages (from qiskit-terra==0.21.2->qiskit[visualization]) (0.3.5.1)\n",
      "Requirement already satisfied: tweedledum<2.0,>=1.1 in /home/alain/psi4conda/lib/python3.8/site-packages (from qiskit-terra==0.21.2->qiskit[visualization]) (1.1.1)\n",
      "Requirement already satisfied: symengine>=0.9 in /home/alain/psi4conda/lib/python3.8/site-packages (from qiskit-terra==0.21.2->qiskit[visualization]) (0.9.2)\n",
      "Requirement already satisfied: retworkx>=0.11.0 in /home/alain/psi4conda/lib/python3.8/site-packages (from qiskit-terra==0.21.2->qiskit[visualization]) (0.11.0)\n",
      "Requirement already satisfied: widgetsnbextension~=4.0 in /home/alain/psi4conda/lib/python3.8/site-packages (from ipywidgets>=7.3.0->qiskit[visualization]) (4.0.3)\n",
      "Requirement already satisfied: ipykernel>=4.5.1 in /home/alain/psi4conda/lib/python3.8/site-packages (from ipywidgets>=7.3.0->qiskit[visualization]) (5.5.5)\n",
      "Requirement already satisfied: jupyterlab-widgets~=3.0 in /home/alain/psi4conda/lib/python3.8/site-packages (from ipywidgets>=7.3.0->qiskit[visualization]) (3.0.3)\n",
      "Requirement already satisfied: traitlets>=4.3.1 in /home/alain/psi4conda/lib/python3.8/site-packages (from ipywidgets>=7.3.0->qiskit[visualization]) (5.3.0)\n",
      "Requirement already satisfied: ipython>=6.1.0 in /home/alain/psi4conda/lib/python3.8/site-packages (from ipywidgets>=7.3.0->qiskit[visualization]) (8.4.0)\n",
      "Requirement already satisfied: jupyter-client in /home/alain/psi4conda/lib/python3.8/site-packages (from ipykernel>=4.5.1->ipywidgets>=7.3.0->qiskit[visualization]) (7.0.6)\n",
      "Requirement already satisfied: tornado>=4.2 in /home/alain/psi4conda/lib/python3.8/site-packages (from ipykernel>=4.5.1->ipywidgets>=7.3.0->qiskit[visualization]) (6.1)\n",
      "Requirement already satisfied: decorator in /home/alain/psi4conda/lib/python3.8/site-packages (from ipython>=6.1.0->ipywidgets>=7.3.0->qiskit[visualization]) (5.1.1)\n",
      "Requirement already satisfied: matplotlib-inline in /home/alain/psi4conda/lib/python3.8/site-packages (from ipython>=6.1.0->ipywidgets>=7.3.0->qiskit[visualization]) (0.1.3)\n",
      "Requirement already satisfied: stack-data in /home/alain/psi4conda/lib/python3.8/site-packages (from ipython>=6.1.0->ipywidgets>=7.3.0->qiskit[visualization]) (0.4.0)\n",
      "Requirement already satisfied: setuptools>=18.5 in /home/alain/psi4conda/lib/python3.8/site-packages (from ipython>=6.1.0->ipywidgets>=7.3.0->qiskit[visualization]) (58.0.4)\n",
      "Requirement already satisfied: pexpect>4.3 in /home/alain/psi4conda/lib/python3.8/site-packages (from ipython>=6.1.0->ipywidgets>=7.3.0->qiskit[visualization]) (4.8.0)\n",
      "Requirement already satisfied: backcall in /home/alain/psi4conda/lib/python3.8/site-packages (from ipython>=6.1.0->ipywidgets>=7.3.0->qiskit[visualization]) (0.2.0)\n",
      "Requirement already satisfied: jedi>=0.16 in /home/alain/psi4conda/lib/python3.8/site-packages (from ipython>=6.1.0->ipywidgets>=7.3.0->qiskit[visualization]) (0.18.1)\n",
      "Requirement already satisfied: prompt-toolkit!=3.0.0,!=3.0.1,<3.1.0,>=2.0.0 in /home/alain/psi4conda/lib/python3.8/site-packages (from ipython>=6.1.0->ipywidgets>=7.3.0->qiskit[visualization]) (3.0.30)\n",
      "Requirement already satisfied: pickleshare in /home/alain/psi4conda/lib/python3.8/site-packages (from ipython>=6.1.0->ipywidgets>=7.3.0->qiskit[visualization]) (0.7.5)\n",
      "Requirement already satisfied: parso<0.9.0,>=0.8.0 in /home/alain/psi4conda/lib/python3.8/site-packages (from jedi>=0.16->ipython>=6.1.0->ipywidgets>=7.3.0->qiskit[visualization]) (0.8.3)\n",
      "Requirement already satisfied: cycler>=0.10 in /home/alain/psi4conda/lib/python3.8/site-packages (from matplotlib>=2.1->qiskit[visualization]) (0.10.0)\n",
      "Requirement already satisfied: pyparsing>=2.2.1 in /home/alain/psi4conda/lib/python3.8/site-packages (from matplotlib>=2.1->qiskit[visualization]) (3.0.4)\n",
      "Requirement already satisfied: kiwisolver>=1.0.1 in /home/alain/psi4conda/lib/python3.8/site-packages (from matplotlib>=2.1->qiskit[visualization]) (1.3.1)\n",
      "Requirement already satisfied: six in /home/alain/psi4conda/lib/python3.8/site-packages (from cycler>=0.10->matplotlib>=2.1->qiskit[visualization]) (1.16.0)\n",
      "Requirement already satisfied: ptyprocess>=0.5 in /home/alain/psi4conda/lib/python3.8/site-packages (from pexpect>4.3->ipython>=6.1.0->ipywidgets>=7.3.0->qiskit[visualization]) (0.7.0)\n",
      "Requirement already satisfied: wcwidth in /home/alain/psi4conda/lib/python3.8/site-packages (from prompt-toolkit!=3.0.0,!=3.0.1,<3.1.0,>=2.0.0->ipython>=6.1.0->ipywidgets>=7.3.0->qiskit[visualization]) (0.2.5)\n",
      "Requirement already satisfied: idna<4,>=2.5 in /home/alain/psi4conda/lib/python3.8/site-packages (from requests>=2.19->qiskit-ibmq-provider==0.19.2->qiskit[visualization]) (3.3)\n",
      "Requirement already satisfied: charset-normalizer~=2.0.0 in /home/alain/psi4conda/lib/python3.8/site-packages (from requests>=2.19->qiskit-ibmq-provider==0.19.2->qiskit[visualization]) (2.0.4)\n",
      "Requirement already satisfied: certifi>=2017.4.17 in /home/alain/psi4conda/lib/python3.8/site-packages (from requests>=2.19->qiskit-ibmq-provider==0.19.2->qiskit[visualization]) (2022.6.15)\n",
      "Requirement already satisfied: ntlm-auth>=1.0.2 in /home/alain/psi4conda/lib/python3.8/site-packages (from requests-ntlm>=1.1.0->qiskit-ibmq-provider==0.19.2->qiskit[visualization]) (1.5.0)\n",
      "Requirement already satisfied: cryptography>=1.3 in /home/alain/psi4conda/lib/python3.8/site-packages (from requests-ntlm>=1.1.0->qiskit-ibmq-provider==0.19.2->qiskit[visualization]) (35.0.0)\n"
     ]
    },
    {
     "name": "stdout",
     "output_type": "stream",
     "text": [
      "Requirement already satisfied: cffi>=1.12 in /home/alain/psi4conda/lib/python3.8/site-packages (from cryptography>=1.3->requests-ntlm>=1.1.0->qiskit-ibmq-provider==0.19.2->qiskit[visualization]) (1.14.6)\n",
      "Requirement already satisfied: pycparser in /home/alain/psi4conda/lib/python3.8/site-packages (from cffi>=1.12->cryptography>=1.3->requests-ntlm>=1.1.0->qiskit-ibmq-provider==0.19.2->qiskit[visualization]) (2.21)\n",
      "Requirement already satisfied: pandas>=0.25 in /home/alain/psi4conda/lib/python3.8/site-packages (from seaborn>=0.9.0->qiskit[visualization]) (1.3.4)\n",
      "Requirement already satisfied: pytz>=2017.3 in /home/alain/psi4conda/lib/python3.8/site-packages (from pandas>=0.25->seaborn>=0.9.0->qiskit[visualization]) (2021.3)\n",
      "Requirement already satisfied: pbr!=2.1.0,>=2.0.0 in /home/alain/psi4conda/lib/python3.8/site-packages (from stevedore>=3.0.0->qiskit-terra==0.21.2->qiskit[visualization]) (5.10.0)\n",
      "Requirement already satisfied: mpmath>=0.19 in /home/alain/psi4conda/lib/python3.8/site-packages (from sympy>=1.3->qiskit-terra==0.21.2->qiskit[visualization]) (1.2.1)\n",
      "Requirement already satisfied: entrypoints in /home/alain/psi4conda/lib/python3.8/site-packages (from jupyter-client->ipykernel>=4.5.1->ipywidgets>=7.3.0->qiskit[visualization]) (0.4)\n",
      "Requirement already satisfied: nest-asyncio>=1.5 in /home/alain/psi4conda/lib/python3.8/site-packages (from jupyter-client->ipykernel>=4.5.1->ipywidgets>=7.3.0->qiskit[visualization]) (1.5.5)\n",
      "Requirement already satisfied: jupyter-core>=4.6.0 in /home/alain/psi4conda/lib/python3.8/site-packages (from jupyter-client->ipykernel>=4.5.1->ipywidgets>=7.3.0->qiskit[visualization]) (4.11.1)\n",
      "Requirement already satisfied: pyzmq>=13 in /home/alain/psi4conda/lib/python3.8/site-packages (from jupyter-client->ipykernel>=4.5.1->ipywidgets>=7.3.0->qiskit[visualization]) (19.0.2)\n",
      "Requirement already satisfied: executing in /home/alain/psi4conda/lib/python3.8/site-packages (from stack-data->ipython>=6.1.0->ipywidgets>=7.3.0->qiskit[visualization]) (0.10.0)\n",
      "Requirement already satisfied: pure-eval in /home/alain/psi4conda/lib/python3.8/site-packages (from stack-data->ipython>=6.1.0->ipywidgets>=7.3.0->qiskit[visualization]) (0.2.2)\n",
      "Requirement already satisfied: asttokens in /home/alain/psi4conda/lib/python3.8/site-packages (from stack-data->ipython>=6.1.0->ipywidgets>=7.3.0->qiskit[visualization]) (2.0.5)\n",
      "Note: you may need to restart the kernel to use updated packages.\n"
     ]
    }
   ],
   "source": [
    "pip install 'qiskit[visualization]'"
   ]
  },
  {
   "cell_type": "markdown",
   "metadata": {},
   "source": [
    "Install qiskit.utils with the following command (V2):"
   ]
  },
  {
   "cell_type": "code",
   "execution_count": 4,
   "metadata": {},
   "outputs": [
    {
     "name": "stdout",
     "output_type": "stream",
     "text": [
      "Requirement already satisfied: qiskit.utils in /home/alain/psi4conda/lib/python3.8/site-packages (1.2.1)\n",
      "Requirement already satisfied: qiskit>=0.34.2 in /home/alain/psi4conda/lib/python3.8/site-packages (from qiskit.utils) (0.38.0)\n",
      "Requirement already satisfied: qiskit-ibmq-provider==0.19.2 in /home/alain/psi4conda/lib/python3.8/site-packages (from qiskit>=0.34.2->qiskit.utils) (0.19.2)\n",
      "Requirement already satisfied: qiskit-aer==0.11.0 in /home/alain/psi4conda/lib/python3.8/site-packages (from qiskit>=0.34.2->qiskit.utils) (0.11.0)\n",
      "Requirement already satisfied: qiskit-terra==0.21.2 in /home/alain/psi4conda/lib/python3.8/site-packages (from qiskit>=0.34.2->qiskit.utils) (0.21.2)\n",
      "Requirement already satisfied: scipy>=1.0 in /home/alain/psi4conda/lib/python3.8/site-packages (from qiskit-aer==0.11.0->qiskit>=0.34.2->qiskit.utils) (1.7.1)\n",
      "Requirement already satisfied: numpy>=1.16.3 in /home/alain/psi4conda/lib/python3.8/site-packages (from qiskit-aer==0.11.0->qiskit>=0.34.2->qiskit.utils) (1.21.2)\n",
      "Requirement already satisfied: urllib3>=1.21.1 in /home/alain/psi4conda/lib/python3.8/site-packages (from qiskit-ibmq-provider==0.19.2->qiskit>=0.34.2->qiskit.utils) (1.26.7)\n",
      "Requirement already satisfied: requests>=2.19 in /home/alain/psi4conda/lib/python3.8/site-packages (from qiskit-ibmq-provider==0.19.2->qiskit>=0.34.2->qiskit.utils) (2.26.0)\n",
      "Requirement already satisfied: python-dateutil>=2.8.0 in /home/alain/psi4conda/lib/python3.8/site-packages (from qiskit-ibmq-provider==0.19.2->qiskit>=0.34.2->qiskit.utils) (2.8.2)\n",
      "Requirement already satisfied: websockets>=10.0 in /home/alain/psi4conda/lib/python3.8/site-packages (from qiskit-ibmq-provider==0.19.2->qiskit>=0.34.2->qiskit.utils) (10.3)\n",
      "Requirement already satisfied: websocket-client>=1.0.1 in /home/alain/psi4conda/lib/python3.8/site-packages (from qiskit-ibmq-provider==0.19.2->qiskit>=0.34.2->qiskit.utils) (1.3.3)\n",
      "Requirement already satisfied: requests-ntlm>=1.1.0 in /home/alain/psi4conda/lib/python3.8/site-packages (from qiskit-ibmq-provider==0.19.2->qiskit>=0.34.2->qiskit.utils) (1.1.0)\n",
      "Requirement already satisfied: stevedore>=3.0.0 in /home/alain/psi4conda/lib/python3.8/site-packages (from qiskit-terra==0.21.2->qiskit>=0.34.2->qiskit.utils) (4.0.0)\n",
      "Requirement already satisfied: symengine>=0.9 in /home/alain/psi4conda/lib/python3.8/site-packages (from qiskit-terra==0.21.2->qiskit>=0.34.2->qiskit.utils) (0.9.2)\n",
      "Requirement already satisfied: tweedledum<2.0,>=1.1 in /home/alain/psi4conda/lib/python3.8/site-packages (from qiskit-terra==0.21.2->qiskit>=0.34.2->qiskit.utils) (1.1.1)\n",
      "Requirement already satisfied: ply>=3.10 in /home/alain/psi4conda/lib/python3.8/site-packages (from qiskit-terra==0.21.2->qiskit>=0.34.2->qiskit.utils) (3.11)\n",
      "Requirement already satisfied: dill>=0.3 in /home/alain/psi4conda/lib/python3.8/site-packages (from qiskit-terra==0.21.2->qiskit>=0.34.2->qiskit.utils) (0.3.5.1)\n",
      "Requirement already satisfied: retworkx>=0.11.0 in /home/alain/psi4conda/lib/python3.8/site-packages (from qiskit-terra==0.21.2->qiskit>=0.34.2->qiskit.utils) (0.11.0)\n",
      "Requirement already satisfied: psutil>=5 in /home/alain/psi4conda/lib/python3.8/site-packages (from qiskit-terra==0.21.2->qiskit>=0.34.2->qiskit.utils) (5.8.0)\n",
      "Requirement already satisfied: sympy>=1.3 in /home/alain/psi4conda/lib/python3.8/site-packages (from qiskit-terra==0.21.2->qiskit>=0.34.2->qiskit.utils) (1.9)\n",
      "Requirement already satisfied: six>=1.5 in /home/alain/psi4conda/lib/python3.8/site-packages (from python-dateutil>=2.8.0->qiskit-ibmq-provider==0.19.2->qiskit>=0.34.2->qiskit.utils) (1.16.0)\n",
      "Requirement already satisfied: idna<4,>=2.5 in /home/alain/psi4conda/lib/python3.8/site-packages (from requests>=2.19->qiskit-ibmq-provider==0.19.2->qiskit>=0.34.2->qiskit.utils) (3.3)\n",
      "Requirement already satisfied: certifi>=2017.4.17 in /home/alain/psi4conda/lib/python3.8/site-packages (from requests>=2.19->qiskit-ibmq-provider==0.19.2->qiskit>=0.34.2->qiskit.utils) (2022.6.15)\n",
      "Requirement already satisfied: charset-normalizer~=2.0.0 in /home/alain/psi4conda/lib/python3.8/site-packages (from requests>=2.19->qiskit-ibmq-provider==0.19.2->qiskit>=0.34.2->qiskit.utils) (2.0.4)\n",
      "Requirement already satisfied: cryptography>=1.3 in /home/alain/psi4conda/lib/python3.8/site-packages (from requests-ntlm>=1.1.0->qiskit-ibmq-provider==0.19.2->qiskit>=0.34.2->qiskit.utils) (35.0.0)\n",
      "Requirement already satisfied: ntlm-auth>=1.0.2 in /home/alain/psi4conda/lib/python3.8/site-packages (from requests-ntlm>=1.1.0->qiskit-ibmq-provider==0.19.2->qiskit>=0.34.2->qiskit.utils) (1.5.0)\n",
      "Requirement already satisfied: cffi>=1.12 in /home/alain/psi4conda/lib/python3.8/site-packages (from cryptography>=1.3->requests-ntlm>=1.1.0->qiskit-ibmq-provider==0.19.2->qiskit>=0.34.2->qiskit.utils) (1.14.6)\n",
      "Requirement already satisfied: pycparser in /home/alain/psi4conda/lib/python3.8/site-packages (from cffi>=1.12->cryptography>=1.3->requests-ntlm>=1.1.0->qiskit-ibmq-provider==0.19.2->qiskit>=0.34.2->qiskit.utils) (2.21)\n",
      "Requirement already satisfied: pbr!=2.1.0,>=2.0.0 in /home/alain/psi4conda/lib/python3.8/site-packages (from stevedore>=3.0.0->qiskit-terra==0.21.2->qiskit>=0.34.2->qiskit.utils) (5.10.0)\n",
      "Requirement already satisfied: mpmath>=0.19 in /home/alain/psi4conda/lib/python3.8/site-packages (from sympy>=1.3->qiskit-terra==0.21.2->qiskit>=0.34.2->qiskit.utils) (1.2.1)\n",
      "Note: you may need to restart the kernel to use updated packages.\n"
     ]
    }
   ],
   "source": [
    "pip install qiskit.utils"
   ]
  },
  {
   "cell_type": "markdown",
   "metadata": {
    "id": "LM60UkgZVLaI"
   },
   "source": [
    "Install Qiskit Nature with the following command:"
   ]
  },
  {
   "cell_type": "code",
   "execution_count": 5,
   "metadata": {
    "colab": {
     "base_uri": "https://localhost:8080/"
    },
    "executionInfo": {
     "elapsed": 7843,
     "status": "ok",
     "timestamp": 1650284118579,
     "user": {
      "displayName": "Alain Chancé",
      "userId": "15344856735617693852"
     },
     "user_tz": -120
    },
    "id": "bXRZVmawVN3K",
    "outputId": "7b2fea9b-39f6-4dc9-b7ae-d9ebd83ac7bc"
   },
   "outputs": [
    {
     "name": "stdout",
     "output_type": "stream",
     "text": [
      "Requirement already satisfied: qiskit-nature in /home/alain/psi4conda/lib/python3.8/site-packages (0.5.1)\n",
      "Requirement already satisfied: psutil>=5 in /home/alain/psi4conda/lib/python3.8/site-packages (from qiskit-nature) (5.8.0)\n",
      "Requirement already satisfied: scikit-learn>=0.20.0 in /home/alain/psi4conda/lib/python3.8/site-packages (from qiskit-nature) (1.1.3)\n",
      "Collecting qiskit-terra>=0.22.*\n",
      "  Using cached qiskit_terra-0.22.3-cp38-cp38-manylinux_2_17_x86_64.manylinux2014_x86_64.whl (4.8 MB)\n",
      "Requirement already satisfied: setuptools>=40.1.0 in /home/alain/psi4conda/lib/python3.8/site-packages (from qiskit-nature) (58.0.4)\n",
      "Requirement already satisfied: typing-extensions in /home/alain/psi4conda/lib/python3.8/site-packages (from qiskit-nature) (3.10.0.2)\n",
      "Requirement already satisfied: numpy>=1.17 in /home/alain/psi4conda/lib/python3.8/site-packages (from qiskit-nature) (1.21.2)\n",
      "Requirement already satisfied: rustworkx in /home/alain/psi4conda/lib/python3.8/site-packages (from qiskit-nature) (0.12.0)\n",
      "Requirement already satisfied: h5py in /home/alain/psi4conda/lib/python3.8/site-packages (from qiskit-nature) (3.6.0)\n",
      "Requirement already satisfied: scipy>=1.4 in /home/alain/psi4conda/lib/python3.8/site-packages (from qiskit-nature) (1.7.1)\n",
      "Requirement already satisfied: retworkx>=0.11.0 in /home/alain/psi4conda/lib/python3.8/site-packages (from qiskit-terra>=0.22.*->qiskit-nature) (0.11.0)\n",
      "Requirement already satisfied: tweedledum<2.0,>=1.1 in /home/alain/psi4conda/lib/python3.8/site-packages (from qiskit-terra>=0.22.*->qiskit-nature) (1.1.1)\n",
      "Requirement already satisfied: dill>=0.3 in /home/alain/psi4conda/lib/python3.8/site-packages (from qiskit-terra>=0.22.*->qiskit-nature) (0.3.5.1)\n",
      "Requirement already satisfied: symengine>=0.9 in /home/alain/psi4conda/lib/python3.8/site-packages (from qiskit-terra>=0.22.*->qiskit-nature) (0.9.2)\n",
      "Requirement already satisfied: ply>=3.10 in /home/alain/psi4conda/lib/python3.8/site-packages (from qiskit-terra>=0.22.*->qiskit-nature) (3.11)\n",
      "Requirement already satisfied: sympy>=1.3 in /home/alain/psi4conda/lib/python3.8/site-packages (from qiskit-terra>=0.22.*->qiskit-nature) (1.9)\n",
      "Requirement already satisfied: stevedore>=3.0.0 in /home/alain/psi4conda/lib/python3.8/site-packages (from qiskit-terra>=0.22.*->qiskit-nature) (4.0.0)\n",
      "Requirement already satisfied: python-dateutil>=2.8.0 in /home/alain/psi4conda/lib/python3.8/site-packages (from qiskit-terra>=0.22.*->qiskit-nature) (2.8.2)\n",
      "Requirement already satisfied: six>=1.5 in /home/alain/psi4conda/lib/python3.8/site-packages (from python-dateutil>=2.8.0->qiskit-terra>=0.22.*->qiskit-nature) (1.16.0)\n",
      "Requirement already satisfied: joblib>=1.0.0 in /home/alain/psi4conda/lib/python3.8/site-packages (from scikit-learn>=0.20.0->qiskit-nature) (1.2.0)\n",
      "Requirement already satisfied: threadpoolctl>=2.0.0 in /home/alain/psi4conda/lib/python3.8/site-packages (from scikit-learn>=0.20.0->qiskit-nature) (3.1.0)\n",
      "Requirement already satisfied: pbr!=2.1.0,>=2.0.0 in /home/alain/psi4conda/lib/python3.8/site-packages (from stevedore>=3.0.0->qiskit-terra>=0.22.*->qiskit-nature) (5.10.0)\n",
      "Requirement already satisfied: mpmath>=0.19 in /home/alain/psi4conda/lib/python3.8/site-packages (from sympy>=1.3->qiskit-terra>=0.22.*->qiskit-nature) (1.2.1)\n",
      "Installing collected packages: qiskit-terra\n",
      "  Attempting uninstall: qiskit-terra\n",
      "    Found existing installation: qiskit-terra 0.21.2\n",
      "    Uninstalling qiskit-terra-0.21.2:\n",
      "      Successfully uninstalled qiskit-terra-0.21.2\n",
      "\u001b[31mERROR: pip's dependency resolver does not currently take into account all the packages that are installed. This behaviour is the source of the following dependency conflicts.\n",
      "qiskit 0.38.0 requires qiskit-terra==0.21.2, but you have qiskit-terra 0.22.3 which is incompatible.\u001b[0m\n",
      "Successfully installed qiskit-terra-0.22.3\n",
      "Note: you may need to restart the kernel to use updated packages.\n"
     ]
    }
   ],
   "source": [
    "pip install qiskit-nature"
   ]
  },
  {
   "cell_type": "markdown",
   "metadata": {
    "id": "pREHzIBxgoGB"
   },
   "source": [
    "Install PySCF with the following command:"
   ]
  },
  {
   "cell_type": "code",
   "execution_count": 6,
   "metadata": {
    "colab": {
     "base_uri": "https://localhost:8080/"
    },
    "executionInfo": {
     "elapsed": 18018,
     "status": "ok",
     "timestamp": 1650284136593,
     "user": {
      "displayName": "Alain Chancé",
      "userId": "15344856735617693852"
     },
     "user_tz": -120
    },
    "id": "Tu3pFrmffNhZ",
    "outputId": "f162e96e-92f2-4e25-e32a-5af4e9412903"
   },
   "outputs": [
    {
     "name": "stdout",
     "output_type": "stream",
     "text": [
      "Requirement already satisfied: pyscf in /home/alain/psi4conda/lib/python3.8/site-packages (2.1.1)\n",
      "Requirement already satisfied: h5py>=2.7 in /home/alain/psi4conda/lib/python3.8/site-packages (from pyscf) (3.6.0)\n",
      "Requirement already satisfied: scipy!=1.5.0,!=1.5.1 in /home/alain/psi4conda/lib/python3.8/site-packages (from pyscf) (1.7.1)\n",
      "Requirement already satisfied: numpy!=1.16,!=1.17,>=1.13 in /home/alain/psi4conda/lib/python3.8/site-packages (from pyscf) (1.21.2)\n",
      "Note: you may need to restart the kernel to use updated packages.\n"
     ]
    }
   ],
   "source": [
    "pip install pyscf"
   ]
  },
  {
   "cell_type": "markdown",
   "metadata": {
    "id": "OxaMfQHwEOdg"
   },
   "source": [
    "Import NumPy with the following command:"
   ]
  },
  {
   "cell_type": "code",
   "execution_count": 7,
   "metadata": {
    "id": "QhaIzlQ5EN3r"
   },
   "outputs": [],
   "source": [
    "import numpy as np"
   ]
  },
  {
   "cell_type": "markdown",
   "metadata": {
    "id": "6PSJLYf6cMeH"
   },
   "source": [
    "Import Matplotlib, a comprehensive library for creating static, animated, and interactive visualizations in Python with the following command:\n",
    "\n"
   ]
  },
  {
   "cell_type": "code",
   "execution_count": 8,
   "metadata": {
    "id": "nJSPiCdFcG-9"
   },
   "outputs": [],
   "source": [
    "import matplotlib.pyplot as plt"
   ]
  },
  {
   "cell_type": "markdown",
   "metadata": {
    "id": "N9_Mtr8sEl3I"
   },
   "source": [
    "Import the required functions and class methods with the following commands. The array_to_latex function() returns a Latex representation of a complex array with dimension 1 or 2:"
   ]
  },
  {
   "cell_type": "code",
   "execution_count": 9,
   "metadata": {
    "id": "wplPi--1ogzl"
   },
   "outputs": [],
   "source": [
    "from qiskit.visualization import array_to_latex, plot_bloch_vector, plot_bloch_multivector, plot_state_qsphere, plot_state_city\n",
    "from qiskit import QuantumRegister, ClassicalRegister, QuantumCircuit, transpile\n",
    "from qiskit import execute, Aer\n",
    "import qiskit.quantum_info as qi\n",
    "from qiskit.quantum_info import SparsePauliOp\n",
    "from qiskit.extensions import Initialize\n",
    "#from qiskit.providers.aer import extensions  # import aer snapshot instructions"
   ]
  },
  {
   "cell_type": "markdown",
   "metadata": {
    "id": "dVEh1h6Nb975"
   },
   "source": [
    "Import Qiskit Nature libraries with the following commands:"
   ]
  },
  {
   "cell_type": "code",
   "execution_count": 10,
   "metadata": {
    "id": "Hhf24btZbj7x"
   },
   "outputs": [],
   "source": [
    "from qiskit import Aer\n",
    "#from qiskit_nature.drivers import UnitsType, Molecule\n",
    "\n",
    "#from qiskit_nature.drivers.second_quantization import ElectronicStructureDriverType, ElectronicStructureMoleculeDriver\n",
    "#from qiskit_nature.problems.second_quantization import ElectronicStructureProblem\n",
    "#from qiskit_nature.mappers.second_quantization import ParityMapper, JordanWignerMapper, BravyiKitaevMapper\n",
    "#from qiskit_nature.converters.second_quantization import QubitConverter\n",
    "\n",
    "# Electronic Structure Problems with v0.5\n",
    "# https://qiskit.org/documentation/nature/migration/00b_Electronic_structure_with_v0.5.html\n",
    "from qiskit_nature.second_q.formats.molecule_info import MoleculeInfo\n",
    "from qiskit_nature.units import DistanceUnit\n",
    "from qiskit_nature.second_q.drivers import PySCFDriver\n",
    "from qiskit_nature.second_q.mappers import QubitConverter\n",
    "from qiskit_nature.second_q.mappers import ParityMapper, JordanWignerMapper, BravyiKitaevMapper\n",
    "from qiskit_nature.second_q.properties import ParticleNumber\n",
    "from qiskit_nature.second_q.transformers import ActiveSpaceTransformer, FreezeCoreTransformer\n",
    "from qiskit_nature.second_q.operators import FermionicOp\n",
    "\n",
    "#from qiskit_nature.operators.second_quantization import FermionicOp\n",
    "#from qiskit_nature.circuit.library.initial_states import HartreeFock\n",
    "#from qiskit_nature.circuit.library.ansatzes import UCCSD"
   ]
  },
  {
   "cell_type": "markdown",
   "metadata": {
    "id": "znAo5E9yi4n7"
   },
   "source": [
    "Import the Qiskit Nature property framework with the following command:"
   ]
  },
  {
   "cell_type": "code",
   "execution_count": 11,
   "metadata": {
    "id": "P0qUpRxujCJq"
   },
   "outputs": [],
   "source": [
    "#from qiskit_nature.properties import Property, GroupedProperty\n",
    "# https://qiskit.org/documentation/nature/migration/00b_Electronic_structure_with_v0.5.html\n",
    "from qiskit_nature.second_q.operators import ElectronicIntegrals"
   ]
  },
  {
   "cell_type": "markdown",
   "metadata": {
    "id": "l2y158KtnqIU"
   },
   "source": [
    "Import math libraries with the following command:"
   ]
  },
  {
   "cell_type": "code",
   "execution_count": 12,
   "metadata": {
    "id": "opzSQYFbnvXg"
   },
   "outputs": [],
   "source": [
    "import cmath\n",
    "import math"
   ]
  },
  {
   "cell_type": "markdown",
   "metadata": {
    "id": "bR7XnjUPREnY"
   },
   "source": [
    "# 4.1. Born-Oppenheimer approximation"
   ]
  },
  {
   "cell_type": "markdown",
   "metadata": {
    "id": "sKjvVTd2T9ae"
   },
   "source": [
    "# 4.2. Fock space"
   ]
  },
  {
   "cell_type": "markdown",
   "metadata": {
    "id": "MmPXLiD6Yub2"
   },
   "source": [
    "# 4.3. Fermionic creation and annihilation operators\n",
    "\n",
    "\n",
    "## 4.3.1. Fermion creation operator\n",
    "\n",
    "\n",
    "## 4.3.2. Fermion annihilation operator"
   ]
  },
  {
   "cell_type": "markdown",
   "metadata": {
    "id": "DPtMAaiifRwU"
   },
   "source": [
    "# 4.4. Molecular Hamiltonian in the Hartree-Fock orbitals basis"
   ]
  },
  {
   "cell_type": "markdown",
   "metadata": {
    "id": "L8H5B6zkc89x"
   },
   "source": [
    "# 4.5. Basis sets\n",
    "\n",
    "\n",
    "## 4.5.1. Slater-type orbitals"
   ]
  },
  {
   "cell_type": "code",
   "execution_count": 13,
   "metadata": {
    "colab": {
     "base_uri": "https://localhost:8080/",
     "height": 228
    },
    "executionInfo": {
     "elapsed": 619,
     "status": "ok",
     "timestamp": 1650284138371,
     "user": {
      "displayName": "Alain Chancé",
      "userId": "15344856735617693852"
     },
     "user_tz": -120
    },
    "id": "YxLg5MjXW_Si",
    "outputId": "ba64b9d8-26ee-4327-8214-baa4ae2cb277"
   },
   "outputs": [
    {
     "data": {
      "text/plain": [
       "<matplotlib.legend.Legend at 0x7f89f8096370>"
      ]
     },
     "execution_count": 13,
     "metadata": {},
     "output_type": "execute_result"
    },
    {
     "data": {
      "image/png": "[encoded data removed]",
      "text/plain": [
       "<Figure size 288x216 with 1 Axes>"
      ]
     },
     "metadata": {
      "needs_background": "light"
     },
     "output_type": "display_data"
    }
   ],
   "source": [
    "x = np.linspace(-5,5,num=1000)\n",
    "r = abs(x)\n",
    "\n",
    "alpha = 1.0\n",
    "\n",
    "R = 2*alpha**(1.5)*np.exp(-alpha*r)\n",
    "\n",
    "plt.figure(figsize=(4,3))\n",
    "plt.plot(x,R,label=\"STO 1s H\")\n",
    "plt.legend()"
   ]
  },
  {
   "cell_type": "markdown",
   "metadata": {
    "id": "cYNiTDlDaWSS"
   },
   "source": [
    "Figure 4.5 – Plot of the radial part of the Slater-type orbital for the $1s$ orbital of the hydrogen atom"
   ]
  },
  {
   "cell_type": "code",
   "execution_count": 14,
   "metadata": {
    "colab": {
     "base_uri": "https://localhost:8080/",
     "height": 228
    },
    "executionInfo": {
     "elapsed": 719,
     "status": "ok",
     "timestamp": 1650284139079,
     "user": {
      "displayName": "Alain Chancé",
      "userId": "15344856735617693852"
     },
     "user_tz": -120
    },
    "id": "Kn80lcaaYItZ",
    "outputId": "85e46c30-72e1-421d-8020-9a50f5d64767"
   },
   "outputs": [
    {
     "data": {
      "text/plain": [
       "<matplotlib.legend.Legend at 0x7f89f7f74ee0>"
      ]
     },
     "execution_count": 14,
     "metadata": {},
     "output_type": "execute_result"
    },
    {
     "data": {
      "image/png": "[encoded data removed]",
      "text/plain": [
       "<Figure size 288x216 with 1 Axes>"
      ]
     },
     "metadata": {
      "needs_background": "light"
     },
     "output_type": "display_data"
    }
   ],
   "source": [
    "x = np.linspace(-7,7,num=1000)\n",
    "r1 = abs(x+2.5)\n",
    "r2 = abs(x-2.5)\n",
    "\n",
    "alpha = 1.0\n",
    "\n",
    "R = 2*alpha**(1.5)*np.exp(-alpha*r1)-2*alpha**(1.5)*np.exp(-alpha*r2)\n",
    "\n",
    "plt.figure(figsize=(4,3))\n",
    "plt.plot(x,R,label=\"Antisymmetric STO H2\")\n",
    "plt.legend()"
   ]
  },
  {
   "cell_type": "markdown",
   "metadata": {
    "id": "bHIDx0-7fNVm"
   },
   "source": [
    "Figure 4.6 – Plot of the anti-symmetric wave function of the hydrogen molecule\n",
    "\n",
    "## 4.5.2. Gaussian-type orbitals"
   ]
  },
  {
   "cell_type": "code",
   "execution_count": 15,
   "metadata": {
    "colab": {
     "base_uri": "https://localhost:8080/",
     "height": 228
    },
    "executionInfo": {
     "elapsed": 21,
     "status": "ok",
     "timestamp": 1650284139080,
     "user": {
      "displayName": "Alain Chancé",
      "userId": "15344856735617693852"
     },
     "user_tz": -120
    },
    "id": "dsa-Ax0z9KdY",
    "outputId": "26837865-4ab0-4714-d5be-fc69ffca1b1a"
   },
   "outputs": [
    {
     "data": {
      "text/plain": [
       "<matplotlib.legend.Legend at 0x7f89f7eecf40>"
      ]
     },
     "execution_count": 15,
     "metadata": {},
     "output_type": "execute_result"
    },
    {
     "data": {
      "image/png": "[encoded data removed]",
      "text/plain": [
       "<Figure size 360x216 with 1 Axes>"
      ]
     },
     "metadata": {
      "needs_background": "light"
     },
     "output_type": "display_data"
    }
   ],
   "source": [
    "x = np.linspace(-7,7,num=1000)\n",
    "r = abs(x)\n",
    "\n",
    "c = [0.444635,0.535328,0.154329]\n",
    "alpha = [0.109818,0.405771,2.227660]\n",
    "\n",
    "psi = 0\n",
    "for k in range(3):\n",
    "  psi += c[k]*(2*alpha[k]/np.pi)**0.75 * np.exp(-alpha[k]*r**2)\n",
    "\n",
    "plt.figure(figsize=(5,3))\n",
    "plt.plot(x,psi,label=\"STO-3G 1s H\")\n",
    "plt.legend()"
   ]
  },
  {
   "cell_type": "markdown",
   "metadata": {
    "id": "T7keT_P5dHEz"
   },
   "source": [
    "Figure 4.7 – Plot of the STO-3G function for the $1s$ orbital of the hydrogen atom"
   ]
  },
  {
   "cell_type": "code",
   "execution_count": 16,
   "metadata": {
    "colab": {
     "base_uri": "https://localhost:8080/",
     "height": 228
    },
    "executionInfo": {
     "elapsed": 15,
     "status": "ok",
     "timestamp": 1650284139081,
     "user": {
      "displayName": "Alain Chancé",
      "userId": "15344856735617693852"
     },
     "user_tz": -120
    },
    "id": "yMk0-ZA2dhFP",
    "outputId": "9016a6e9-efbd-48b8-d990-5847c23e0cf3"
   },
   "outputs": [
    {
     "data": {
      "text/plain": [
       "<matplotlib.legend.Legend at 0x7f89f7e5fd60>"
      ]
     },
     "execution_count": 16,
     "metadata": {},
     "output_type": "execute_result"
    },
    {
     "data": {
      "image/png": "[encoded data removed]",
      "text/plain": [
       "<Figure size 360x216 with 1 Axes>"
      ]
     },
     "metadata": {
      "needs_background": "light"
     },
     "output_type": "display_data"
    }
   ],
   "source": [
    "x = np.linspace(-7,7,num=1000)\n",
    "r1 = abs(x+2.5)\n",
    "r2 = abs(x-2.5)\n",
    "\n",
    "c = [0.444635,0.535328,0.154329]\n",
    "alpha = [0.109818,0.405771,2.227660]\n",
    "\n",
    "psi = 0\n",
    "for k in range(3):\n",
    "  psi += c[k]*(2*alpha[k]/np.pi)**0.75 * np.exp(-alpha[k]*r1**2) \\\n",
    "  - c[k]*(2*alpha[k]/np.pi)**0.75 * np.exp(-alpha[k]*r2**2)\n",
    "\n",
    "plt.figure(figsize=(5,3))\n",
    "plt.plot(x,psi,label=\"Antisymmetric STO-3G H2\")\n",
    "plt.legend()"
   ]
  },
  {
   "cell_type": "markdown",
   "metadata": {
    "id": "LRI5hmjBdDZz"
   },
   "source": [
    "Figure 4.8 – Plot of the antisymmetric STO-3G function for the $1s$ orbital of the hydrogen molecule\n",
    "\n",
    "# 4.6. Constructing a fermionic Hamiltonian with Qiskit Nature"
   ]
  },
  {
   "cell_type": "markdown",
   "metadata": {
    "id": "I-KDZaOKgguX"
   },
   "source": [
    "## 4.6.1. Constructing a fermionic Hamiltonian operator of the hydrogen molecule"
   ]
  },
  {
   "cell_type": "code",
   "execution_count": 17,
   "metadata": {
    "id": "19sGFlC3gguY"
   },
   "outputs": [],
   "source": [
    "# Electronic Structure Problems with v0.5\n",
    "# https://qiskit.org/documentation/nature/migration/00b_Electronic_structure_with_v0.5.html\n",
    "H2_atoms = [\"H\", \"H\"]\n",
    "H2_coords = [(0.0, 0.0, 0.0), (0.0, 0.0, 0.735)]\n",
    "H2_charge = 0\n",
    "H2_multiplicity = 1\n",
    "H2_atom_pair=(1, 0)\n",
    "H2_info_dict={'atoms':H2_atoms, 'coords':H2_coords, 'charge':H2_charge, 'multiplicity':H2_multiplicity, 'atom_pair':H2_atom_pair}\n",
    "\n",
    "H2_moleculeinfo = MoleculeInfo(H2_atoms, H2_coords, charge=H2_charge, multiplicity=H2_multiplicity)"
   ]
  },
  {
   "cell_type": "code",
   "execution_count": 18,
   "metadata": {
    "id": "T-yNF3Ffggua"
   },
   "outputs": [],
   "source": [
    "H2_driver = PySCFDriver.from_molecule(H2_moleculeinfo, basis=\"sto3g\")"
   ]
  },
  {
   "cell_type": "code",
   "execution_count": 19,
   "metadata": {
    "id": "LuBVRwpRfoqM"
   },
   "outputs": [],
   "source": [
    "H2_problem = H2_driver.run()"
   ]
  },
  {
   "cell_type": "code",
   "execution_count": 20,
   "metadata": {
    "id": "Y5LqycfQj8cl"
   },
   "outputs": [],
   "source": [
    "H2_fermionic_hamiltonian = H2_problem.hamiltonian"
   ]
  },
  {
   "cell_type": "code",
   "execution_count": 21,
   "metadata": {
    "id": "k8U-VwpFuQeY"
   },
   "outputs": [],
   "source": [
    "H2_second_q_op = H2_fermionic_hamiltonian.second_q_op()"
   ]
  },
  {
   "cell_type": "code",
   "execution_count": 22,
   "metadata": {
    "id": "T7TaBVkbkaoq"
   },
   "outputs": [],
   "source": [
    "def get_particle_number(problem, show=True):\n",
    "  \n",
    "  # https://qiskit.org/documentation/nature/stubs/qiskit_nature.second_q.problems.ElectronicStructureProblem.num_spin_orbitals.html\n",
    "  num_spin_orbitals = problem.num_spin_orbitals\n",
    "  num_particles = problem.num_particles\n",
    "  \n",
    "  if show:\n",
    "    print(\"Number of particles: {}\".format(num_particles))\n",
    "    print(\"Number of spin orbitals: {}\".format(num_spin_orbitals))\n",
    "    \n",
    "  return num_particles, num_spin_orbitals"
   ]
  },
  {
   "cell_type": "code",
   "execution_count": 23,
   "metadata": {
    "colab": {
     "base_uri": "https://localhost:8080/"
    },
    "executionInfo": {
     "elapsed": 37,
     "status": "ok",
     "timestamp": 1650284139434,
     "user": {
      "displayName": "Alain Chancé",
      "userId": "15344856735617693852"
     },
     "user_tz": -120
    },
    "id": "eZmUL_fNlCKW",
    "outputId": "8efa089a-1e25-4a0e-c3d9-441a97b698a2"
   },
   "outputs": [
    {
     "name": "stdout",
     "output_type": "stream",
     "text": [
      "Hydrogen molecule, basis: sto3g, Hartree-Fock calculation\n",
      "Number of particles: (1, 1)\n",
      "Number of spin orbitals: 4\n"
     ]
    }
   ],
   "source": [
    "print(\"Hydrogen molecule, basis: sto3g, Hartree-Fock calculation\")\n",
    "H2_num_particles, H2_num_spin_orbitals = get_particle_number(H2_problem)"
   ]
  },
  {
   "cell_type": "markdown",
   "metadata": {
    "id": "0rrskq3fLvxj"
   },
   "source": [
    "Figure 4.9 – Hydrogen molecule, Hartree-Fock calculation for the basis STO-3G, Particle Number"
   ]
  },
  {
   "cell_type": "code",
   "execution_count": 24,
   "metadata": {},
   "outputs": [
    {
     "name": "stdout",
     "output_type": "stream",
     "text": [
      "-1.1169989967540035\n"
     ]
    }
   ],
   "source": [
    "H2_reference_energy = H2_problem.reference_energy\n",
    "print(H2_reference_energy)"
   ]
  },
  {
   "cell_type": "markdown",
   "metadata": {
    "id": "5b-cLAPUgguc"
   },
   "source": [
    "Figure 4.12 – List of labels used by the Qiskit FermionicOp class"
   ]
  },
  {
   "cell_type": "code",
   "execution_count": 25,
   "metadata": {
    "colab": {
     "base_uri": "https://localhost:8080/"
    },
    "executionInfo": {
     "elapsed": 27,
     "status": "ok",
     "timestamp": 1650284139436,
     "user": {
      "displayName": "Alain Chancé",
      "userId": "15344856735617693852"
     },
     "user_tz": -120
    },
    "id": "n6lxmST7cLOD",
    "outputId": "d765f761-768a-4dc2-efd1-2405c8975dfe"
   },
   "outputs": [
    {
     "name": "stdout",
     "output_type": "stream",
     "text": [
      "Fermionic Operator\n",
      "number spin orbitals=4, number terms=36\n",
      "  -1.2563390730032498 * ( +_0 -_0 )\n",
      "+ -0.4718960072811426 * ( +_1 -_1 )\n",
      "+ -1.2563390730032498 * ( +_2 -_2 )\n",
      "+ -0.4718960072811426 * ( +_3 -_3 )\n",
      "+ 0.33785507740175813 * ( +_0 +_0 -_0 -_0 )\n",
      "+ 0.0904655998921157 * ( +_0 +_0 -_1 -_1 )\n",
      "+ 0.09046559989211564 * ( +_0 +_1 -_0 -_1 )\n",
      "+ 0.3322908651276484 * ( +_0 +_1 -_1 -_0 )\n",
      "+ 0.33785507740175813 * ( +_0 +_2 -_2 -_0 )\n",
      "+ 0.0904655998921157 * ( +_0 +_2 -_3 -_1 )\n",
      "+ 0.09046559989211564 * ( +_0 +_3 -_2 -_1 )\n",
      "+ 0.3322908651276484 * ( +_0 +_3 -_3 -_0 )\n",
      "+ 0.33229086512764827 * ( +_1 +_0 -_0 -_1 )\n",
      "+ 0.09046559989211572 * ( +_1 +_0 -_1 -_0 )\n",
      "+ 0.09046559989211564 * ( +_1 +_1 -_0 -_0 )\n",
      "+ 0.34928686136600906 * ( +_1 +_1 -_1 -_1 )\n",
      "+ 0.33229086512764827 * ( +_1 +_2 -_2 -_1 )\n",
      "+ 0.09046559989211572 * ( +_1 +_2 -_3 -_0 )\n",
      "+ 0.09046559989211564 * ( +_1 +_3 -_2 -_0 )\n",
      "+ 0.34928686136600906 * ( +_1 +_3 -_3 -_1 )\n",
      "...\n"
     ]
    }
   ],
   "source": [
    "# We print the first 20 terms of the fermionic Hamiltonian operator of the molecule\n",
    "# https://qiskit.org/documentation/nature/migration/00b_Electronic_structure_with_v0.5.html\n",
    "print(\"\\n\".join(str(H2_second_q_op).splitlines()[:22] + [\"...\"]))"
   ]
  },
  {
   "cell_type": "markdown",
   "metadata": {
    "id": "XO8XjnclvBX-"
   },
   "source": [
    "Figure 4.13 – Fermionic Hamiltonian operator of the hydrogen molecule"
   ]
  },
  {
   "cell_type": "code",
   "execution_count": 26,
   "metadata": {
    "colab": {
     "base_uri": "https://localhost:8080/"
    },
    "executionInfo": {
     "elapsed": 20,
     "status": "ok",
     "timestamp": 1650284139436,
     "user": {
      "displayName": "Alain Chancé",
      "userId": "15344856735617693852"
     },
     "user_tz": -120
    },
    "id": "UuhUOBHSuw_I",
    "outputId": "50c17869-3bec-46f0-c8b6-7ab92b254084"
   },
   "outputs": [
    {
     "name": "stdout",
     "output_type": "stream",
     "text": [
      "  (1, 1)\t(-0.4718960072811426+0j)\n",
      "  (2, 2)\t(-1.2563390730032498+0j)\n",
      "  (3, 3)\t(-1.2445845498133272+0j)\n",
      "  (4, 4)\t(-0.4718960072811426+0j)\n",
      "  (5, 5)\t(-0.2452182918302671+0j)\n",
      "  (10, 5)\t(0.1809311997842314+0j)\n",
      "  (6, 6)\t(-1.0636533500290957+0j)\n",
      "  (9, 6)\t(0.18093119978423136+0j)\n",
      "  (7, 7)\t(-0.3533251041071552+0j)\n",
      "  (8, 8)\t(-1.2563390730032498+0j)\n",
      "  (6, 9)\t(0.18093119978423136+0j)\n",
      "  (9, 9)\t(-1.063653350029096+0j)\n",
      "  (5, 10)\t(0.18093119978423128+0j)\n",
      "  (10, 10)\t(-1.8369679912029833+0j)\n",
      "  (11, 11)\t(-1.1606317377577635+0j)\n",
      "  (12, 12)\t(-1.2445845498133272+0j)\n",
      "  (13, 13)\t(-0.353325104107155+0j)\n",
      "  (14, 14)\t(-1.1606317377577644+0j)\n",
      "  (15, 15)\t(0.21427823841947374+0j)\n"
     ]
    }
   ],
   "source": [
    "print(H2_second_q_op.to_matrix())"
   ]
  },
  {
   "cell_type": "markdown",
   "metadata": {
    "id": "ZHzOSEKRqxTQ"
   },
   "source": [
    "Figure 4.14 – Matrix representation of the fermionic Hamiltonian operator of the hydrogen molecule in the Fock basis\n",
    "\n",
    "Figure 4.15 – Particle number operators of the fermionic Hamiltonian of the hydrogen molecule\n",
    "\n",
    "Figure 4.16 – Two-electron exchange operators of the fermionic Hamiltonian of the hydrogen molecule"
   ]
  },
  {
   "cell_type": "markdown",
   "metadata": {
    "id": "Lw3qe3OpSK80"
   },
   "source": [
    "## 4.6.2. Constructing a fermionic Hamiltonian operator of the lithium hydride molecule"
   ]
  },
  {
   "cell_type": "code",
   "execution_count": 27,
   "metadata": {
    "id": "oDXsG7ac0F1J"
   },
   "outputs": [],
   "source": [
    "LiH_atoms = [\"Li\", \"H\"]\n",
    "LiH_coords = [(0.0, 0.0, 0.0), (0.0, 0.0, 1.5474)]\n",
    "LiH_charge = 0\n",
    "LiH_multiplicity = 1\n",
    "LiH_atom_pair=(1,0)\n",
    "LiH_info_dict={'atoms':LiH_atoms, 'coords':LiH_coords, 'charge':LiH_charge, 'multiplicity':LiH_multiplicity, 'atom_pair':LiH_atom_pair}\n",
    "\n",
    "LiH_moleculeinfo = MoleculeInfo(LiH_atoms, LiH_coords, charge=LiH_charge, multiplicity=LiH_multiplicity)"
   ]
  },
  {
   "cell_type": "code",
   "execution_count": 28,
   "metadata": {
    "id": "8HpcPjmzV04e"
   },
   "outputs": [],
   "source": [
    "LiH_driver = PySCFDriver.from_molecule(LiH_moleculeinfo, basis=\"sto3g\")"
   ]
  },
  {
   "cell_type": "code",
   "execution_count": 29,
   "metadata": {
    "id": "2vfOkSzYVPxt"
   },
   "outputs": [],
   "source": [
    "LiH_problem = LiH_driver.run()"
   ]
  },
  {
   "cell_type": "code",
   "execution_count": 30,
   "metadata": {},
   "outputs": [],
   "source": [
    "#https://qiskit.org/documentation/nature/migration/00b_Electronic_structure_with_v0.5.html\n",
    "transformer = FreezeCoreTransformer(freeze_core=True, remove_orbitals=[4, 3])\n",
    "LiH_problem = transformer.transform(LiH_problem)"
   ]
  },
  {
   "cell_type": "code",
   "execution_count": 31,
   "metadata": {},
   "outputs": [],
   "source": [
    "LiH_fermionic_hamiltonian = LiH_problem.hamiltonian"
   ]
  },
  {
   "cell_type": "code",
   "execution_count": 32,
   "metadata": {
    "id": "wumUN2WkA4X1"
   },
   "outputs": [],
   "source": [
    "LiH_second_q_op = LiH_fermionic_hamiltonian.second_q_op()"
   ]
  },
  {
   "cell_type": "code",
   "execution_count": 33,
   "metadata": {
    "colab": {
     "base_uri": "https://localhost:8080/"
    },
    "executionInfo": {
     "elapsed": 36,
     "status": "ok",
     "timestamp": 1650284139708,
     "user": {
      "displayName": "Alain Chancé",
      "userId": "15344856735617693852"
     },
     "user_tz": -120
    },
    "id": "QQc-uDMHwZ8H",
    "outputId": "4881a145-c059-4392-8301-a31a5e532db0"
   },
   "outputs": [
    {
     "name": "stdout",
     "output_type": "stream",
     "text": [
      "Lithium hydride molecule, basis: sto3g, Hartree-Fock calculation\n",
      "Parameters freeze_core=True, remove_orbitals=[4, 3]\n",
      "Number of particles: (1, 1)\n",
      "Number of spin orbitals: 6\n"
     ]
    }
   ],
   "source": [
    "print(\"Lithium hydride molecule, basis: sto3g, Hartree-Fock calculation\")\n",
    "print(\"Parameters freeze_core=True, remove_orbitals=[4, 3]\")\n",
    "LiH_particle_number = get_particle_number(LiH_problem)"
   ]
  },
  {
   "cell_type": "markdown",
   "metadata": {
    "id": "M2jf-uCib4P_"
   },
   "source": [
    "Figure 4.17 – Lithium hydride molecule, Hartree-Fock calculation for the basis STO-3G, Particle Number"
   ]
  },
  {
   "cell_type": "code",
   "execution_count": 34,
   "metadata": {
    "colab": {
     "base_uri": "https://localhost:8080/"
    },
    "executionInfo": {
     "elapsed": 14,
     "status": "ok",
     "timestamp": 1650284139708,
     "user": {
      "displayName": "Alain Chancé",
      "userId": "15344856735617693852"
     },
     "user_tz": -120
    },
    "id": "d00asZLvKn3a",
    "outputId": "b7ad8acc-3d07-4e93-e593-9aa597a69cde"
   },
   "outputs": [
    {
     "name": "stdout",
     "output_type": "stream",
     "text": [
      "-7.863113882796402\n"
     ]
    }
   ],
   "source": [
    "LiH_reference_energy = LiH_problem.reference_energy\n",
    "print(LiH_reference_energy)"
   ]
  },
  {
   "cell_type": "code",
   "execution_count": 35,
   "metadata": {
    "colab": {
     "base_uri": "https://localhost:8080/"
    },
    "executionInfo": {
     "elapsed": 9,
     "status": "ok",
     "timestamp": 1650284139708,
     "user": {
      "displayName": "Alain Chancé",
      "userId": "15344856735617693852"
     },
     "user_tz": -120
    },
    "id": "YYCGy2pSuQUo",
    "outputId": "013a9212-292d-48fe-c1f6-b9a34578d567"
   },
   "outputs": [
    {
     "name": "stdout",
     "output_type": "stream",
     "text": [
      "Fermionic Operator\n",
      "number spin orbitals=4, number terms=36\n",
      "  -1.2563390730032498 * ( +_0 -_0 )\n",
      "+ -0.4718960072811426 * ( +_1 -_1 )\n",
      "+ -1.2563390730032498 * ( +_2 -_2 )\n",
      "+ -0.4718960072811426 * ( +_3 -_3 )\n",
      "+ 0.33785507740175813 * ( +_0 +_0 -_0 -_0 )\n",
      "+ 0.0904655998921157 * ( +_0 +_0 -_1 -_1 )\n",
      "+ 0.09046559989211564 * ( +_0 +_1 -_0 -_1 )\n",
      "+ 0.3322908651276484 * ( +_0 +_1 -_1 -_0 )\n",
      "+ 0.33785507740175813 * ( +_0 +_2 -_2 -_0 )\n",
      "+ 0.0904655998921157 * ( +_0 +_2 -_3 -_1 )\n",
      "+ 0.09046559989211564 * ( +_0 +_3 -_2 -_1 )\n",
      "+ 0.3322908651276484 * ( +_0 +_3 -_3 -_0 )\n",
      "+ 0.33229086512764827 * ( +_1 +_0 -_0 -_1 )\n",
      "+ 0.09046559989211572 * ( +_1 +_0 -_1 -_0 )\n",
      "+ 0.09046559989211564 * ( +_1 +_1 -_0 -_0 )\n",
      "+ 0.34928686136600906 * ( +_1 +_1 -_1 -_1 )\n",
      "+ 0.33229086512764827 * ( +_1 +_2 -_2 -_1 )\n",
      "+ 0.09046559989211572 * ( +_1 +_2 -_3 -_0 )\n",
      "+ 0.09046559989211564 * ( +_1 +_3 -_2 -_0 )\n",
      "+ 0.34928686136600906 * ( +_1 +_3 -_3 -_1 )\n",
      "...\n"
     ]
    }
   ],
   "source": [
    "# We print the first 20 terms of the fermionic Hamiltonian operator of the molecule\n",
    "# https://qiskit.org/documentation/nature/migration/00b_Electronic_structure_with_v0.5.html\n",
    "print(\"\\n\".join(str(H2_second_q_op).splitlines()[:22] + [\"...\"]))"
   ]
  },
  {
   "cell_type": "markdown",
   "metadata": {
    "id": "EyXsyHbFuy8v"
   },
   "source": [
    "Figure 4.20 – First 20 terms of the fermionic Hamiltonian operator of the lithium hydride molecule"
   ]
  },
  {
   "cell_type": "code",
   "execution_count": 36,
   "metadata": {
    "colab": {
     "base_uri": "https://localhost:8080/"
    },
    "executionInfo": {
     "elapsed": 1416,
     "status": "ok",
     "timestamp": 1650284141121,
     "user": {
      "displayName": "Alain Chancé",
      "userId": "15344856735617693852"
     },
     "user_tz": -120
    },
    "id": "h5kodlC-8LhU",
    "outputId": "8dd901e2-0143-4838-c07c-261311d9c8c5"
   },
   "outputs": [
    {
     "name": "stdout",
     "output_type": "stream",
     "text": [
      "  (1, 1)\t(-0.22617114899837443+0j)\n",
      "  (2, 1)\t(0.06823802789342787+0j)\n",
      "  (4, 1)\t(-0.1295811889749172+0j)\n",
      "  (1, 2)\t(0.06823802789342748+0j)\n",
      "  (2, 2)\t(-0.35909729348095665+0j)\n",
      "  (4, 2)\t(0.04770212338497577+0j)\n",
      "  (3, 3)\t(-0.3698582649469247+0j)\n",
      "  (5, 3)\t(0.03641071131675069+0j)\n",
      "  (6, 3)\t(0.14941663465684424+0j)\n",
      "  (1, 4)\t(-0.12958118897491705+0j)\n",
      "  (2, 4)\t(0.04770212338497589+0j)\n",
      "  (4, 4)\t(-0.7806641144801202+0j)\n",
      "  (3, 5)\t(0.03641071131675095+0j)\n",
      "  (5, 5)\t(-0.6744095760097227+0j)\n",
      "  (6, 5)\t(0.05111732964059724+0j)\n",
      "  (3, 6)\t(0.14941663465684402+0j)\n",
      "  (5, 6)\t(0.05111732964059683+0j)\n",
      "  (6, 6)\t(-0.9271642107743943+0j)\n",
      "  (7, 7)\t(-0.6054994947715904+0j)\n",
      "  (8, 8)\t(-0.22617114899837443+0j)\n",
      "  (16, 8)\t(0.06823802789342787+0j)\n",
      "  (32, 8)\t(-0.1295811889749172+0j)\n",
      "  (9, 9)\t(0.0030311090617913816+0j)\n",
      "  (10, 9)\t(0.02442693359812985+0j)\n",
      "  (12, 9)\t(0.007977803586938642+0j)\n",
      "  :\t:\n",
      "  (53, 54)\t(0.036010002483782014+0j)\n",
      "  (54, 54)\t(-0.5746431503966245+0j)\n",
      "  (31, 55)\t(-0.10677454473514049+0j)\n",
      "  (47, 55)\t(-0.007801091811516198+0j)\n",
      "  (55, 55)\t(0.4445921552206869+0j)\n",
      "  (56, 56)\t(-0.6054994947715904+0j)\n",
      "  (57, 57)\t(0.32127335290308223+0j)\n",
      "  (58, 57)\t(0.009319606441315024+0j)\n",
      "  (60, 57)\t(0.12660999041706697+0j)\n",
      "  (57, 58)\t(0.009319606441314649+0j)\n",
      "  (58, 58)\t(-0.15927589159816213+0j)\n",
      "  (60, 58)\t(-0.03593755903543455+0j)\n",
      "  (59, 59)\t(0.9829071336089169+0j)\n",
      "  (61, 59)\t(-0.04722897110365963+0j)\n",
      "  (62, 59)\t(-0.10677454473513992+0j)\n",
      "  (57, 60)\t(0.1266099904170671+0j)\n",
      "  (58, 60)\t(-0.03593755903543444+0j)\n",
      "  (60, 60)\t(-0.2142286451394247+0j)\n",
      "  (59, 61)\t(-0.04722897110365938+0j)\n",
      "  (61, 61)\t(1.0449698900040199+0j)\n",
      "  (62, 61)\t(-0.007801091811515597+0j)\n",
      "  (59, 62)\t(-0.10677454473514014+0j)\n",
      "  (61, 62)\t(-0.007801091811516+0j)\n",
      "  (62, 62)\t(0.4445921552206861+0j)\n",
      "  (63, 63)\t(1.9192008678965367+0j)\n"
     ]
    }
   ],
   "source": [
    "print(LiH_second_q_op.to_matrix())"
   ]
  },
  {
   "cell_type": "markdown",
   "metadata": {
    "id": "cB-eC4eKYFcv"
   },
   "source": [
    "Figure 4.21 – Matrix representation of the Fermionic Hamiltonian operator of the lithium hydride molecule in the Fock basis\n",
    "\n",
    "# 4.7. Fermion to qubit mappings"
   ]
  },
  {
   "cell_type": "markdown",
   "metadata": {
    "id": "bvCNLUHxg5Mq"
   },
   "source": [
    "## 4.7.1. Qubit creation and annihilation operators\n",
    "\n",
    "Figure 4.22 – Qubit creation and annihilation operators"
   ]
  },
  {
   "cell_type": "markdown",
   "metadata": {
    "id": "AdPIXHnjeOog"
   },
   "source": [
    "## 4.7.2. Jordan-Wigner transformation\n",
    "Figure 4.23 – Jordan-Wigner transformation"
   ]
  },
  {
   "cell_type": "code",
   "execution_count": 37,
   "metadata": {},
   "outputs": [],
   "source": [
    "# https://qiskit.org/documentation/nature/locale/bn_BN/stubs/qiskit_nature.second_q.operators.FermionicOp.html\n",
    "# A FermionicOp is initialized with a dictionary, mapping terms to their respective coefficients\n",
    "def label_to_qubit(label, converter):\n",
    "    qubit_converter = QubitConverter(converter)\n",
    "    f_op = FermionicOp(label)\n",
    "    qubit_op = qubit_converter.convert(f_op)\n",
    "    return qubit_op"
   ]
  },
  {
   "cell_type": "code",
   "execution_count": 38,
   "metadata": {
    "colab": {
     "base_uri": "https://localhost:8080/"
    },
    "executionInfo": {
     "elapsed": 24,
     "status": "ok",
     "timestamp": 1650284141122,
     "user": {
      "displayName": "Alain Chancé",
      "userId": "15344856735617693852"
     },
     "user_tz": -120
    },
    "id": "LbmLpvZx18X1",
    "outputId": "a95e0a56-de45-49c2-c6c7-f4d0b49b805e"
   },
   "outputs": [
    {
     "name": "stdout",
     "output_type": "stream",
     "text": [
      "{'+_0': 1.0}:\n",
      " 0.5 * X\n",
      "+ -0.5j * Y\n",
      "\n",
      "{'+_1': 1.0}:\n",
      " 0.5 * XZ\n",
      "+ -0.5j * YZ\n",
      "\n",
      "{'+_2': 1.0}:\n",
      " 0.5 * XZZ\n",
      "+ -0.5j * YZZ\n",
      "\n",
      "{'+_3': 1.0}:\n",
      " 0.5 * XZZZ\n",
      "+ -0.5j * YZZZ\n",
      "\n",
      "{'+_4': 1.0}:\n",
      " 0.5 * XZZZZ\n",
      "+ -0.5j * YZZZZ\n",
      "\n"
     ]
    }
   ],
   "source": [
    "for k in ({\"+_0\":1.0}, {\"+_1\":1.0}, {\"+_2\":1.0}, {\"+_3\":1.0}, {\"+_4\":1.0}):\n",
    "  qubit_op = label_to_qubit(k, JordanWignerMapper())\n",
    "  print(\"{}:\\n {}\\n\".format(k, qubit_op))"
   ]
  },
  {
   "cell_type": "markdown",
   "metadata": {
    "id": "Di97v1-2m4Nh"
   },
   "source": [
    "Figure 4.24 – Jordan-Wigner transformation illustrated with \"+_0\", \"+_1\", \"+_2\", \"+_3\", \"+_4\"\n",
    "\n",
    "## 4.7.3. Parity transformation\n",
    "\n",
    "Figure 4.25 – Parity transformation"
   ]
  },
  {
   "cell_type": "code",
   "execution_count": 39,
   "metadata": {
    "colab": {
     "base_uri": "https://localhost:8080/"
    },
    "executionInfo": {
     "elapsed": 23,
     "status": "ok",
     "timestamp": 1650284141123,
     "user": {
      "displayName": "Alain Chancé",
      "userId": "15344856735617693852"
     },
     "user_tz": -120
    },
    "id": "yoWuByO3DIlM",
    "outputId": "f963b8af-7f8b-40b8-ea73-d3af437b174b"
   },
   "outputs": [
    {
     "name": "stdout",
     "output_type": "stream",
     "text": [
      "{'+_0': 1.0}:\n",
      " 0.5 * X\n",
      "+ -0.5j * Y\n",
      "\n",
      "{'+_1': 1.0}:\n",
      " 0.5 * XZ\n",
      "+ -0.5j * YI\n",
      "\n",
      "{'+_2': 1.0}:\n",
      " 0.5 * XZI\n",
      "+ -0.5j * YII\n",
      "\n",
      "{'+_3': 1.0}:\n",
      " 0.5 * XZII\n",
      "+ -0.5j * YIII\n",
      "\n",
      "{'+_4': 1.0}:\n",
      " 0.5 * XZIII\n",
      "+ -0.5j * YIIII\n",
      "\n"
     ]
    }
   ],
   "source": [
    "for k in ({\"+_0\":1.0}, {\"+_1\":1.0}, {\"+_2\":1.0}, {\"+_3\":1.0}, {\"+_4\":1.0}):\n",
    "  qubit_op = label_to_qubit(k, ParityMapper())\n",
    "  print(\"{}:\\n {}\\n\".format(k, qubit_op))"
   ]
  },
  {
   "cell_type": "markdown",
   "metadata": {
    "id": "VdBTwgJqip_i"
   },
   "source": [
    "Figure 4.26 – Parity transformation illustrated with \"+_0\", \"+_1\", \"+_2\", \"+_3\", \"+_4\"\n",
    "\n",
    "## 4.7.4. Bravyi-Kitaev transformation"
   ]
  },
  {
   "cell_type": "code",
   "execution_count": 40,
   "metadata": {
    "id": "wN6H1OUWB7Zw"
   },
   "outputs": [],
   "source": [
    "def BK(m):\n",
    "  I = [[1, 0], [0, 1]]\n",
    "  d = {}\n",
    "  d[0] = [1]\n",
    "  for k in range(0, m):\n",
    "    B = np.kron(I,d[k])\n",
    "    for l in range(2**k, 2**(k+1)):\n",
    "      B[0,l] = 1\n",
    "    d[k+1] = B\n",
    "  return d"
   ]
  },
  {
   "cell_type": "code",
   "execution_count": 41,
   "metadata": {
    "colab": {
     "base_uri": "https://localhost:8080/",
     "height": 392
    },
    "executionInfo": {
     "elapsed": 17,
     "status": "ok",
     "timestamp": 1650284141124,
     "user": {
      "displayName": "Alain Chancé",
      "userId": "15344856735617693852"
     },
     "user_tz": -120
    },
    "id": "Wi0LFFWKZ9-J",
    "outputId": "5ddd4314-f747-43a0-948e-3eb3e8097556"
   },
   "outputs": [
    {
     "data": {
      "text/latex": [
       "$$\n",
       "B_{1} = \n",
       "\\begin{bmatrix}\n",
       "1  \\\\\n",
       " \\end{bmatrix}\n",
       "$$"
      ],
      "text/plain": [
       "<IPython.core.display.Latex object>"
      ]
     },
     "metadata": {},
     "output_type": "display_data"
    },
    {
     "name": "stdout",
     "output_type": "stream",
     "text": [
      " \n"
     ]
    },
    {
     "data": {
      "text/latex": [
       "$$\n",
       "B_{2} = \n",
       "\\begin{bmatrix}\n",
       "1 & 1  \\\\\n",
       " 0 & 1  \\\\\n",
       " \\end{bmatrix}\n",
       "$$"
      ],
      "text/plain": [
       "<IPython.core.display.Latex object>"
      ]
     },
     "metadata": {},
     "output_type": "display_data"
    },
    {
     "name": "stdout",
     "output_type": "stream",
     "text": [
      " \n"
     ]
    },
    {
     "data": {
      "text/latex": [
       "$$\n",
       "B_{4} = \n",
       "\\begin{bmatrix}\n",
       "1 & 1 & 1 & 1  \\\\\n",
       " 0 & 1 & 0 & 0  \\\\\n",
       " 0 & 0 & 1 & 1  \\\\\n",
       " 0 & 0 & 0 & 1  \\\\\n",
       " \\end{bmatrix}\n",
       "$$"
      ],
      "text/plain": [
       "<IPython.core.display.Latex object>"
      ]
     },
     "metadata": {},
     "output_type": "display_data"
    },
    {
     "name": "stdout",
     "output_type": "stream",
     "text": [
      " \n"
     ]
    },
    {
     "data": {
      "text/latex": [
       "$$\n",
       "B_{8} = \n",
       "\\begin{bmatrix}\n",
       "1 & 1 & 1 & 1 & 1 & 1 & 1 & 1  \\\\\n",
       " 0 & 1 & 0 & 0 & 0 & 0 & 0 & 0  \\\\\n",
       " 0 & 0 & 1 & 1 & 0 & 0 & 0 & 0  \\\\\n",
       " 0 & 0 & 0 & 1 & 0 & 0 & 0 & 0  \\\\\n",
       " 0 & 0 & 0 & 0 & 1 & 1 & 1 & 1  \\\\\n",
       " 0 & 0 & 0 & 0 & 0 & 1 & 0 & 0  \\\\\n",
       " 0 & 0 & 0 & 0 & 0 & 0 & 1 & 1  \\\\\n",
       " 0 & 0 & 0 & 0 & 0 & 0 & 0 & 1  \\\\\n",
       " \\end{bmatrix}\n",
       "$$"
      ],
      "text/plain": [
       "<IPython.core.display.Latex object>"
      ]
     },
     "metadata": {},
     "output_type": "display_data"
    },
    {
     "name": "stdout",
     "output_type": "stream",
     "text": [
      " \n"
     ]
    }
   ],
   "source": [
    "d = BK(3)\n",
    "for k, v in d.items():\n",
    "  s = \"B_{\"+str(2**k)+\"} = \"\n",
    "  display(array_to_latex(v, prefix=s, precision = 0))\n",
    "  print(\" \")"
   ]
  },
  {
   "cell_type": "markdown",
   "metadata": {
    "id": "Pt0QInTUGfRM"
   },
   "source": [
    "Figure 4.27 – BK matrices $B_1$, $B_2$, $B_4$ and $B_8$\n",
    "\n",
    "Figure 4.28 – BK transformation"
   ]
  },
  {
   "cell_type": "code",
   "execution_count": 42,
   "metadata": {
    "colab": {
     "base_uri": "https://localhost:8080/"
    },
    "executionInfo": {
     "elapsed": 15,
     "status": "ok",
     "timestamp": 1650284141125,
     "user": {
      "displayName": "Alain Chancé",
      "userId": "15344856735617693852"
     },
     "user_tz": -120
    },
    "id": "SVqbCYNhGziz",
    "outputId": "2c1b66cc-ce32-40b2-bad3-6351cb33e08d"
   },
   "outputs": [
    {
     "name": "stdout",
     "output_type": "stream",
     "text": [
      "{'+_0': 1.0}:\n",
      " 0.5 * X\n",
      "+ -0.5j * Y\n",
      "\n",
      "{'+_1': 1.0}:\n",
      " 0.5 * XZ\n",
      "+ -0.5j * YI\n",
      "\n",
      "{'+_2': 1.0}:\n",
      " 0.5 * XZI\n",
      "+ -0.5j * YZI\n",
      "\n",
      "{'+_3': 1.0}:\n",
      " 0.5 * XZZI\n",
      "+ -0.5j * YIII\n",
      "\n",
      "{'+_4': 1.0}:\n",
      " 0.5 * XZIII\n",
      "+ -0.5j * YZIII\n",
      "\n"
     ]
    }
   ],
   "source": [
    "for k in ({\"+_0\":1.0}, {\"+_1\":1.0}, {\"+_2\":1.0}, {\"+_3\":1.0}, {\"+_4\":1.0}):\n",
    "  qubit_op = label_to_qubit(k, BravyiKitaevMapper())\n",
    "  print(\"{}:\\n {}\\n\".format(k, qubit_op))"
   ]
  },
  {
   "cell_type": "markdown",
   "metadata": {
    "id": "lp2-QxbQh8Tf"
   },
   "source": [
    "Figure 4.29 – Bravyi-Kitaev transformation illustrated with \"+_0\", \"+_1\", \"+_2\", \"+_3\", \"+_4\"\n",
    "\n",
    "# 4.8. Constructing a qubit Hamiltonian with Qiskit Nature"
   ]
  },
  {
   "cell_type": "code",
   "execution_count": 43,
   "metadata": {
    "id": "mpCk6k6mexVL"
   },
   "outputs": [],
   "source": [
    "def fermion_to_qubit(problem, second_q_op, mapper, truncate=20, two_qubit_reduction=False, z2symmetry_reduction=None, show=True): \n",
    "# Electronic Structure Problems with v0.5\n",
    "# https://qiskit.org/documentation/nature/migration/00b_Electronic_structure_with_v0.5.html\n",
    "# https://qiskit.org/documentation/nature/stubs/qiskit_nature.second_q.mappers.QubitConverter.html#qubitconverter\n",
    "  if show:\n",
    "    print(\"Qubit Hamiltonian operator\")\n",
    "  dmap = {\"Jordan-Wigner\": JordanWignerMapper(), \"Parity\": ParityMapper(), \"Bravyi-Kitaev\": BravyiKitaevMapper()}\n",
    "  qubit_op = None\n",
    "  qubit_converter = None\n",
    "  for k, v in dmap.items():\n",
    "    if k == mapper:\n",
    "      if show:\n",
    "        print(\"{} transformation \". format(mapper))\n",
    "      qubit_converter = QubitConverter(v, two_qubit_reduction=two_qubit_reduction, z2symmetry_reduction=z2symmetry_reduction)\n",
    "      # QubitConverter.convert\n",
    "      # https://qiskit.org/documentation/nature/stubs/qiskit_nature.second_q.mappers.QubitConverter.convert.html\n",
    "      if two_qubit_reduction:\n",
    "        qubit_op = qubit_converter.convert(second_q_op, num_particles=problem.num_particles)\n",
    "      else:\n",
    "        qubit_op = qubit_converter.convert(second_q_op)\n",
    "      n_items = len(qubit_op)\n",
    "      if show:\n",
    "        print(\"Number of items in the Pauli list:\", n_items)\n",
    "        if n_items <= truncate:\n",
    "          print(qubit_op)\n",
    "        else:\n",
    "          print(qubit_op[0:truncate])\n",
    "  return qubit_op, qubit_converter"
   ]
  },
  {
   "cell_type": "markdown",
   "metadata": {
    "id": "dnu8trf2jXgm"
   },
   "source": [
    "## 4.8.1. Constructing a qubit Hamiltonian operator of the hydrogen molecule"
   ]
  },
  {
   "cell_type": "code",
   "execution_count": 44,
   "metadata": {
    "colab": {
     "base_uri": "https://localhost:8080/"
    },
    "executionInfo": {
     "elapsed": 431,
     "status": "ok",
     "timestamp": 1650284141548,
     "user": {
      "displayName": "Alain Chancé",
      "userId": "15344856735617693852"
     },
     "user_tz": -120
    },
    "id": "m4itrsMdqemv",
    "outputId": "62b3c051-a91b-4c71-f313-62d21cd02bb8"
   },
   "outputs": [
    {
     "name": "stdout",
     "output_type": "stream",
     "text": [
      "Hydrogen molecule\n",
      "Qubit Hamiltonian operator\n",
      "Jordan-Wigner transformation \n",
      "Number of items in the Pauli list: 15\n",
      "-0.8105479805373256 * IIII\n",
      "+ 0.1721839326191555 * IIIZ\n",
      "- 0.22575349222402358 * IIZI\n",
      "+ 0.1721839326191552 * IZII\n",
      "- 0.22575349222402366 * ZIII\n",
      "+ 0.12091263261776636 * IIZZ\n",
      "+ 0.16892753870087907 * IZIZ\n",
      "+ 0.04523279994605784 * YYYY\n",
      "+ 0.04523279994605784 * XXYY\n",
      "+ 0.04523279994605784 * YYXX\n",
      "+ 0.04523279994605784 * XXXX\n",
      "+ 0.16614543256382414 * ZIIZ\n",
      "+ 0.16614543256382414 * IZZI\n",
      "+ 0.1746434306830045 * ZIZI\n",
      "+ 0.12091263261776636 * ZZII\n"
     ]
    }
   ],
   "source": [
    "print(\"Hydrogen molecule\")\n",
    "H2_qubit_op, qubit_converter = fermion_to_qubit(H2_problem, H2_second_q_op, \"Jordan-Wigner\", two_qubit_reduction=True)"
   ]
  },
  {
   "cell_type": "markdown",
   "metadata": {
    "id": "6sDkWL73icSc"
   },
   "source": [
    "Figure 4.30 – Qubit Hamiltonian operator of $H_2$ with the JW transformation"
   ]
  },
  {
   "cell_type": "code",
   "execution_count": 45,
   "metadata": {
    "colab": {
     "base_uri": "https://localhost:8080/"
    },
    "executionInfo": {
     "elapsed": 14,
     "status": "ok",
     "timestamp": 1650284141548,
     "user": {
      "displayName": "Alain Chancé",
      "userId": "15344856735617693852"
     },
     "user_tz": -120
    },
    "id": "e2ZxA1QZpwV-",
    "outputId": "8194c992-ea73-4b00-aa1d-123a9978282c"
   },
   "outputs": [
    {
     "name": "stdout",
     "output_type": "stream",
     "text": [
      "Hydrogen molecule\n",
      "Qubit Hamiltonian operator\n",
      "Parity transformation \n",
      "Number of items in the Pauli list: 5\n",
      "-1.0523732457728578 * II\n",
      "+ 0.39793742484317896 * IZ\n",
      "- 0.39793742484317873 * ZI\n",
      "- 0.011280104256235296 * ZZ\n",
      "+ 0.18093119978423128 * XX\n"
     ]
    }
   ],
   "source": [
    "print(\"Hydrogen molecule\")\n",
    "H2_qubit_op, qubit_converter = fermion_to_qubit(H2_problem, H2_second_q_op, \"Parity\", two_qubit_reduction=True)"
   ]
  },
  {
   "cell_type": "markdown",
   "metadata": {
    "id": "WSpdrrkzitLF"
   },
   "source": [
    "Figure 4.31 – Qubit Hamiltonian operator of $H_2$ with parity transformation, two_qubit_reduction True"
   ]
  },
  {
   "cell_type": "code",
   "execution_count": 46,
   "metadata": {
    "colab": {
     "base_uri": "https://localhost:8080/"
    },
    "executionInfo": {
     "elapsed": 11,
     "status": "ok",
     "timestamp": 1650284141549,
     "user": {
      "displayName": "Alain Chancé",
      "userId": "15344856735617693852"
     },
     "user_tz": -120
    },
    "id": "muJf5AK36Dyf",
    "outputId": "7a2baa0a-e291-4511-e576-e0b9fa3885cb"
   },
   "outputs": [
    {
     "name": "stdout",
     "output_type": "stream",
     "text": [
      "Hydrogen molecule\n",
      "Qubit Hamiltonian operator\n",
      "Bravyi-Kitaev transformation \n",
      "Number of items in the Pauli list: 15\n",
      "-0.8105479805373256 * IIII\n",
      "+ 0.1721839326191555 * IIIZ\n",
      "- 0.22575349222402358 * IIZZ\n",
      "+ 0.1721839326191552 * IZII\n",
      "- 0.22575349222402366 * ZZZI\n",
      "+ 0.12091263261776636 * IIZI\n",
      "+ 0.16892753870087907 * IZIZ\n",
      "+ 0.04523279994605784 * ZXIX\n",
      "- 0.04523279994605784 * IXZX\n",
      "- 0.04523279994605784 * ZXZX\n",
      "+ 0.04523279994605784 * IXIX\n",
      "+ 0.16614543256382414 * ZZZZ\n",
      "+ 0.16614543256382414 * IZZZ\n",
      "+ 0.1746434306830045 * ZZIZ\n",
      "+ 0.12091263261776636 * ZIZI\n"
     ]
    }
   ],
   "source": [
    "print(\"Hydrogen molecule\")\n",
    "H2_qubit_op, qubit_converter = fermion_to_qubit(H2_problem, H2_second_q_op, \"Bravyi-Kitaev\", two_qubit_reduction=True)"
   ]
  },
  {
   "cell_type": "markdown",
   "metadata": {
    "id": "5XblKH7TjWEv"
   },
   "source": [
    "Figure 4.32 – Qubit Hamiltonian operator of $H_2$ with the Bravyi-Kitaev transformation\n",
    "\n",
    "## 4.8.2. Constructing a qubit Hamiltonian operator of the lithium hydride molecule"
   ]
  },
  {
   "cell_type": "code",
   "execution_count": 47,
   "metadata": {
    "colab": {
     "base_uri": "https://localhost:8080/"
    },
    "executionInfo": {
     "elapsed": 678,
     "status": "ok",
     "timestamp": 1650284142220,
     "user": {
      "displayName": "Alain Chancé",
      "userId": "15344856735617693852"
     },
     "user_tz": -120
    },
    "id": "kbpd4b7q6X6X",
    "outputId": "15a518c5-c4c3-4c95-db4f-57d418f77cad"
   },
   "outputs": [
    {
     "name": "stdout",
     "output_type": "stream",
     "text": [
      "Lithium hydride molecule\n",
      "Using the ParityMapper with two_qubit_reduction=True to eliminate two qubits\n",
      "Setting z2symmetry_reduction=\"auto\"\n",
      "Qubit Hamiltonian operator\n",
      "Parity transformation \n",
      "Number of items in the Pauli list: 100\n",
      "-0.20316606150559155 * IIII\n",
      "- 0.09275994933497653 * IIIZ\n",
      "- 0.0029411410873853247 * IIZX\n",
      "+ 0.0029411410873853247 * IIIX\n",
      "- 0.0007427996394624159 * IIXX\n",
      "+ 0.0007427996394624159 * IIYY\n",
      "- 0.2118898429700831 * IIZZ\n",
      "+ 0.01938940858368559 * IIXZ\n",
      "+ 0.019389408583685576 * IIXI\n",
      "+ 0.36525869021603946 * IIZI\n",
      "+ 0.09275994933497658 * IZII\n",
      "+ 0.002941141087385332 * ZXII\n",
      "+ 0.002941141087385332 * IXII\n",
      "- 0.0007427996394625096 * XXII\n",
      "+ 0.0007427996394625096 * YYII\n",
      "- 0.21188984297008306 * ZZII\n",
      "- 0.019389408583685624 * XZII\n",
      "+ 0.019389408583685624 * XIII\n",
      "- 0.3652586902160397 * ZIII\n",
      "- 0.12274244052542657 * IZIZ\n"
     ]
    }
   ],
   "source": [
    "print(\"Lithium hydride molecule\")\n",
    "print(\"Using the ParityMapper with two_qubit_reduction=True to eliminate two qubits\")\n",
    "print(\"Setting z2symmetry_reduction=\\\"auto\\\"\")\n",
    "LiH_qubit_op, qubit_converter = fermion_to_qubit(LiH_problem, LiH_second_q_op, \"Parity\", two_qubit_reduction=True, z2symmetry_reduction=\"auto\")"
   ]
  },
  {
   "cell_type": "markdown",
   "metadata": {
    "id": "LEMhBdT7FSQ1"
   },
   "source": [
    "Figure 4.33 – Qubit Hamiltonian operator of LiH with parity transformation, two_qubit_reduction True\n",
    "\n",
    "# Summary"
   ]
  },
  {
   "cell_type": "markdown",
   "metadata": {
    "id": "CTZXeX0q7YV2"
   },
   "source": [
    "# Questions\n",
    "\n",
    "1. Which of the following terms is neglected in the BO approximation?\n",
    "\n",
    "A.\tElectronic kinetic energy operator.\n",
    "\n",
    "B.\tNuclear kinetic energy operator.\n",
    "\n",
    "C.\tPotential energy between the electrons and nuclei. It is the sum of all electron-nucleus Coulomb interactions.\n",
    "\n",
    "D.\tPotential energy operator arising from electron-electron Coulomb repulsions."
   ]
  },
  {
   "cell_type": "code",
   "execution_count": 48,
   "metadata": {
    "cellView": "form",
    "colab": {
     "base_uri": "https://localhost:8080/"
    },
    "executionInfo": {
     "elapsed": 27,
     "status": "ok",
     "timestamp": 1650284142221,
     "user": {
      "displayName": "Alain Chancé",
      "userId": "15344856735617693852"
     },
     "user_tz": -120
    },
    "id": "DtfjLkr-7wsF",
    "outputId": "166f8491-e50a-4cad-b92d-5e40b0bc0d54"
   },
   "outputs": [
    {
     "name": "stdout",
     "output_type": "stream",
     "text": [
      "Incorrect, please try again\n"
     ]
    }
   ],
   "source": [
    "#@title Enter your answer A, B, C, D or E or ? for a solution, then execute cell.\n",
    "answer = \" \" #@param {type:\"string\"}\n",
    "solution = \"B\"\n",
    "if answer == solution:\n",
    "  print(\"Correct\")\n",
    "elif answer == '?':\n",
    "  print(solution)\n",
    "else:\n",
    "  print(\"Incorrect, please try again\")"
   ]
  },
  {
   "cell_type": "markdown",
   "metadata": {
    "id": "4CxW6o7R8sk5"
   },
   "source": [
    "2. The Slater determinant wave function is antisymmetric with respect to: \n",
    "\n",
    "A.\tthe exchange of two electrons (permutation of two rows) or, \n",
    "\n",
    "B.\twith respect to the exchange of two spin orbitals (permutation of two columns)\n",
    "\n",
    "C.\tOr both the above?\n"
   ]
  },
  {
   "cell_type": "code",
   "execution_count": 49,
   "metadata": {
    "cellView": "form",
    "colab": {
     "base_uri": "https://localhost:8080/"
    },
    "executionInfo": {
     "elapsed": 21,
     "status": "ok",
     "timestamp": 1650284142221,
     "user": {
      "displayName": "Alain Chancé",
      "userId": "15344856735617693852"
     },
     "user_tz": -120
    },
    "id": "MEZy8MCz88kO",
    "outputId": "0802f76d-0c06-402a-8adb-11c7fab3d347"
   },
   "outputs": [
    {
     "name": "stdout",
     "output_type": "stream",
     "text": [
      "Incorrect, please try again\n"
     ]
    }
   ],
   "source": [
    "#@title Enter your answer A, B or C or ? for a solution, then execute cell.\n",
    "answer = \"\" #@param {type:\"string\"}\n",
    "solution = \"C\"\n",
    "if answer == solution:\n",
    "  print(\"Correct\")\n",
    "elif answer == '?':\n",
    "  print(solution)\n",
    "else:\n",
    "  print(\"Incorrect, please try again\")"
   ]
  },
  {
   "cell_type": "markdown",
   "metadata": {
    "id": "Zuh8pwSV9Yvc"
   },
   "source": [
    "3. Name three fermion to qubit transformations currently supported by Qiskit Nature."
   ]
  },
  {
   "cell_type": "code",
   "execution_count": 50,
   "metadata": {
    "cellView": "form",
    "colab": {
     "base_uri": "https://localhost:8080/"
    },
    "executionInfo": {
     "elapsed": 19,
     "status": "ok",
     "timestamp": 1650284142222,
     "user": {
      "displayName": "Alain Chancé",
      "userId": "15344856735617693852"
     },
     "user_tz": -120
    },
    "id": "UAC5uySv9f9L",
    "outputId": "574dbce9-26de-4c61-e5db-2060da4ef040"
   },
   "outputs": [
    {
     "name": "stdout",
     "output_type": "stream",
     "text": [
      "Incorrect, please try again\n"
     ]
    }
   ],
   "source": [
    "#@title Enter your answer as one or more words separated by ',' or ? for a solution, then execute cell.\n",
    "answer = \"\" #@param {type:\"string\"}\n",
    "solution = \"Jordan-Wigner, Parity, Bravyi-Kitaev\"\n",
    "if answer == solution:\n",
    "  print(\"Correct\")\n",
    "elif answer == '?':\n",
    "  print(solution)\n",
    "else:\n",
    "  print(\"Incorrect, please try again\")"
   ]
  },
  {
   "cell_type": "markdown",
   "metadata": {
    "id": "XlqcEsjy-DWE"
   },
   "source": [
    "4. Name two fermion to qubit transformations that simulates a system of electrons with the same number of qubits as electrons."
   ]
  },
  {
   "cell_type": "code",
   "execution_count": 51,
   "metadata": {
    "cellView": "form",
    "colab": {
     "base_uri": "https://localhost:8080/"
    },
    "executionInfo": {
     "elapsed": 14,
     "status": "ok",
     "timestamp": 1650284142223,
     "user": {
      "displayName": "Alain Chancé",
      "userId": "15344856735617693852"
     },
     "user_tz": -120
    },
    "id": "B3ED_Rcr-NdW",
    "outputId": "cacfcd4e-65db-4160-a26a-152152f95488"
   },
   "outputs": [
    {
     "name": "stdout",
     "output_type": "stream",
     "text": [
      "Incorrect, please try again\n"
     ]
    }
   ],
   "source": [
    "#@title Enter your answer as one or more words separated by ',' or ? for a solution, then execute cell.\n",
    "answer = \"\" #@param {type:\"string\"}\n",
    "solution = \"Jordan-Wigner, Parity\"\n",
    "if answer == solution:\n",
    "  print(\"Correct\")\n",
    "elif answer == '?':\n",
    "  print(solution)\n",
    "else:\n",
    "  print(\"Incorrect, please try again\")"
   ]
  },
  {
   "cell_type": "markdown",
   "metadata": {
    "id": "evV1mRFp-VbD"
   },
   "source": [
    "5.\tFor which transformation does the resulting Hamiltonian commute with the number spin up and number spin down operators which can be used to taper off two qubits?"
   ]
  },
  {
   "cell_type": "code",
   "execution_count": 52,
   "metadata": {
    "cellView": "form",
    "colab": {
     "base_uri": "https://localhost:8080/"
    },
    "executionInfo": {
     "elapsed": 9,
     "status": "ok",
     "timestamp": 1650284142223,
     "user": {
      "displayName": "Alain Chancé",
      "userId": "15344856735617693852"
     },
     "user_tz": -120
    },
    "id": "iUUXDtOc-bwr",
    "outputId": "53dba04a-42b2-4858-b791-29d1af47fab1"
   },
   "outputs": [
    {
     "name": "stdout",
     "output_type": "stream",
     "text": [
      "Incorrect, please try again\n"
     ]
    }
   ],
   "source": [
    "#@title Enter your answer as one or more words separated by ',' or ? for a solution, then execute cell.\n",
    "answer = \"\" #@param {type:\"string\"}\n",
    "solution = \"Jordan-Wigner\"\n",
    "if answer == solution:\n",
    "  print(\"Correct\")\n",
    "elif answer == '?':\n",
    "  print(solution)\n",
    "else:\n",
    "  print(\"Incorrect, please try again\")"
   ]
  },
  {
   "cell_type": "code",
   "execution_count": 53,
   "metadata": {
    "colab": {
     "base_uri": "https://localhost:8080/",
     "height": 353
    },
    "executionInfo": {
     "elapsed": 2547,
     "status": "ok",
     "timestamp": 1650284145093,
     "user": {
      "displayName": "Alain Chancé",
      "userId": "15344856735617693852"
     },
     "user_tz": -120
    },
    "id": "RWDA86DIl79f",
    "outputId": "4ead2c0f-7178-4a27-eb2b-44bf97b2a169"
   },
   "outputs": [
    {
     "data": {
      "text/html": [
       "<h3>Version Information</h3><table><tr><th>Qiskit Software</th><th>Version</th></tr><tr><td><code>qiskit-terra</code></td><td>0.22.3</td></tr><tr><td><code>qiskit-aer</code></td><td>0.11.0</td></tr><tr><td><code>qiskit-ibmq-provider</code></td><td>0.19.2</td></tr><tr><td><code>qiskit</code></td><td>0.38.0</td></tr><tr><td><code>qiskit-nature</code></td><td>0.5.1</td></tr><tr><th>System information</th></tr><tr><td>Python version</td><td>3.8.12</td></tr><tr><td>Python compiler</td><td>GCC 7.5.0</td></tr><tr><td>Python build</td><td>default, Oct 12 2021 13:49:34</td></tr><tr><td>OS</td><td>Linux</td></tr><tr><td>CPUs</td><td>8</td></tr><tr><td>Memory (Gb)</td><td>7.403186798095703</td></tr><tr><td colspan='2'>Thu Nov 24 23:09:15 2022 CET</td></tr></table>"
      ],
      "text/plain": [
       "<IPython.core.display.HTML object>"
      ]
     },
     "metadata": {},
     "output_type": "display_data"
    }
   ],
   "source": [
    "# Display Qiskit Software and System information\n",
    "import qiskit.tools.jupyter\n",
    "%qiskit_version_table"
   ]
  }
 ],
 "metadata": {
  "colab": {
   "authorship_tag": "ABX9TyN5UsWlliuSEdTzBliUBjiJ",
   "collapsed_sections": [],
   "name": "B18268_Chapter_04_Molecular_Hamiltonians.ipynb",
   "provenance": []
  },
  "kernelspec": {
   "display_name": "Python 3",
   "language": "python",
   "name": "python3"
  },
  "language_info": {
   "codemirror_mode": {
    "name": "ipython",
    "version": 3
   },
   "file_extension": ".py",
   "mimetype": "text/x-python",
   "name": "python",
   "nbconvert_exporter": "python",
   "pygments_lexer": "ipython3",
   "version": "3.8.12"
  }
 },
 "nbformat": 4,
 "nbformat_minor": 1
}
