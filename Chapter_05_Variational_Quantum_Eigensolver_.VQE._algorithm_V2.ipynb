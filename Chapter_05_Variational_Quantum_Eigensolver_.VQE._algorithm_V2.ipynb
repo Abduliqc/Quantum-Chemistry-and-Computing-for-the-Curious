{
 "cells": [
  {
   "cell_type": "markdown",
   "metadata": {
    "id": "0l64_JFCZJtt"
   },
   "source": [
    "This is the cutdown companion Jupyter Notebook of Chapter 5, Variational Quantum Eigensolver (VQE) Algorithm, of the book titled:\n",
    "\"Quantum Chemistry and Computing for the Curious: Illustrated with Python and Qiskit® code\" and with ISBN-13: 978-1803243900.\n",
    "Copyright © 2022, Keeper L. Sharkey and Alain Chancé."
   ]
  },
  {
   "cell_type": "markdown",
   "metadata": {
    "id": "lyOS5s2Q4Jx2"
   },
   "source": [
    "The following MIT license only applies to the code, and not to the text and images. The authors are not granting a license to replicate or reuse the text and images in the companion Jupyter notebook.\n",
    "\n",
    "# MIT License\n",
    "\n",
    "Copyright (c) 2022 Packt\n",
    "\n",
    "Permission is hereby granted, free of charge, to any person obtaining a copy\n",
    "of this software and associated documentation files (the \"Software\"), to deal\n",
    "in the Software without restriction, including without limitation the rights\n",
    "to use, copy, modify, merge, publish, distribute, sublicense, and/or sell\n",
    "copies of the Software, and to permit persons to whom the Software is\n",
    "furnished to do so, subject to the following conditions:\n",
    "\n",
    "The above copyright notice and this permission notice shall be included in all\n",
    "copies or substantial portions of the Software.\n",
    "\n",
    "THE SOFTWARE IS PROVIDED \"AS IS\", WITHOUT WARRANTY OF ANY KIND, EXPRESS OR\n",
    "IMPLIED, INCLUDING BUT NOT LIMITED TO THE WARRANTIES OF MERCHANTABILITY,\n",
    "FITNESS FOR A PARTICULAR PURPOSE AND NONINFRINGEMENT. IN NO EVENT SHALL THE\n",
    "AUTHORS OR COPYRIGHT HOLDERS BE LIABLE FOR ANY CLAIM, DAMAGES OR OTHER\n",
    "LIABILITY, WHETHER IN AN ACTION OF CONTRACT, TORT OR OTHERWISE, ARISING FROM,\n",
    "OUT OF OR IN CONNECTION WITH THE SOFTWARE OR THE USE OR OTHER DEALINGS IN THE\n",
    "SOFTWARE.\n"
   ]
  },
  {
   "cell_type": "markdown",
   "metadata": {
    "id": "B-c-ynQ9eMA5"
   },
   "source": [
    "# 5. Variational Quantum Eigensolver (VQE) Algorithm"
   ]
  },
  {
   "cell_type": "markdown",
   "metadata": {
    "id": "-VltqWatg_ND"
   },
   "source": [
    "# Technical requirements"
   ]
  },
  {
   "cell_type": "markdown",
   "metadata": {},
   "source": [
    "# Summary of updates V2\n",
    "## Purpose\n",
    "This Jupyter notebook has been adapted to work with Qiskit Nature v0.5 and the new Qiskit Runtime primitives. \n",
    "\n",
    "Please refer to the following documentation:\n",
    "\n",
    "Electronic Structure Problems with v0.5, https://qiskit.org/documentation/nature/migration/00b_Electronic_structure_with_v0.5.html\n",
    "\n",
    "Leveraging Qiskit Runtime\n",
    "https://qiskit.org/documentation/nature/tutorials/07_leveraging_qiskit_runtime.html\n",
    "\n",
    "## New install command\n",
    "Install qiskit.utils with the following command (V2):\n",
    "```\n",
    "pip install qiskit.utils\n",
    "```\n",
    "## Updates in import statements\n",
    "Previously\n",
    "```\n",
    "from qiskit_nature.drivers.second_quantization import ElectronicStructureDriverType, ElectronicStructureMoleculeDriver\n",
    "from qiskit_nature.problems.second_quantization import ElectronicStructureProblem\n",
    "from qiskit_nature.mappers.second_quantization import ParityMapper, JordanWignerMapper, BravyiKitaevMapper\n",
    "from qiskit_nature.converters.second_quantization import QubitConverter\n",
    "\n",
    "from qiskit_nature.operators.second_quantization import FermionicOp\n",
    "from qiskit_nature.circuit.library.initial_states import HartreeFock\n",
    "from qiskit_nature.circuit.library.ansatzes import UCCSD\n",
    "```\n",
    "New\n",
    "```\n",
    "# Electronic Structure Problems with v0.5\n",
    "# https://qiskit.org/documentation/nature/migration/00b_Electronic_structure_with_v0.5.html\n",
    "from qiskit_nature.second_q.formats.molecule_info import MoleculeInfo\n",
    "from qiskit_nature.units import DistanceUnit\n",
    "from qiskit_nature.second_q.drivers import PySCFDriver\n",
    "from qiskit_nature.second_q.mappers import QubitConverter\n",
    "from qiskit_nature.second_q.mappers import ParityMapper, JordanWignerMapper, BravyiKitaevMapper\n",
    "from qiskit_nature.second_q.properties import ParticleNumber\n",
    "from qiskit_nature.second_q.transformers import ActiveSpaceTransformer, FreezeCoreTransformer\n",
    "```\n",
    "\n",
    "Previously\n",
    "```\n",
    "from qiskit_nature.algorithms import VQEUCCFactory, GroundStateEigensolver, NumPyMinimumEigensolverFactory, BOPESSampler\n",
    "from qiskit.algorithms import NumPyMinimumEigensolver, VQE, HamiltonianPhaseEstimation, PhaseEstimation\n",
    "```\n",
    "\n",
    "New\n",
    "```\n",
    "# https://qiskit.org/documentation/nature/tutorials/03_ground_state_solvers.html\n",
    "from qiskit.algorithms import HamiltonianPhaseEstimation, PhaseEstimation\n",
    "\n",
    "# https://qiskit.org/documentation/nature/tutorials/03_ground_state_solvers.html\n",
    "from qiskit.primitives import Estimator, Sampler\n",
    "\n",
    "from qiskit.algorithms.optimizers import SLSQP, SPSA, QNSPSA\n",
    "from qiskit_nature.second_q.algorithms import VQEUCCFactory\n",
    "from qiskit_nature.second_q.circuit.library import UCCSD\n",
    "\n",
    "from qiskit.algorithms.minimum_eigensolvers import NumPyMinimumEigensolver, VQE\n",
    "from qiskit_nature.second_q.algorithms.ground_state_solvers import GroundStateEigensolver\n",
    "```\n",
    "\n",
    "### The Qiskit Nature property framework is now longer used \n",
    "The following import statement has been removed:\n",
    "```\n",
    "from qiskit_nature.properties import Property, GroupedProperty\n",
    "```\n",
    "\n",
    "\n",
    "## Updates in code\n",
    "\n",
    "### New function bopes() for sampling the potential energy surface\n",
    "The BOPESSampler() previously used will soon be removed, https://github.com/Qiskit/qiskit-nature/issues/750 .\n",
    "The MoleculeInfo has become a pure data container and no longer supports degrees of freedom.\n",
    "\n",
    "The new function bopes() manages the process of varying the geometry of the molecule and repeatedly calls the solve_ground_state() function. Atoms in the atom pair specified in the info-dict dictionary must have their coordinates in the same line or in the same plane. The perturbation is applied to the first atom in the atom_pair.\n",
    "```\n",
    "def bopes(info_dict, mapper, num_electrons, num_spatial_orbitals, two_qubit_reduction, z2symmetry_reduction,\n",
    "          name_solver, perturbation_steps, qubit_converter, solver, show=True):\n",
    "```\n",
    "\n",
    "### Updates to leverage Qiskit Runtime primitives\n",
    "\n",
    "Previously\n",
    "```\n",
    "vqe_tl_solver = VQE(ansatz = tl_circuit,\n",
    "                     quantum_instance = QuantumInstance(Aer.get_backend('aer_simulator_statevector')))\n",
    "```\n",
    "New\n",
    "```\n",
    "estimator = Estimator()\n",
    "optimizer = SPSA(maxiter=100)\n",
    "vqe_tl_solver = VQE(estimator, tl_circuit, optimizer)\n",
    "```\n",
    "\n",
    "Previously\n",
    "```\n",
    "vqe_ucc_solver = VQEUCCFactory(quantum_instance, ansatz = tl_circuit)\n",
    "```\n",
    "New\n",
    "```\n",
    "vqe_ucc_solver = VQEUCCFactory(Estimator(), UCCSD(), SLSQP())\n",
    "```\n",
    "\n",
    "Previously\n",
    "```\n",
    "qnspsa_loss = []\n",
    "ansatz = tl_circuit\n",
    "fidelity = QNSPSA.get_fidelity(ansatz, quantum_instance, expectation=PauliExpectation())\n",
    "qnspsa = QNSPSA(fidelity, maxiter=200, learning_rate=0.01, perturbation=0.7, callback=qnspsa_callback)\n",
    "```\n",
    "New\n",
    "#### The Quantum Natural SPSA (QN-SPSA) optimizer\n",
    "https://qiskit.org/documentation/stubs/qiskit.algorithms.optimizers.QNSPSA.html\n",
    "```\n",
    "qnspsa_loss = []\n",
    "ansatz = tl_circuit\n",
    "sampler = Sampler()\n",
    "fidelity = QNSPSA.get_fidelity(ansatz, sampler)\n",
    "qnspsa = QNSPSA(fidelity, maxiter=200, learning_rate=0.01, perturbation=0.7, callback=qnspsa_callback)\n",
    "```\n",
    "\n",
    "### Updates pertaining to the new MoleculeInfo data structure\n",
    "The MoleculeInfo has become a pure data container and no longer supports degrees of freedom. This version uses a new info_dict dictionary to set up both the MoleculeInfo and the PySCF molecule data structure.\n",
    "\n",
    "The info_dict dictionary contains the following keys:\n",
    "- 'atoms', a list of atoms names, e.g. \"Li\", \"H\".\n",
    "- 'coords', Cartesian coordinates $(x, y, z)$ of the atom’s position in units of angstroms., e.g. (0.0, 0.0, 0.0), (0.0, 0.0, 1.5474)\n",
    "- 'charge', integer, the electric charge on the molecule.\n",
    "- 'multiplicity', integer, the multiplicity $2S+1$ of the molecule, where $S$ is the total spin angular momentum which is determined by the number of unpaired electrons in the molecule, that is the number of electrons that occupy a molecular orbital singly, not with another electron.\n",
    "- 'atom_pair', the pair of atoms used by bopes() to compute and plot the BOPES of the molecule. The numbers refer to the index of the atom in the atoms list. They must have their Cartesian coordinates in the same line or in the same plane. The perturbation is applied to the first atom in the atom_pair.\n",
    "\n",
    "Previously\n",
    "```\n",
    "run_PySCF(molecule, pyqmc=True, show=True):\n",
    "```\n",
    "New\n",
    "```\n",
    "run_PySCF(info_dict, pyqmc=True, show=True):\n",
    "```\n",
    "\n",
    "Previously\n",
    "```\n",
    "H2_molecule = Molecule(geometry=[['H', [0., 0., 0.]],['H', [0., 0., 0.735]]],charge=0, multiplicity=1)\n",
    "```\n",
    "New\n",
    "```\n",
    "H2_atoms = [\"H\", \"H\"]\n",
    "H2_coords = [(0.0, 0.0, 0.0), (0.0, 0.0, 0.735)]\n",
    "H2_charge = 0\n",
    "H2_multiplicity = 1\n",
    "H2_atom_pair=(1, 0)\n",
    "H2_info_dict={'atoms':H2_atoms, 'coords':H2_coords, 'charge':H2_charge, 'multiplicity':H2_multiplicity, 'atom_pair':H2_atom_pair}\n",
    "\n",
    "H2_moleculeinfo = MoleculeInfo(H2_atoms, H2_coords, charge=H2_charge, multiplicity=H2_multiplicity)\n",
    "```\n",
    "\n",
    "Previously\n",
    "```\n",
    "LiH_molecule = Molecule(geometry=[['Li', [0., 0., 0.]], ['H', [0., 0., 1.5474]]], charge=0, multiplicity=1)\n",
    "```\n",
    "\n",
    "New\n",
    "```\n",
    "LiH_atoms = [\"Li\", \"H\"]\n",
    "LiH_coords = [(0.0, 0.0, 0.0), (0.0, 0.0, 1.5474)]\n",
    "LiH_charge = 0\n",
    "LiH_multiplicity = 1\n",
    "LiH_atom_pair=(1,0)\n",
    "LiH_info_dict={'atoms':LiH_atoms, 'coords':LiH_coords, 'charge':LiH_charge, 'multiplicity':LiH_multiplicity, 'atom_pair':LiH_atom_pair}\n",
    "\n",
    "LiH_moleculeinfo = MoleculeInfo(LiH_atoms, LiH_coords, charge=LiH_charge, multiplicity=LiH_multiplicity)\n",
    "```\n",
    "\n",
    "Previously\n",
    "```\n",
    "macromolecule = Molecule(geometry=\n",
    "   [['O', [1.1280, 0.2091, 0.0000]],\n",
    "   ['N', [-1.1878, 0.1791, 0.0000]],\n",
    "   ['C', [0.0598, -0.3882, 0.0000]],\n",
    "   ['H', [-1.3085, 1.1864, 0.0001]],\n",
    "   ['H', [-2.0305, -0.3861, -0.0001]],\n",
    "   ['H', [-0.0014, -1.4883, -0.0001]],\n",
    "   ['C', [-0.1805, 1.3955, 0.0000]]],\n",
    "   charge=0, multiplicity=1,\n",
    "   degrees_of_freedom=[specific_molecular_variation])\n",
    "```\n",
    "New\n",
    "```\n",
    "M_atoms = [\"O\", \"N\",\"C\",\"H\",\"H\",\"H\",\"C\"]\n",
    "M_coords = [(1.1280, 0.2091, 0.0000), \n",
    "                    (-1.1878, 0.1791, 0.0000),\n",
    "                    (0.0598, -0.3882, 0.0000),\n",
    "                    (-1.3085, 1.1864, 0.0001),\n",
    "                    (-2.0305, -0.3861, -0.0001),\n",
    "                    (-0.0014, -1.4883, -0.0001),\n",
    "                    (-0.1805, 1.3955, 0.0000)]\n",
    "M_charge = 0\n",
    "M_multiplicity = 1\n",
    "M_atom_pair=(6, 1)\n",
    "M_info_dict={'atoms':M_atoms, 'coords':M_coords, 'charge':M_charge, 'multiplicity':M_multiplicity, 'atom_pair':M_atom_pair}\n",
    "\n",
    "macromoleculeinfo = MoleculeInfo(M_atoms, M_coords, charge=M_charge, multiplicity=M_multiplicity)\n",
    "```\n",
    "\n",
    "### Updates pertaining to the get_particle_number() function\n",
    "Previously\n",
    "```\n",
    "def get_particle_number(problem, show=True):\n",
    "  particle_number = problem.grouped_property_transformed.get_property(\"ParticleNumber\")\n",
    "  num_particles = (particle_number.num_alpha, particle_number.num_beta)\n",
    "  num_spin_orbitals = particle_number.num_spin_orbitals\n",
    "  if show:\n",
    "    print(\"Number of alpha electrons: {}\".format(particle_number.num_alpha))\n",
    "    print(\"Number of beta electrons: {}\".format(particle_number.num_beta))\n",
    "    print(\"Number of spin orbitals: {}\".format(num_spin_orbitals))\n",
    "  return particle_number\n",
    "```\n",
    "New\n",
    "```\n",
    "def get_particle_number(problem, show=True):\n",
    "  \n",
    "  # https://qiskit.org/documentation/nature/stubs/qiskit_nature.second_q.problems.ElectronicStructureProblem.num_spin_orbitals.html\n",
    "  num_spin_orbitals = problem.num_spin_orbitals\n",
    "  num_particles = problem.num_particles\n",
    "  \n",
    "  if show:\n",
    "    print(\"Number of particles: {}\".format(num_particles))\n",
    "    print(\"Number of spin orbitals: {}\".format(num_spin_orbitals))\n",
    "    \n",
    "  return num_particles, num_spin_orbitals\n",
    "```\n",
    "### Updates pertaining to the fermion_to_qubit() function\n",
    "Now second_q_op is used as a replacement for second_q_op[0]\n",
    "\n",
    "Previously\n",
    "```\n",
    "def fermion_to_qubit(f_op, second_q_op, mapper, truncate=20, two_qubit_reduction=False, z2symmetry_reduction=None, show=True): \n",
    "  if show:\n",
    "    print(\"Qubit Hamiltonian operator\")\n",
    "  dmap = {\"Jordan-Wigner\": JordanWignerMapper(), \"Parity\": ParityMapper(), \"Bravyi-Kitaev\": BravyiKitaevMapper()}\n",
    "  qubit_op = None\n",
    "  qubit_converter = None\n",
    "  for k, v in dmap.items():\n",
    "    if k == mapper:\n",
    "      if show:\n",
    "        print(\"{} transformation \". format(mapper))\n",
    "      qubit_converter = QubitConverter(v, two_qubit_reduction=two_qubit_reduction, z2symmetry_reduction=z2symmetry_reduction)\n",
    "      if two_qubit_reduction:\n",
    "        qubit_op = qubit_converter.convert(second_q_op[0], num_particles=f_op.num_particles)\n",
    "      else:\n",
    "        qubit_op = qubit_converter.convert(second_q_op[0])\n",
    "      n_items = len(qubit_op)\n",
    "      if show:\n",
    "        print(\"Number of items in the Pauli list:\", n_items)\n",
    "        if n_items <= truncate:\n",
    "          print(qubit_op)\n",
    "        else:\n",
    "          print(qubit_op[0:truncate])\n",
    "  return qubit_op, qubit_converter\n",
    "```\n",
    "New\n",
    "```\n",
    "def fermion_to_qubit(problem, second_q_op, mapper, truncate=20, two_qubit_reduction=False, z2symmetry_reduction=None, show=True): \n",
    "# Electronic Structure Problems with v0.5\n",
    "# https://qiskit.org/documentation/nature/migration/00b_Electronic_structure_with_v0.5.html\n",
    "# https://qiskit.org/documentation/nature/stubs/qiskit_nature.second_q.mappers.QubitConverter.html#qubitconverter\n",
    "  if show:\n",
    "    print(\"Qubit Hamiltonian operator\")\n",
    "  dmap = {\"Jordan-Wigner\": JordanWignerMapper(), \"Parity\": ParityMapper(), \"Bravyi-Kitaev\": BravyiKitaevMapper()}\n",
    "  qubit_op = None\n",
    "  qubit_converter = None\n",
    "  for k, v in dmap.items():\n",
    "    if k == mapper:\n",
    "      if show:\n",
    "        print(\"{} transformation \". format(mapper))\n",
    "      qubit_converter = QubitConverter(v, two_qubit_reduction=two_qubit_reduction, z2symmetry_reduction=z2symmetry_reduction)\n",
    "      # QubitConverter.convert\n",
    "      # https://qiskit.org/documentation/nature/stubs/qiskit_nature.second_q.mappers.QubitConverter.convert.html\n",
    "      if two_qubit_reduction:\n",
    "        qubit_op = qubit_converter.convert(second_q_op, num_particles=problem.num_particles)\n",
    "      else:\n",
    "        qubit_op = qubit_converter.convert(second_q_op)\n",
    "      n_items = len(qubit_op)\n",
    "      if show:\n",
    "        print(\"Number of items in the Pauli list:\", n_items)\n",
    "        if n_items <= truncate:\n",
    "          print(qubit_op)\n",
    "        else:\n",
    "          print(qubit_op[0:truncate])\n",
    "  return qubit_op, qubit_converter\n",
    "```\n",
    "\n",
    "### Updates pertaining to the solve_ground_state() function\n",
    "The molecule parameter has been replaced by the new info_dict dictionary.\n",
    "\n",
    "Previously\n",
    "```\n",
    "def solve_ground_state(\n",
    "    molecule,\n",
    "    mapper =\"Parity\",\n",
    "    num_electrons=None,\n",
    "    num_molecular_orbitals=None,\n",
    "    transformers=None,\n",
    "    two_qubit_reduction=False,\n",
    "    z2symmetry_reduction = \"Auto\",\n",
    "    name_solver='NumPy exact solver',\n",
    "    solver=NumPyMinimumEigensolver(),\n",
    "    plot_bopes=False,\n",
    "    perturbation_steps=np.linspace(-1, 1, 3),\n",
    "    pyqmc=True,\n",
    "    n_ancillae=3, \n",
    "    num_time_slices=1,\n",
    "    loss=[],\n",
    "    label=None,\n",
    "    target=None,\n",
    "    show=True\n",
    "):\n",
    "```\n",
    "New\n",
    "```\n",
    "def solve_ground_state(\n",
    "    info_dict,\n",
    "    mapper =\"Parity\",\n",
    "    num_electrons=None,\n",
    "    num_spatial_orbitals=None,\n",
    "    freeze_core=None, \n",
    "    two_qubit_reduction=False,\n",
    "    z2symmetry_reduction = \"Auto\",\n",
    "    name_solver='NumPy exact solver',\n",
    "    solver=NumPyMinimumEigensolver(),\n",
    "    plot_bopes=False,\n",
    "    perturbation_steps=np.linspace(-1, 1, 3),\n",
    "    pyqmc=True,\n",
    "    n_ancillae=3, \n",
    "    num_time_slices=1,\n",
    "    loss=[],\n",
    "    label=None,\n",
    "    target=None,\n",
    "    show=True\n",
    "):\n",
    "```\n",
    "\n",
    "All calls to the solve_ground_state() function have been updated to use the new info_dict dictionary. Examples follow:\n",
    "\n",
    "Previously\n",
    "```\n",
    "H2_fermionic_hamiltonian, H2_particle_number, H2_qubit_op, H2_qubit_converter, H2_ground_state = \\\n",
    "                  solve_ground_state(hydrogen_molecule, mapper =\"Parity\",\n",
    "                   two_qubit_reduction=True, z2symmetry_reduction=None, \n",
    "                   name_solver = 'NumPy exact solver', solver = numpy_solver)\n",
    "```\n",
    "New\n",
    "```\n",
    "H2_fermionic_hamiltonian, H2_num_particles, H2_num_spin_orbitals, H2_qubit_op, H2_qubit_converter, H2_ground_state = \\\n",
    "                  solve_ground_state(H2_info_dict, mapper =\"Parity\",\n",
    "                   two_qubit_reduction=True, z2symmetry_reduction=None, \n",
    "                   name_solver = 'Heuristic ansatz, the Two-Local circuit with SLSQP',solver = vqe_tl_solver)\n",
    "```\n",
    "\n",
    "Previously\n",
    "```\n",
    "perturbation_steps = np.linspace(-0.8, 0.8, 10) # 10 equally spaced points from -0.8 to 0.8, inclusive.\n",
    "LiH_stretchable_fermionic_hamiltonian, LiH_stretchable_particle_number, LiH_stretchable_qubit_op, LiH_stretchable_qubit_converter, LiH_stretchable_ground_state = \\\n",
    "                  solve_ground_state(LiH_molecule_stretchable, mapper =\"Parity\",\n",
    "                  transformers=[FreezeCoreTransformer(freeze_core=True, remove_orbitals=[4, 3])],\n",
    "                   two_qubit_reduction=True, z2symmetry_reduction=\"auto\", \n",
    "                   name_solver='NumPy exact solver', solver=numpy_solver,\n",
    "                   plot_bopes=True, perturbation_steps=perturbation_steps)\n",
    "```\n",
    "New\n",
    "```\n",
    "perturbation_steps = np.linspace(-0.8, 0.8, 10) # 10 equally spaced points from -0.8 to 0.8, inclusive.\n",
    "LiH_s_fermionic_hamiltonian, LiH_s_num_particles, LiH_s_num_spin_orbitals, LiH_s_qubit_op, LiH_s_qubit_converter, LiH_s_ground_state = \\\n",
    "                  solve_ground_state(LiH_info_dict, mapper =\"Parity\",\n",
    "                  freeze_core=FreezeCoreTransformer(freeze_core=True, remove_orbitals=[4, 3]),\n",
    "                   two_qubit_reduction=True, z2symmetry_reduction=\"auto\", \n",
    "                   name_solver='NumPy exact solver', solver=numpy_solver,\n",
    "                   plot_bopes=True, perturbation_steps=perturbation_steps)\n",
    "```\n",
    "\n",
    "### Varying molecule code no longer used\n",
    "The following code has been removed:\n",
    "```\n",
    "### Varying the hydrogen molecule\n",
    "We specify the type of molecular variation, Molecule.absolute_stretching as follows:\n",
    "\n",
    "molecular_variation = Molecule.absolute_stretching\n",
    "\n",
    "We specify that the first atom of the specified atom pair is moved closer to the second atom. The numbers refer to the index of the atom in the geometric definition list. Here is the code:\n",
    "\n",
    "We alter the original molecular definition as follows:\n",
    "\n",
    "H2_molecule_stretchable = Molecule(geometry=\n",
    "                                 [['H', [0., 0., 0.]], ['H', [0., 0., 0.735]]], charge=0, multiplicity=1,\n",
    "                                 degrees_of_freedom=[specific_molecular_variation])\n",
    "\n",
    "```\n",
    "\n",
    "```\n",
    "### Varying the lithium hydride molecule\n",
    "\n",
    "We alter the original molecular definition as follows:\n",
    "\n",
    "LiH_molecule_stretchable = Molecule(geometry=[['Li', [0., 0., 0.]], ['H', [0., 0., 1.5474]]], charge=0, multiplicity=1,\n",
    "                                   degrees_of_freedom=[specific_molecular_variation])\n",
    "```\n",
    "\n",
    "```\n",
    "We specify the type of molecular variation, Molecule.absolute_stretching as follows:\n",
    "\n",
    "molecular_variation = Molecule.absolute_stretching\n",
    "\n",
    "We specify which atoms the variation applies to. The numbers refer to the index of the atom in the geometric definition list. The Carbon atom is moved closer to the Nitrogen atom:\n",
    "\n",
    "specific_molecular_variation = apply_variation(molecular_variation, atom_pair=(6, 1))\n",
    "```\n"
   ]
  },
  {
   "cell_type": "markdown",
   "metadata": {
    "id": "vuBOm4DVmGUa"
   },
   "source": [
    "## Installing NumPy, and Qiskit and importing various modules\n",
    "Install NumPy with the following command:"
   ]
  },
  {
   "cell_type": "code",
   "execution_count": 1,
   "metadata": {
    "colab": {
     "base_uri": "https://localhost:8080/"
    },
    "id": "7XhpijAbD1v4",
    "outputId": "d5b26a4f-4553-4011-9e68-f980c49a2567"
   },
   "outputs": [
    {
     "name": "stdout",
     "output_type": "stream",
     "text": [
      "Requirement already satisfied: numpy in /home/alain/psi4conda/lib/python3.8/site-packages (1.21.2)\n",
      "Note: you may need to restart the kernel to use updated packages.\n"
     ]
    }
   ],
   "source": [
    "pip install numpy"
   ]
  },
  {
   "cell_type": "markdown",
   "metadata": {
    "id": "e86gdgsLD_pU"
   },
   "source": [
    "Install Qiskit with the following command:"
   ]
  },
  {
   "cell_type": "code",
   "execution_count": 2,
   "metadata": {
    "colab": {
     "base_uri": "https://localhost:8080/"
    },
    "id": "5W0P77WaD7Yh",
    "outputId": "907b686e-476c-4de4-b6a9-6799530f2277"
   },
   "outputs": [
    {
     "name": "stdout",
     "output_type": "stream",
     "text": [
      "Requirement already satisfied: qiskit in /home/alain/psi4conda/lib/python3.8/site-packages (0.38.0)\n",
      "Requirement already satisfied: qiskit-aer==0.11.0 in /home/alain/psi4conda/lib/python3.8/site-packages (from qiskit) (0.11.0)\n",
      "Requirement already satisfied: qiskit-ibmq-provider==0.19.2 in /home/alain/psi4conda/lib/python3.8/site-packages (from qiskit) (0.19.2)\n",
      "Collecting qiskit-terra==0.21.2\n",
      "  Using cached qiskit_terra-0.21.2-cp38-cp38-manylinux_2_17_x86_64.manylinux2014_x86_64.whl (6.7 MB)\n",
      "Requirement already satisfied: scipy>=1.0 in /home/alain/psi4conda/lib/python3.8/site-packages (from qiskit-aer==0.11.0->qiskit) (1.7.1)\n",
      "Requirement already satisfied: numpy>=1.16.3 in /home/alain/psi4conda/lib/python3.8/site-packages (from qiskit-aer==0.11.0->qiskit) (1.21.2)\n",
      "Requirement already satisfied: requests>=2.19 in /home/alain/psi4conda/lib/python3.8/site-packages (from qiskit-ibmq-provider==0.19.2->qiskit) (2.26.0)\n",
      "Requirement already satisfied: requests-ntlm>=1.1.0 in /home/alain/psi4conda/lib/python3.8/site-packages (from qiskit-ibmq-provider==0.19.2->qiskit) (1.1.0)\n",
      "Requirement already satisfied: python-dateutil>=2.8.0 in /home/alain/psi4conda/lib/python3.8/site-packages (from qiskit-ibmq-provider==0.19.2->qiskit) (2.8.2)\n",
      "Requirement already satisfied: urllib3>=1.21.1 in /home/alain/psi4conda/lib/python3.8/site-packages (from qiskit-ibmq-provider==0.19.2->qiskit) (1.26.7)\n",
      "Requirement already satisfied: websocket-client>=1.0.1 in /home/alain/psi4conda/lib/python3.8/site-packages (from qiskit-ibmq-provider==0.19.2->qiskit) (1.3.3)\n",
      "Requirement already satisfied: websockets>=10.0 in /home/alain/psi4conda/lib/python3.8/site-packages (from qiskit-ibmq-provider==0.19.2->qiskit) (10.3)\n",
      "Requirement already satisfied: tweedledum<2.0,>=1.1 in /home/alain/psi4conda/lib/python3.8/site-packages (from qiskit-terra==0.21.2->qiskit) (1.1.1)\n",
      "Requirement already satisfied: retworkx>=0.11.0 in /home/alain/psi4conda/lib/python3.8/site-packages (from qiskit-terra==0.21.2->qiskit) (0.11.0)\n",
      "Requirement already satisfied: stevedore>=3.0.0 in /home/alain/psi4conda/lib/python3.8/site-packages (from qiskit-terra==0.21.2->qiskit) (4.0.0)\n",
      "Requirement already satisfied: psutil>=5 in /home/alain/psi4conda/lib/python3.8/site-packages (from qiskit-terra==0.21.2->qiskit) (5.8.0)\n",
      "Requirement already satisfied: ply>=3.10 in /home/alain/psi4conda/lib/python3.8/site-packages (from qiskit-terra==0.21.2->qiskit) (3.11)\n",
      "Requirement already satisfied: symengine>=0.9 in /home/alain/psi4conda/lib/python3.8/site-packages (from qiskit-terra==0.21.2->qiskit) (0.9.2)\n",
      "Requirement already satisfied: dill>=0.3 in /home/alain/psi4conda/lib/python3.8/site-packages (from qiskit-terra==0.21.2->qiskit) (0.3.5.1)\n",
      "Requirement already satisfied: sympy>=1.3 in /home/alain/psi4conda/lib/python3.8/site-packages (from qiskit-terra==0.21.2->qiskit) (1.9)\n",
      "Requirement already satisfied: six>=1.5 in /home/alain/psi4conda/lib/python3.8/site-packages (from python-dateutil>=2.8.0->qiskit-ibmq-provider==0.19.2->qiskit) (1.16.0)\n",
      "Requirement already satisfied: certifi>=2017.4.17 in /home/alain/psi4conda/lib/python3.8/site-packages (from requests>=2.19->qiskit-ibmq-provider==0.19.2->qiskit) (2022.6.15)\n",
      "Requirement already satisfied: idna<4,>=2.5 in /home/alain/psi4conda/lib/python3.8/site-packages (from requests>=2.19->qiskit-ibmq-provider==0.19.2->qiskit) (3.3)\n",
      "Requirement already satisfied: charset-normalizer~=2.0.0 in /home/alain/psi4conda/lib/python3.8/site-packages (from requests>=2.19->qiskit-ibmq-provider==0.19.2->qiskit) (2.0.4)\n",
      "Requirement already satisfied: ntlm-auth>=1.0.2 in /home/alain/psi4conda/lib/python3.8/site-packages (from requests-ntlm>=1.1.0->qiskit-ibmq-provider==0.19.2->qiskit) (1.5.0)\n",
      "Requirement already satisfied: cryptography>=1.3 in /home/alain/psi4conda/lib/python3.8/site-packages (from requests-ntlm>=1.1.0->qiskit-ibmq-provider==0.19.2->qiskit) (35.0.0)\n",
      "Requirement already satisfied: cffi>=1.12 in /home/alain/psi4conda/lib/python3.8/site-packages (from cryptography>=1.3->requests-ntlm>=1.1.0->qiskit-ibmq-provider==0.19.2->qiskit) (1.14.6)\n",
      "Requirement already satisfied: pycparser in /home/alain/psi4conda/lib/python3.8/site-packages (from cffi>=1.12->cryptography>=1.3->requests-ntlm>=1.1.0->qiskit-ibmq-provider==0.19.2->qiskit) (2.21)\n",
      "Requirement already satisfied: pbr!=2.1.0,>=2.0.0 in /home/alain/psi4conda/lib/python3.8/site-packages (from stevedore>=3.0.0->qiskit-terra==0.21.2->qiskit) (5.10.0)\n",
      "Requirement already satisfied: mpmath>=0.19 in /home/alain/psi4conda/lib/python3.8/site-packages (from sympy>=1.3->qiskit-terra==0.21.2->qiskit) (1.2.1)\n",
      "Installing collected packages: qiskit-terra\n",
      "  Attempting uninstall: qiskit-terra\n",
      "    Found existing installation: qiskit-terra 0.22.3\n",
      "    Uninstalling qiskit-terra-0.22.3:\n",
      "      Successfully uninstalled qiskit-terra-0.22.3\n",
      "\u001b[31mERROR: pip's dependency resolver does not currently take into account all the packages that are installed. This behaviour is the source of the following dependency conflicts.\n",
      "qiskit-nature 0.5.1 requires qiskit-terra>=0.22.*, but you have qiskit-terra 0.21.2 which is incompatible.\n",
      "qiskit-ibm-runtime 0.8.0 requires qiskit-terra>=0.22, but you have qiskit-terra 0.21.2 which is incompatible.\u001b[0m\n",
      "Successfully installed qiskit-terra-0.21.2\n",
      "Note: you may need to restart the kernel to use updated packages.\n"
     ]
    }
   ],
   "source": [
    "pip install qiskit"
   ]
  },
  {
   "cell_type": "markdown",
   "metadata": {
    "id": "S3Qs6ee42nIF"
   },
   "source": [
    "Install Qiskit visualization support with the following command:"
   ]
  },
  {
   "cell_type": "code",
   "execution_count": 3,
   "metadata": {
    "colab": {
     "base_uri": "https://localhost:8080/"
    },
    "id": "QTMbSY-62kEN",
    "outputId": "ff74660b-7d11-4f65-ea59-d494c2c84b4b"
   },
   "outputs": [
    {
     "name": "stdout",
     "output_type": "stream",
     "text": [
      "Requirement already satisfied: qiskit[visualization] in /home/alain/psi4conda/lib/python3.8/site-packages (0.38.0)\n",
      "Requirement already satisfied: qiskit-ibmq-provider==0.19.2 in /home/alain/psi4conda/lib/python3.8/site-packages (from qiskit[visualization]) (0.19.2)\n",
      "Requirement already satisfied: qiskit-aer==0.11.0 in /home/alain/psi4conda/lib/python3.8/site-packages (from qiskit[visualization]) (0.11.0)\n",
      "Requirement already satisfied: qiskit-terra==0.21.2 in /home/alain/psi4conda/lib/python3.8/site-packages (from qiskit[visualization]) (0.21.2)\n",
      "Requirement already satisfied: matplotlib>=2.1 in /home/alain/psi4conda/lib/python3.8/site-packages (from qiskit[visualization]) (3.4.3)\n",
      "Requirement already satisfied: pillow>=4.2.1 in /home/alain/psi4conda/lib/python3.8/site-packages (from qiskit[visualization]) (8.4.0)\n",
      "Requirement already satisfied: pydot in /home/alain/psi4conda/lib/python3.8/site-packages (from qiskit[visualization]) (1.4.2)\n",
      "Requirement already satisfied: pylatexenc>=1.4 in /home/alain/psi4conda/lib/python3.8/site-packages (from qiskit[visualization]) (2.10)\n",
      "Requirement already satisfied: ipywidgets>=7.3.0 in /home/alain/psi4conda/lib/python3.8/site-packages (from qiskit[visualization]) (8.0.2)\n",
      "Requirement already satisfied: pygments>=2.4 in /home/alain/psi4conda/lib/python3.8/site-packages (from qiskit[visualization]) (2.12.0)\n",
      "Requirement already satisfied: seaborn>=0.9.0 in /home/alain/psi4conda/lib/python3.8/site-packages (from qiskit[visualization]) (0.12.0)\n",
      "Requirement already satisfied: scipy>=1.0 in /home/alain/psi4conda/lib/python3.8/site-packages (from qiskit-aer==0.11.0->qiskit[visualization]) (1.7.1)\n",
      "Requirement already satisfied: numpy>=1.16.3 in /home/alain/psi4conda/lib/python3.8/site-packages (from qiskit-aer==0.11.0->qiskit[visualization]) (1.21.2)\n",
      "Requirement already satisfied: urllib3>=1.21.1 in /home/alain/psi4conda/lib/python3.8/site-packages (from qiskit-ibmq-provider==0.19.2->qiskit[visualization]) (1.26.7)\n",
      "Requirement already satisfied: websocket-client>=1.0.1 in /home/alain/psi4conda/lib/python3.8/site-packages (from qiskit-ibmq-provider==0.19.2->qiskit[visualization]) (1.3.3)\n",
      "Requirement already satisfied: requests-ntlm>=1.1.0 in /home/alain/psi4conda/lib/python3.8/site-packages (from qiskit-ibmq-provider==0.19.2->qiskit[visualization]) (1.1.0)\n",
      "Requirement already satisfied: websockets>=10.0 in /home/alain/psi4conda/lib/python3.8/site-packages (from qiskit-ibmq-provider==0.19.2->qiskit[visualization]) (10.3)\n",
      "Requirement already satisfied: python-dateutil>=2.8.0 in /home/alain/psi4conda/lib/python3.8/site-packages (from qiskit-ibmq-provider==0.19.2->qiskit[visualization]) (2.8.2)\n",
      "Requirement already satisfied: requests>=2.19 in /home/alain/psi4conda/lib/python3.8/site-packages (from qiskit-ibmq-provider==0.19.2->qiskit[visualization]) (2.26.0)\n",
      "Requirement already satisfied: ply>=3.10 in /home/alain/psi4conda/lib/python3.8/site-packages (from qiskit-terra==0.21.2->qiskit[visualization]) (3.11)\n",
      "Requirement already satisfied: dill>=0.3 in /home/alain/psi4conda/lib/python3.8/site-packages (from qiskit-terra==0.21.2->qiskit[visualization]) (0.3.5.1)\n",
      "Requirement already satisfied: retworkx>=0.11.0 in /home/alain/psi4conda/lib/python3.8/site-packages (from qiskit-terra==0.21.2->qiskit[visualization]) (0.11.0)\n",
      "Requirement already satisfied: psutil>=5 in /home/alain/psi4conda/lib/python3.8/site-packages (from qiskit-terra==0.21.2->qiskit[visualization]) (5.8.0)\n",
      "Requirement already satisfied: stevedore>=3.0.0 in /home/alain/psi4conda/lib/python3.8/site-packages (from qiskit-terra==0.21.2->qiskit[visualization]) (4.0.0)\n",
      "Requirement already satisfied: sympy>=1.3 in /home/alain/psi4conda/lib/python3.8/site-packages (from qiskit-terra==0.21.2->qiskit[visualization]) (1.9)\n",
      "Requirement already satisfied: tweedledum<2.0,>=1.1 in /home/alain/psi4conda/lib/python3.8/site-packages (from qiskit-terra==0.21.2->qiskit[visualization]) (1.1.1)\n",
      "Requirement already satisfied: symengine>=0.9 in /home/alain/psi4conda/lib/python3.8/site-packages (from qiskit-terra==0.21.2->qiskit[visualization]) (0.9.2)\n",
      "Requirement already satisfied: widgetsnbextension~=4.0 in /home/alain/psi4conda/lib/python3.8/site-packages (from ipywidgets>=7.3.0->qiskit[visualization]) (4.0.3)\n",
      "Requirement already satisfied: ipython>=6.1.0 in /home/alain/psi4conda/lib/python3.8/site-packages (from ipywidgets>=7.3.0->qiskit[visualization]) (8.4.0)\n",
      "Requirement already satisfied: ipykernel>=4.5.1 in /home/alain/psi4conda/lib/python3.8/site-packages (from ipywidgets>=7.3.0->qiskit[visualization]) (5.5.5)\n",
      "Requirement already satisfied: traitlets>=4.3.1 in /home/alain/psi4conda/lib/python3.8/site-packages (from ipywidgets>=7.3.0->qiskit[visualization]) (5.3.0)\n",
      "Requirement already satisfied: jupyterlab-widgets~=3.0 in /home/alain/psi4conda/lib/python3.8/site-packages (from ipywidgets>=7.3.0->qiskit[visualization]) (3.0.3)\n",
      "Requirement already satisfied: jupyter-client in /home/alain/psi4conda/lib/python3.8/site-packages (from ipykernel>=4.5.1->ipywidgets>=7.3.0->qiskit[visualization]) (7.0.6)\n",
      "Requirement already satisfied: tornado>=4.2 in /home/alain/psi4conda/lib/python3.8/site-packages (from ipykernel>=4.5.1->ipywidgets>=7.3.0->qiskit[visualization]) (6.1)\n",
      "Requirement already satisfied: pickleshare in /home/alain/psi4conda/lib/python3.8/site-packages (from ipython>=6.1.0->ipywidgets>=7.3.0->qiskit[visualization]) (0.7.5)\n",
      "Requirement already satisfied: jedi>=0.16 in /home/alain/psi4conda/lib/python3.8/site-packages (from ipython>=6.1.0->ipywidgets>=7.3.0->qiskit[visualization]) (0.18.1)\n",
      "Requirement already satisfied: backcall in /home/alain/psi4conda/lib/python3.8/site-packages (from ipython>=6.1.0->ipywidgets>=7.3.0->qiskit[visualization]) (0.2.0)\n",
      "Requirement already satisfied: pexpect>4.3 in /home/alain/psi4conda/lib/python3.8/site-packages (from ipython>=6.1.0->ipywidgets>=7.3.0->qiskit[visualization]) (4.8.0)\n",
      "Requirement already satisfied: matplotlib-inline in /home/alain/psi4conda/lib/python3.8/site-packages (from ipython>=6.1.0->ipywidgets>=7.3.0->qiskit[visualization]) (0.1.3)\n",
      "Requirement already satisfied: decorator in /home/alain/psi4conda/lib/python3.8/site-packages (from ipython>=6.1.0->ipywidgets>=7.3.0->qiskit[visualization]) (5.1.1)\n",
      "Requirement already satisfied: prompt-toolkit!=3.0.0,!=3.0.1,<3.1.0,>=2.0.0 in /home/alain/psi4conda/lib/python3.8/site-packages (from ipython>=6.1.0->ipywidgets>=7.3.0->qiskit[visualization]) (3.0.30)\n",
      "Requirement already satisfied: setuptools>=18.5 in /home/alain/psi4conda/lib/python3.8/site-packages (from ipython>=6.1.0->ipywidgets>=7.3.0->qiskit[visualization]) (58.0.4)\n",
      "Requirement already satisfied: stack-data in /home/alain/psi4conda/lib/python3.8/site-packages (from ipython>=6.1.0->ipywidgets>=7.3.0->qiskit[visualization]) (0.4.0)\n",
      "Requirement already satisfied: parso<0.9.0,>=0.8.0 in /home/alain/psi4conda/lib/python3.8/site-packages (from jedi>=0.16->ipython>=6.1.0->ipywidgets>=7.3.0->qiskit[visualization]) (0.8.3)\n",
      "Requirement already satisfied: kiwisolver>=1.0.1 in /home/alain/psi4conda/lib/python3.8/site-packages (from matplotlib>=2.1->qiskit[visualization]) (1.3.1)\n",
      "Requirement already satisfied: pyparsing>=2.2.1 in /home/alain/psi4conda/lib/python3.8/site-packages (from matplotlib>=2.1->qiskit[visualization]) (3.0.4)\n",
      "Requirement already satisfied: cycler>=0.10 in /home/alain/psi4conda/lib/python3.8/site-packages (from matplotlib>=2.1->qiskit[visualization]) (0.10.0)\n",
      "Requirement already satisfied: six in /home/alain/psi4conda/lib/python3.8/site-packages (from cycler>=0.10->matplotlib>=2.1->qiskit[visualization]) (1.16.0)\n",
      "Requirement already satisfied: ptyprocess>=0.5 in /home/alain/psi4conda/lib/python3.8/site-packages (from pexpect>4.3->ipython>=6.1.0->ipywidgets>=7.3.0->qiskit[visualization]) (0.7.0)\n",
      "Requirement already satisfied: wcwidth in /home/alain/psi4conda/lib/python3.8/site-packages (from prompt-toolkit!=3.0.0,!=3.0.1,<3.1.0,>=2.0.0->ipython>=6.1.0->ipywidgets>=7.3.0->qiskit[visualization]) (0.2.5)\n",
      "Requirement already satisfied: certifi>=2017.4.17 in /home/alain/psi4conda/lib/python3.8/site-packages (from requests>=2.19->qiskit-ibmq-provider==0.19.2->qiskit[visualization]) (2022.6.15)\n",
      "Requirement already satisfied: idna<4,>=2.5 in /home/alain/psi4conda/lib/python3.8/site-packages (from requests>=2.19->qiskit-ibmq-provider==0.19.2->qiskit[visualization]) (3.3)\n",
      "Requirement already satisfied: charset-normalizer~=2.0.0 in /home/alain/psi4conda/lib/python3.8/site-packages (from requests>=2.19->qiskit-ibmq-provider==0.19.2->qiskit[visualization]) (2.0.4)\n",
      "Requirement already satisfied: cryptography>=1.3 in /home/alain/psi4conda/lib/python3.8/site-packages (from requests-ntlm>=1.1.0->qiskit-ibmq-provider==0.19.2->qiskit[visualization]) (35.0.0)\n",
      "Requirement already satisfied: ntlm-auth>=1.0.2 in /home/alain/psi4conda/lib/python3.8/site-packages (from requests-ntlm>=1.1.0->qiskit-ibmq-provider==0.19.2->qiskit[visualization]) (1.5.0)\n",
      "Requirement already satisfied: cffi>=1.12 in /home/alain/psi4conda/lib/python3.8/site-packages (from cryptography>=1.3->requests-ntlm>=1.1.0->qiskit-ibmq-provider==0.19.2->qiskit[visualization]) (1.14.6)\n",
      "Requirement already satisfied: pycparser in /home/alain/psi4conda/lib/python3.8/site-packages (from cffi>=1.12->cryptography>=1.3->requests-ntlm>=1.1.0->qiskit-ibmq-provider==0.19.2->qiskit[visualization]) (2.21)\n"
     ]
    },
    {
     "name": "stdout",
     "output_type": "stream",
     "text": [
      "Requirement already satisfied: pandas>=0.25 in /home/alain/psi4conda/lib/python3.8/site-packages (from seaborn>=0.9.0->qiskit[visualization]) (1.3.4)\n",
      "Requirement already satisfied: pytz>=2017.3 in /home/alain/psi4conda/lib/python3.8/site-packages (from pandas>=0.25->seaborn>=0.9.0->qiskit[visualization]) (2021.3)\n",
      "Requirement already satisfied: pbr!=2.1.0,>=2.0.0 in /home/alain/psi4conda/lib/python3.8/site-packages (from stevedore>=3.0.0->qiskit-terra==0.21.2->qiskit[visualization]) (5.10.0)\n",
      "Requirement already satisfied: mpmath>=0.19 in /home/alain/psi4conda/lib/python3.8/site-packages (from sympy>=1.3->qiskit-terra==0.21.2->qiskit[visualization]) (1.2.1)\n",
      "Requirement already satisfied: entrypoints in /home/alain/psi4conda/lib/python3.8/site-packages (from jupyter-client->ipykernel>=4.5.1->ipywidgets>=7.3.0->qiskit[visualization]) (0.4)\n",
      "Requirement already satisfied: jupyter-core>=4.6.0 in /home/alain/psi4conda/lib/python3.8/site-packages (from jupyter-client->ipykernel>=4.5.1->ipywidgets>=7.3.0->qiskit[visualization]) (4.11.1)\n",
      "Requirement already satisfied: nest-asyncio>=1.5 in /home/alain/psi4conda/lib/python3.8/site-packages (from jupyter-client->ipykernel>=4.5.1->ipywidgets>=7.3.0->qiskit[visualization]) (1.5.5)\n",
      "Requirement already satisfied: pyzmq>=13 in /home/alain/psi4conda/lib/python3.8/site-packages (from jupyter-client->ipykernel>=4.5.1->ipywidgets>=7.3.0->qiskit[visualization]) (19.0.2)\n",
      "Requirement already satisfied: pure-eval in /home/alain/psi4conda/lib/python3.8/site-packages (from stack-data->ipython>=6.1.0->ipywidgets>=7.3.0->qiskit[visualization]) (0.2.2)\n",
      "Requirement already satisfied: asttokens in /home/alain/psi4conda/lib/python3.8/site-packages (from stack-data->ipython>=6.1.0->ipywidgets>=7.3.0->qiskit[visualization]) (2.0.5)\n",
      "Requirement already satisfied: executing in /home/alain/psi4conda/lib/python3.8/site-packages (from stack-data->ipython>=6.1.0->ipywidgets>=7.3.0->qiskit[visualization]) (0.10.0)\n",
      "Note: you may need to restart the kernel to use updated packages.\n"
     ]
    }
   ],
   "source": [
    "pip install 'qiskit[visualization]'"
   ]
  },
  {
   "cell_type": "markdown",
   "metadata": {
    "id": "y4QXT9v8oxyL"
   },
   "source": [
    "Install qiskit.utils with the following command (V2):"
   ]
  },
  {
   "cell_type": "code",
   "execution_count": 4,
   "metadata": {
    "colab": {
     "base_uri": "https://localhost:8080/"
    },
    "id": "1vPsqCAgozif",
    "outputId": "ec18670c-17d8-4e22-f5fd-3cc8d753f574"
   },
   "outputs": [
    {
     "name": "stdout",
     "output_type": "stream",
     "text": [
      "Requirement already satisfied: qiskit.utils in /home/alain/psi4conda/lib/python3.8/site-packages (1.2.1)\n",
      "Requirement already satisfied: qiskit>=0.34.2 in /home/alain/psi4conda/lib/python3.8/site-packages (from qiskit.utils) (0.38.0)\n",
      "Requirement already satisfied: qiskit-terra==0.21.2 in /home/alain/psi4conda/lib/python3.8/site-packages (from qiskit>=0.34.2->qiskit.utils) (0.21.2)\n",
      "Requirement already satisfied: qiskit-ibmq-provider==0.19.2 in /home/alain/psi4conda/lib/python3.8/site-packages (from qiskit>=0.34.2->qiskit.utils) (0.19.2)\n",
      "Requirement already satisfied: qiskit-aer==0.11.0 in /home/alain/psi4conda/lib/python3.8/site-packages (from qiskit>=0.34.2->qiskit.utils) (0.11.0)\n",
      "Requirement already satisfied: scipy>=1.0 in /home/alain/psi4conda/lib/python3.8/site-packages (from qiskit-aer==0.11.0->qiskit>=0.34.2->qiskit.utils) (1.7.1)\n",
      "Requirement already satisfied: numpy>=1.16.3 in /home/alain/psi4conda/lib/python3.8/site-packages (from qiskit-aer==0.11.0->qiskit>=0.34.2->qiskit.utils) (1.21.2)\n",
      "Requirement already satisfied: websocket-client>=1.0.1 in /home/alain/psi4conda/lib/python3.8/site-packages (from qiskit-ibmq-provider==0.19.2->qiskit>=0.34.2->qiskit.utils) (1.3.3)\n",
      "Requirement already satisfied: requests>=2.19 in /home/alain/psi4conda/lib/python3.8/site-packages (from qiskit-ibmq-provider==0.19.2->qiskit>=0.34.2->qiskit.utils) (2.26.0)\n",
      "Requirement already satisfied: websockets>=10.0 in /home/alain/psi4conda/lib/python3.8/site-packages (from qiskit-ibmq-provider==0.19.2->qiskit>=0.34.2->qiskit.utils) (10.3)\n",
      "Requirement already satisfied: python-dateutil>=2.8.0 in /home/alain/psi4conda/lib/python3.8/site-packages (from qiskit-ibmq-provider==0.19.2->qiskit>=0.34.2->qiskit.utils) (2.8.2)\n",
      "Requirement already satisfied: urllib3>=1.21.1 in /home/alain/psi4conda/lib/python3.8/site-packages (from qiskit-ibmq-provider==0.19.2->qiskit>=0.34.2->qiskit.utils) (1.26.7)\n",
      "Requirement already satisfied: requests-ntlm>=1.1.0 in /home/alain/psi4conda/lib/python3.8/site-packages (from qiskit-ibmq-provider==0.19.2->qiskit>=0.34.2->qiskit.utils) (1.1.0)\n",
      "Requirement already satisfied: psutil>=5 in /home/alain/psi4conda/lib/python3.8/site-packages (from qiskit-terra==0.21.2->qiskit>=0.34.2->qiskit.utils) (5.8.0)\n",
      "Requirement already satisfied: sympy>=1.3 in /home/alain/psi4conda/lib/python3.8/site-packages (from qiskit-terra==0.21.2->qiskit>=0.34.2->qiskit.utils) (1.9)\n",
      "Requirement already satisfied: symengine>=0.9 in /home/alain/psi4conda/lib/python3.8/site-packages (from qiskit-terra==0.21.2->qiskit>=0.34.2->qiskit.utils) (0.9.2)\n",
      "Requirement already satisfied: tweedledum<2.0,>=1.1 in /home/alain/psi4conda/lib/python3.8/site-packages (from qiskit-terra==0.21.2->qiskit>=0.34.2->qiskit.utils) (1.1.1)\n",
      "Requirement already satisfied: stevedore>=3.0.0 in /home/alain/psi4conda/lib/python3.8/site-packages (from qiskit-terra==0.21.2->qiskit>=0.34.2->qiskit.utils) (4.0.0)\n",
      "Requirement already satisfied: retworkx>=0.11.0 in /home/alain/psi4conda/lib/python3.8/site-packages (from qiskit-terra==0.21.2->qiskit>=0.34.2->qiskit.utils) (0.11.0)\n",
      "Requirement already satisfied: ply>=3.10 in /home/alain/psi4conda/lib/python3.8/site-packages (from qiskit-terra==0.21.2->qiskit>=0.34.2->qiskit.utils) (3.11)\n",
      "Requirement already satisfied: dill>=0.3 in /home/alain/psi4conda/lib/python3.8/site-packages (from qiskit-terra==0.21.2->qiskit>=0.34.2->qiskit.utils) (0.3.5.1)\n",
      "Requirement already satisfied: six>=1.5 in /home/alain/psi4conda/lib/python3.8/site-packages (from python-dateutil>=2.8.0->qiskit-ibmq-provider==0.19.2->qiskit>=0.34.2->qiskit.utils) (1.16.0)\n",
      "Requirement already satisfied: charset-normalizer~=2.0.0 in /home/alain/psi4conda/lib/python3.8/site-packages (from requests>=2.19->qiskit-ibmq-provider==0.19.2->qiskit>=0.34.2->qiskit.utils) (2.0.4)\n",
      "Requirement already satisfied: idna<4,>=2.5 in /home/alain/psi4conda/lib/python3.8/site-packages (from requests>=2.19->qiskit-ibmq-provider==0.19.2->qiskit>=0.34.2->qiskit.utils) (3.3)\n",
      "Requirement already satisfied: certifi>=2017.4.17 in /home/alain/psi4conda/lib/python3.8/site-packages (from requests>=2.19->qiskit-ibmq-provider==0.19.2->qiskit>=0.34.2->qiskit.utils) (2022.6.15)\n",
      "Requirement already satisfied: cryptography>=1.3 in /home/alain/psi4conda/lib/python3.8/site-packages (from requests-ntlm>=1.1.0->qiskit-ibmq-provider==0.19.2->qiskit>=0.34.2->qiskit.utils) (35.0.0)\n",
      "Requirement already satisfied: ntlm-auth>=1.0.2 in /home/alain/psi4conda/lib/python3.8/site-packages (from requests-ntlm>=1.1.0->qiskit-ibmq-provider==0.19.2->qiskit>=0.34.2->qiskit.utils) (1.5.0)\n",
      "Requirement already satisfied: cffi>=1.12 in /home/alain/psi4conda/lib/python3.8/site-packages (from cryptography>=1.3->requests-ntlm>=1.1.0->qiskit-ibmq-provider==0.19.2->qiskit>=0.34.2->qiskit.utils) (1.14.6)\n",
      "Requirement already satisfied: pycparser in /home/alain/psi4conda/lib/python3.8/site-packages (from cffi>=1.12->cryptography>=1.3->requests-ntlm>=1.1.0->qiskit-ibmq-provider==0.19.2->qiskit>=0.34.2->qiskit.utils) (2.21)\n",
      "Requirement already satisfied: pbr!=2.1.0,>=2.0.0 in /home/alain/psi4conda/lib/python3.8/site-packages (from stevedore>=3.0.0->qiskit-terra==0.21.2->qiskit>=0.34.2->qiskit.utils) (5.10.0)\n",
      "Requirement already satisfied: mpmath>=0.19 in /home/alain/psi4conda/lib/python3.8/site-packages (from sympy>=1.3->qiskit-terra==0.21.2->qiskit>=0.34.2->qiskit.utils) (1.2.1)\n",
      "Note: you may need to restart the kernel to use updated packages.\n"
     ]
    }
   ],
   "source": [
    "pip install qiskit.utils"
   ]
  },
  {
   "cell_type": "markdown",
   "metadata": {
    "id": "LM60UkgZVLaI"
   },
   "source": [
    "Install Qiskit Nature with the following command:"
   ]
  },
  {
   "cell_type": "code",
   "execution_count": 5,
   "metadata": {
    "colab": {
     "base_uri": "https://localhost:8080/"
    },
    "id": "bXRZVmawVN3K",
    "outputId": "2e71287f-b1b4-4f5a-a3af-d1e169a1ee91"
   },
   "outputs": [
    {
     "name": "stdout",
     "output_type": "stream",
     "text": [
      "Requirement already satisfied: qiskit-nature in /home/alain/psi4conda/lib/python3.8/site-packages (0.5.1)\n",
      "Collecting qiskit-terra>=0.22.*\n",
      "  Using cached qiskit_terra-0.22.3-cp38-cp38-manylinux_2_17_x86_64.manylinux2014_x86_64.whl (4.8 MB)\n",
      "Requirement already satisfied: h5py in /home/alain/psi4conda/lib/python3.8/site-packages (from qiskit-nature) (3.6.0)\n",
      "Requirement already satisfied: numpy>=1.17 in /home/alain/psi4conda/lib/python3.8/site-packages (from qiskit-nature) (1.21.2)\n",
      "Requirement already satisfied: typing-extensions in /home/alain/psi4conda/lib/python3.8/site-packages (from qiskit-nature) (4.4.0)\n",
      "Requirement already satisfied: scipy>=1.4 in /home/alain/psi4conda/lib/python3.8/site-packages (from qiskit-nature) (1.7.1)\n",
      "Requirement already satisfied: rustworkx in /home/alain/psi4conda/lib/python3.8/site-packages (from qiskit-nature) (0.12.0)\n",
      "Requirement already satisfied: psutil>=5 in /home/alain/psi4conda/lib/python3.8/site-packages (from qiskit-nature) (5.8.0)\n",
      "Requirement already satisfied: scikit-learn>=0.20.0 in /home/alain/psi4conda/lib/python3.8/site-packages (from qiskit-nature) (1.1.3)\n",
      "Requirement already satisfied: setuptools>=40.1.0 in /home/alain/psi4conda/lib/python3.8/site-packages (from qiskit-nature) (58.0.4)\n",
      "Requirement already satisfied: retworkx>=0.11.0 in /home/alain/psi4conda/lib/python3.8/site-packages (from qiskit-terra>=0.22.*->qiskit-nature) (0.11.0)\n",
      "Requirement already satisfied: python-dateutil>=2.8.0 in /home/alain/psi4conda/lib/python3.8/site-packages (from qiskit-terra>=0.22.*->qiskit-nature) (2.8.2)\n",
      "Requirement already satisfied: symengine>=0.9 in /home/alain/psi4conda/lib/python3.8/site-packages (from qiskit-terra>=0.22.*->qiskit-nature) (0.9.2)\n",
      "Requirement already satisfied: dill>=0.3 in /home/alain/psi4conda/lib/python3.8/site-packages (from qiskit-terra>=0.22.*->qiskit-nature) (0.3.5.1)\n",
      "Requirement already satisfied: ply>=3.10 in /home/alain/psi4conda/lib/python3.8/site-packages (from qiskit-terra>=0.22.*->qiskit-nature) (3.11)\n",
      "Requirement already satisfied: sympy>=1.3 in /home/alain/psi4conda/lib/python3.8/site-packages (from qiskit-terra>=0.22.*->qiskit-nature) (1.9)\n",
      "Requirement already satisfied: tweedledum<2.0,>=1.1 in /home/alain/psi4conda/lib/python3.8/site-packages (from qiskit-terra>=0.22.*->qiskit-nature) (1.1.1)\n",
      "Requirement already satisfied: stevedore>=3.0.0 in /home/alain/psi4conda/lib/python3.8/site-packages (from qiskit-terra>=0.22.*->qiskit-nature) (4.0.0)\n",
      "Requirement already satisfied: six>=1.5 in /home/alain/psi4conda/lib/python3.8/site-packages (from python-dateutil>=2.8.0->qiskit-terra>=0.22.*->qiskit-nature) (1.16.0)\n",
      "Requirement already satisfied: joblib>=1.0.0 in /home/alain/psi4conda/lib/python3.8/site-packages (from scikit-learn>=0.20.0->qiskit-nature) (1.2.0)\n",
      "Requirement already satisfied: threadpoolctl>=2.0.0 in /home/alain/psi4conda/lib/python3.8/site-packages (from scikit-learn>=0.20.0->qiskit-nature) (3.1.0)\n",
      "Requirement already satisfied: pbr!=2.1.0,>=2.0.0 in /home/alain/psi4conda/lib/python3.8/site-packages (from stevedore>=3.0.0->qiskit-terra>=0.22.*->qiskit-nature) (5.10.0)\n",
      "Requirement already satisfied: mpmath>=0.19 in /home/alain/psi4conda/lib/python3.8/site-packages (from sympy>=1.3->qiskit-terra>=0.22.*->qiskit-nature) (1.2.1)\n",
      "Installing collected packages: qiskit-terra\n",
      "  Attempting uninstall: qiskit-terra\n",
      "    Found existing installation: qiskit-terra 0.21.2\n",
      "    Uninstalling qiskit-terra-0.21.2:\n",
      "      Successfully uninstalled qiskit-terra-0.21.2\n",
      "\u001b[31mERROR: pip's dependency resolver does not currently take into account all the packages that are installed. This behaviour is the source of the following dependency conflicts.\n",
      "qiskit 0.38.0 requires qiskit-terra==0.21.2, but you have qiskit-terra 0.22.3 which is incompatible.\u001b[0m\n",
      "Successfully installed qiskit-terra-0.22.3\n",
      "Note: you may need to restart the kernel to use updated packages.\n"
     ]
    }
   ],
   "source": [
    "pip install qiskit-nature"
   ]
  },
  {
   "cell_type": "markdown",
   "metadata": {
    "id": "pREHzIBxgoGB"
   },
   "source": [
    "Install PySCF with the following command:"
   ]
  },
  {
   "cell_type": "code",
   "execution_count": 6,
   "metadata": {
    "colab": {
     "base_uri": "https://localhost:8080/"
    },
    "id": "Tu3pFrmffNhZ",
    "outputId": "96ee82cf-4597-406d-d94a-b149f18c02b7"
   },
   "outputs": [
    {
     "name": "stdout",
     "output_type": "stream",
     "text": [
      "Requirement already satisfied: pyscf in /home/alain/psi4conda/lib/python3.8/site-packages (2.1.1)\n",
      "Requirement already satisfied: h5py>=2.7 in /home/alain/psi4conda/lib/python3.8/site-packages (from pyscf) (3.6.0)\n",
      "Requirement already satisfied: scipy!=1.5.0,!=1.5.1 in /home/alain/psi4conda/lib/python3.8/site-packages (from pyscf) (1.7.1)\n",
      "Requirement already satisfied: numpy!=1.16,!=1.17,>=1.13 in /home/alain/psi4conda/lib/python3.8/site-packages (from pyscf) (1.21.2)\n",
      "Note: you may need to restart the kernel to use updated packages.\n"
     ]
    }
   ],
   "source": [
    "pip install pyscf"
   ]
  },
  {
   "cell_type": "markdown",
   "metadata": {
    "id": "_S1V_zmZGD1G"
   },
   "source": [
    "Install QuTiP with the following command:"
   ]
  },
  {
   "cell_type": "code",
   "execution_count": 7,
   "metadata": {
    "colab": {
     "base_uri": "https://localhost:8080/"
    },
    "id": "2zcuvbASF-Qe",
    "outputId": "5f78d667-2dbe-4f1f-a9b2-29491e3598c1"
   },
   "outputs": [
    {
     "name": "stdout",
     "output_type": "stream",
     "text": [
      "Requirement already satisfied: qutip in /home/alain/psi4conda/lib/python3.8/site-packages (4.7.0)\n",
      "Requirement already satisfied: scipy>=1.0 in /home/alain/psi4conda/lib/python3.8/site-packages (from qutip) (1.7.1)\n",
      "Requirement already satisfied: packaging in /home/alain/psi4conda/lib/python3.8/site-packages (from qutip) (21.3)\n",
      "Requirement already satisfied: numpy>=1.16.6 in /home/alain/psi4conda/lib/python3.8/site-packages (from qutip) (1.21.2)\n",
      "Requirement already satisfied: pyparsing!=3.0.5,>=2.0.2 in /home/alain/psi4conda/lib/python3.8/site-packages (from packaging->qutip) (3.0.4)\n",
      "Note: you may need to restart the kernel to use updated packages.\n"
     ]
    }
   ],
   "source": [
    "pip install qutip"
   ]
  },
  {
   "cell_type": "markdown",
   "metadata": {
    "id": "2HSQs87JGuOK"
   },
   "source": [
    "Install ASE with the following command:"
   ]
  },
  {
   "cell_type": "code",
   "execution_count": 8,
   "metadata": {
    "colab": {
     "base_uri": "https://localhost:8080/"
    },
    "id": "JGdC6bR_czCf",
    "outputId": "bb982010-730b-436d-e108-1e3a3b73cce4"
   },
   "outputs": [
    {
     "name": "stdout",
     "output_type": "stream",
     "text": [
      "Requirement already satisfied: ase in /home/alain/psi4conda/lib/python3.8/site-packages (3.22.1)\n",
      "Requirement already satisfied: numpy>=1.15.0 in /home/alain/psi4conda/lib/python3.8/site-packages (from ase) (1.21.2)\n",
      "Requirement already satisfied: scipy>=1.1.0 in /home/alain/psi4conda/lib/python3.8/site-packages (from ase) (1.7.1)\n",
      "Requirement already satisfied: matplotlib>=3.1.0 in /home/alain/psi4conda/lib/python3.8/site-packages (from ase) (3.4.3)\n",
      "Requirement already satisfied: kiwisolver>=1.0.1 in /home/alain/psi4conda/lib/python3.8/site-packages (from matplotlib>=3.1.0->ase) (1.3.1)\n",
      "Requirement already satisfied: pillow>=6.2.0 in /home/alain/psi4conda/lib/python3.8/site-packages (from matplotlib>=3.1.0->ase) (8.4.0)\n",
      "Requirement already satisfied: cycler>=0.10 in /home/alain/psi4conda/lib/python3.8/site-packages (from matplotlib>=3.1.0->ase) (0.10.0)\n",
      "Requirement already satisfied: python-dateutil>=2.7 in /home/alain/psi4conda/lib/python3.8/site-packages (from matplotlib>=3.1.0->ase) (2.8.2)\n",
      "Requirement already satisfied: pyparsing>=2.2.1 in /home/alain/psi4conda/lib/python3.8/site-packages (from matplotlib>=3.1.0->ase) (3.0.4)\n",
      "Requirement already satisfied: six in /home/alain/psi4conda/lib/python3.8/site-packages (from cycler>=0.10->matplotlib>=3.1.0->ase) (1.16.0)\n",
      "Note: you may need to restart the kernel to use updated packages.\n"
     ]
    }
   ],
   "source": [
    "pip install ase"
   ]
  },
  {
   "cell_type": "markdown",
   "metadata": {
    "id": "v6sRTZCwoLBw"
   },
   "source": [
    "Install PyQMC with the following command:"
   ]
  },
  {
   "cell_type": "code",
   "execution_count": 9,
   "metadata": {
    "colab": {
     "base_uri": "https://localhost:8080/"
    },
    "id": "qoYWuDLll5Z3",
    "outputId": "1fa9b4e7-3fa8-4968-b357-1606191db18f"
   },
   "outputs": [
    {
     "name": "stdout",
     "output_type": "stream",
     "text": [
      "Requirement already satisfied: pyqmc in /home/alain/psi4conda/lib/python3.8/site-packages (0.5.0)\n",
      "Requirement already satisfied: h5py in /home/alain/psi4conda/lib/python3.8/site-packages (from pyqmc) (3.6.0)\n",
      "Requirement already satisfied: pandas in /home/alain/psi4conda/lib/python3.8/site-packages (from pyqmc) (1.3.4)\n",
      "Requirement already satisfied: pyscf in /home/alain/psi4conda/lib/python3.8/site-packages (from pyqmc) (2.1.1)\n",
      "Requirement already satisfied: scipy in /home/alain/psi4conda/lib/python3.8/site-packages (from pyqmc) (1.7.1)\n",
      "Requirement already satisfied: numpy>=1.14.5 in /home/alain/psi4conda/lib/python3.8/site-packages (from h5py->pyqmc) (1.21.2)\n",
      "Requirement already satisfied: python-dateutil>=2.7.3 in /home/alain/psi4conda/lib/python3.8/site-packages (from pandas->pyqmc) (2.8.2)\n",
      "Requirement already satisfied: pytz>=2017.3 in /home/alain/psi4conda/lib/python3.8/site-packages (from pandas->pyqmc) (2021.3)\n",
      "Requirement already satisfied: six>=1.5 in /home/alain/psi4conda/lib/python3.8/site-packages (from python-dateutil>=2.7.3->pandas->pyqmc) (1.16.0)\n",
      "Note: you may need to restart the kernel to use updated packages.\n"
     ]
    }
   ],
   "source": [
    "pip install pyqmc --upgrade"
   ]
  },
  {
   "cell_type": "markdown",
   "metadata": {
    "id": "4nIeJ3or_sBT"
   },
   "source": [
    "Install h5py with the following command:"
   ]
  },
  {
   "cell_type": "code",
   "execution_count": 10,
   "metadata": {
    "colab": {
     "base_uri": "https://localhost:8080/"
    },
    "id": "88X3YHN-_ukQ",
    "outputId": "9b1d646b-7f5c-4d5c-95f7-30b13f9fe25b"
   },
   "outputs": [
    {
     "name": "stdout",
     "output_type": "stream",
     "text": [
      "Requirement already satisfied: h5py in /home/alain/psi4conda/lib/python3.8/site-packages (3.6.0)\n",
      "Requirement already satisfied: numpy>=1.14.5 in /home/alain/psi4conda/lib/python3.8/site-packages (from h5py) (1.21.2)\n",
      "Note: you may need to restart the kernel to use updated packages.\n"
     ]
    }
   ],
   "source": [
    "pip install h5py"
   ]
  },
  {
   "cell_type": "markdown",
   "metadata": {
    "id": "gK8E5qN6miGi"
   },
   "source": [
    "Install SciPy with the following command:"
   ]
  },
  {
   "cell_type": "code",
   "execution_count": 11,
   "metadata": {
    "colab": {
     "base_uri": "https://localhost:8080/"
    },
    "id": "jrkzrEr3mj1t",
    "outputId": "3e538b6e-4dd0-4f6f-c8ff-ab74be714bc8"
   },
   "outputs": [
    {
     "name": "stdout",
     "output_type": "stream",
     "text": [
      "Requirement already satisfied: scipy in /home/alain/psi4conda/lib/python3.8/site-packages (1.7.1)\n",
      "Requirement already satisfied: numpy<1.23.0,>=1.16.5 in /home/alain/psi4conda/lib/python3.8/site-packages (from scipy) (1.21.2)\n",
      "Note: you may need to restart the kernel to use updated packages.\n"
     ]
    }
   ],
   "source": [
    "pip install scipy"
   ]
  },
  {
   "cell_type": "markdown",
   "metadata": {
    "id": "OxaMfQHwEOdg"
   },
   "source": [
    "Import NumPy with the following command:"
   ]
  },
  {
   "cell_type": "code",
   "execution_count": 12,
   "metadata": {
    "id": "QhaIzlQ5EN3r"
   },
   "outputs": [],
   "source": [
    "import numpy as np"
   ]
  },
  {
   "cell_type": "markdown",
   "metadata": {
    "id": "6PSJLYf6cMeH"
   },
   "source": [
    "Import Matplotlib, a comprehensive library for creating static, animated, and interactive visualizations in Python with the following command:\n",
    "\n"
   ]
  },
  {
   "cell_type": "code",
   "execution_count": 13,
   "metadata": {
    "id": "nJSPiCdFcG-9"
   },
   "outputs": [],
   "source": [
    "import matplotlib.pyplot as plt"
   ]
  },
  {
   "cell_type": "markdown",
   "metadata": {
    "id": "N9_Mtr8sEl3I"
   },
   "source": [
    "Import the required functions and class methods. The array_to_latex function() returns a Latex representation of a complex array with dimension 1 or 2:"
   ]
  },
  {
   "cell_type": "code",
   "execution_count": 14,
   "metadata": {
    "colab": {
     "base_uri": "https://localhost:8080/",
     "height": 387
    },
    "id": "wplPi--1ogzl",
    "outputId": "94d703f9-a17c-4a99-de0c-8ea5b4bfc04a"
   },
   "outputs": [],
   "source": [
    "from qiskit.visualization import array_to_latex, plot_bloch_vector, plot_bloch_multivector, plot_state_qsphere, plot_state_city\n",
    "from qiskit import QuantumRegister, ClassicalRegister, QuantumCircuit, transpile\n",
    "from qiskit import execute, Aer\n",
    "import qiskit.quantum_info as qi\n",
    "from qiskit.extensions import Initialize\n",
    "#from qiskit.providers.aer import extensions  # import aer snapshot instructions"
   ]
  },
  {
   "cell_type": "markdown",
   "metadata": {
    "id": "dVEh1h6Nb975"
   },
   "source": [
    "Import Qiskit Nature libraries with the following commands:\n",
    "\n",
    "\n",
    "\n",
    "\n",
    "\n",
    "\n"
   ]
  },
  {
   "cell_type": "code",
   "execution_count": 15,
   "metadata": {
    "id": "Hhf24btZbj7x"
   },
   "outputs": [],
   "source": [
    "from qiskit import Aer\n",
    "from qiskit_nature.drivers import UnitsType, Molecule\n",
    "\n",
    "#from qiskit_nature.drivers.second_quantization import ElectronicStructureDriverType, ElectronicStructureMoleculeDriver\n",
    "#from qiskit_nature.problems.second_quantization import ElectronicStructureProblem\n",
    "#from qiskit_nature.mappers.second_quantization import ParityMapper, JordanWignerMapper, BravyiKitaevMapper\n",
    "#from qiskit_nature.converters.second_quantization import QubitConverter\n",
    "\n",
    "# Electronic Structure Problems with v0.5\n",
    "# https://qiskit.org/documentation/nature/migration/00b_Electronic_structure_with_v0.5.html\n",
    "from qiskit_nature.second_q.formats.molecule_info import MoleculeInfo\n",
    "from qiskit_nature.units import DistanceUnit\n",
    "from qiskit_nature.second_q.drivers import PySCFDriver\n",
    "from qiskit_nature.second_q.mappers import QubitConverter\n",
    "from qiskit_nature.second_q.mappers import ParityMapper, JordanWignerMapper, BravyiKitaevMapper\n",
    "from qiskit_nature.second_q.properties import ParticleNumber\n",
    "from qiskit_nature.second_q.transformers import ActiveSpaceTransformer, FreezeCoreTransformer\n",
    "\n",
    "#from qiskit_nature.operators.second_quantization import FermionicOp\n",
    "#from qiskit_nature.circuit.library.initial_states import HartreeFock\n",
    "#from qiskit_nature.circuit.library.ansatzes import UCCSD"
   ]
  },
  {
   "cell_type": "markdown",
   "metadata": {
    "id": "64cFXNNGkGuI"
   },
   "source": [
    "Import the Qiskit Aer statevector simulator and various algorithms with the following commands:"
   ]
  },
  {
   "cell_type": "code",
   "execution_count": 16,
   "metadata": {
    "id": "IA8RPyqukF4d"
   },
   "outputs": [],
   "source": [
    "from qiskit.providers.aer import StatevectorSimulator\n",
    "from qiskit import Aer\n",
    "from qiskit.utils import QuantumInstance\n",
    "\n",
    "#from qiskit_nature.algorithms import VQEUCCFactory, GroundStateEigensolver, NumPyMinimumEigensolverFactory, BOPESSampler\n",
    "#from qiskit.algorithms import NumPyMinimumEigensolver, VQE, HamiltonianPhaseEstimation, PhaseEstimation\n",
    "\n",
    "from qiskit.algorithms import HamiltonianPhaseEstimation, PhaseEstimation\n",
    "\n",
    "# https://github.com/Qiskit/qiskit-nature/issues/750\n",
    "#from qiskit_nature.algorithms import BOPESSampler\n",
    "\n",
    "# https://qiskit.org/documentation/nature/tutorials/03_ground_state_solvers.html\n",
    "from qiskit.primitives import Estimator, Sampler\n",
    "\n",
    "from qiskit.algorithms.optimizers import SLSQP, SPSA, QNSPSA\n",
    "from qiskit_nature.second_q.algorithms import VQEUCCFactory\n",
    "from qiskit_nature.second_q.circuit.library import UCCSD\n",
    "\n",
    "from qiskit.algorithms.minimum_eigensolvers import NumPyMinimumEigensolver, VQE\n",
    "from qiskit_nature.second_q.algorithms.ground_state_solvers import GroundStateEigensolver\n",
    "\n",
    "from qiskit.circuit.library import TwoLocal\n",
    "from qiskit.opflow import StateFn, PauliExpectation,  CircuitSampler, PauliTrotterEvolution\n",
    "from functools import partial as apply_variation"
   ]
  },
  {
   "cell_type": "markdown",
   "metadata": {
    "id": "3q_1g7gbcZ1c"
   },
   "source": [
    "Import the PySCF gto and scf libraries with the following command:"
   ]
  },
  {
   "cell_type": "code",
   "execution_count": 17,
   "metadata": {
    "id": "AipShC3gcY0E"
   },
   "outputs": [],
   "source": [
    "from pyscf import gto, scf"
   ]
  },
  {
   "cell_type": "markdown",
   "metadata": {
    "id": "p7AEPOIM8jKr"
   },
   "source": [
    "Import the PyQMC API library with the following command:"
   ]
  },
  {
   "cell_type": "code",
   "execution_count": 18,
   "metadata": {
    "id": "nN8IdIUz8CTF"
   },
   "outputs": [],
   "source": [
    "import pyqmc.api as pyq"
   ]
  },
  {
   "cell_type": "markdown",
   "metadata": {
    "id": "jvZWffRz_nAS"
   },
   "source": [
    "Import h5py with the following command:\n",
    "\n"
   ]
  },
  {
   "cell_type": "code",
   "execution_count": 19,
   "metadata": {
    "id": "kptUG-hEAL3H"
   },
   "outputs": [],
   "source": [
    "import h5py"
   ]
  },
  {
   "cell_type": "markdown",
   "metadata": {
    "id": "6BY3rD8LW6NB"
   },
   "source": [
    "Import the ASE libraries, the Atoms object, molecular data, and visualizations with the following commands:"
   ]
  },
  {
   "cell_type": "code",
   "execution_count": 20,
   "metadata": {
    "id": "VW3r3lIJ3QJg"
   },
   "outputs": [],
   "source": [
    "from ase import Atoms\n",
    "from ase.build import molecule\n",
    "from ase.visualize import view"
   ]
  },
  {
   "cell_type": "markdown",
   "metadata": {
    "id": "koU0wN7hy2W9"
   },
   "source": [
    "Import the math libraries with the following commands:"
   ]
  },
  {
   "cell_type": "code",
   "execution_count": 21,
   "metadata": {
    "id": "NV8yxxgPywSj"
   },
   "outputs": [],
   "source": [
    "import cmath\n",
    "import math"
   ]
  },
  {
   "cell_type": "markdown",
   "metadata": {
    "id": "SpAPcsCe5QaG"
   },
   "source": [
    "Import Python’s statistical functions provided by the SciPy package with the following command:"
   ]
  },
  {
   "cell_type": "code",
   "execution_count": 22,
   "metadata": {
    "id": "Qc2EdXBO5O-U"
   },
   "outputs": [],
   "source": [
    "import scipy.stats as stats"
   ]
  },
  {
   "cell_type": "markdown",
   "metadata": {
    "id": "3RmYMhFPy5t8"
   },
   "source": [
    "Import QuTiP with the following command:\n",
    "\n",
    "\n",
    "\n"
   ]
  },
  {
   "cell_type": "code",
   "execution_count": 23,
   "metadata": {
    "id": "Fk7gy7fQzAri"
   },
   "outputs": [],
   "source": [
    "import qutip"
   ]
  },
  {
   "cell_type": "markdown",
   "metadata": {
    "id": "dMbTi7KfP3y9"
   },
   "source": [
    "Import time and datetime with the following command:"
   ]
  },
  {
   "cell_type": "code",
   "execution_count": 24,
   "metadata": {
    "id": "E8RSchxzrN4T"
   },
   "outputs": [],
   "source": [
    "import time, datetime"
   ]
  },
  {
   "cell_type": "markdown",
   "metadata": {
    "id": "EsiDs-xy4BXf"
   },
   "source": [
    "Import pandas and os.path with the following commands:"
   ]
  },
  {
   "cell_type": "code",
   "execution_count": 25,
   "metadata": {
    "id": "4BIIrijz3_t1"
   },
   "outputs": [],
   "source": [
    "import pandas as pd\n",
    "import os.path"
   ]
  },
  {
   "cell_type": "markdown",
   "metadata": {
    "id": "7bPyD8rkBoCi"
   },
   "source": [
    "# 5.1. Variational method\n",
    "\n",
    "## 5.1.1. The Ritz variational theorem"
   ]
  },
  {
   "cell_type": "markdown",
   "metadata": {
    "id": "fLyYloHBUQoV"
   },
   "source": [
    "## 5.1.2. Variational Monte Carlo methods"
   ]
  },
  {
   "cell_type": "code",
   "execution_count": 26,
   "metadata": {
    "id": "2WInFTkyQxTQ"
   },
   "outputs": [],
   "source": [
    "def p(x):\n",
    "  if x < 0:\n",
    "    y = 0\n",
    "  else:\n",
    "    y = np.exp(-x)\n",
    "  return(y)"
   ]
  },
  {
   "cell_type": "code",
   "execution_count": 27,
   "metadata": {
    "id": "JFVMuHUUfAi1"
   },
   "outputs": [],
   "source": [
    "n = 10000 # Size of the Markov chain stationary distribution\n",
    "\n",
    "# Use np.linspace to create an array of n numbers between 0 and n\n",
    "index = np.linspace(0, n, num=n)\n",
    "x = np.linspace(0, n, num=n)\n",
    "\n",
    "x[0] = 3     # Initialize to 3\n",
    "for i in range(1, n):\n",
    "  current_x = x[i-1]\n",
    "\n",
    "  # We add a N(0,1) random number to x\n",
    "  proposed_x = current_x + stats.norm.rvs(loc=0, scale=1, size=1, random_state=None)\n",
    "\n",
    "  A = min(1, p(proposed_x)/p(current_x))\n",
    "\n",
    "  r = np.random.uniform(0,1) # Generate a uniform random number in [0, 1]\n",
    "\n",
    "  if r < A:\n",
    "    x[i] = proposed_x       # Accept move with probabilty min(1,A)\n",
    "  else:\n",
    "    x[i] = current_x        # Otherwise \"reject\" move, and stay where we are"
   ]
  },
  {
   "cell_type": "code",
   "execution_count": 28,
   "metadata": {
    "id": "o0kfuydBsikR"
   },
   "outputs": [
    {
     "data": {
      "image/png": "[encoded data removed]",
      "text/plain": [
       "<Figure size 432x288 with 1 Axes>"
      ]
     },
     "metadata": {
      "needs_background": "light"
     },
     "output_type": "display_data"
    }
   ],
   "source": [
    "plt.plot(index, x, label=\"Trace plot\")\n",
    "plt.xlabel('Index')\n",
    "plt.ylabel('MH value')\n",
    "plt.legend()\n",
    "plt.show()"
   ]
  },
  {
   "cell_type": "markdown",
   "metadata": {
    "id": "JZsstBNM5p2t"
   },
   "source": [
    "Figure 5.2 – Plot of the locations visited by the Markov chain  x"
   ]
  },
  {
   "cell_type": "code",
   "execution_count": 29,
   "metadata": {
    "id": "MXba7Tao8P-c"
   },
   "outputs": [
    {
     "name": "stdout",
     "output_type": "stream",
     "text": [
      "Freedman–Diaconis number of bins: 67\n"
     ]
    }
   ],
   "source": [
    "q25, q75 = np.percentile(x, [25, 75])\n",
    "bin_width = 2 * (q75 - q25) * len(x) ** (-1/3)\n",
    "bins = round((x.max() - x.min()) / bin_width)\n",
    "print(\"Freedman–Diaconis number of bins:\", bins)"
   ]
  },
  {
   "cell_type": "code",
   "execution_count": 30,
   "metadata": {
    "id": "is8MAaW17KQR"
   },
   "outputs": [
    {
     "data": {
      "image/png": "[encoded data removed]",
      "text/plain": [
       "<Figure size 432x288 with 1 Axes>"
      ]
     },
     "metadata": {
      "needs_background": "light"
     },
     "output_type": "display_data"
    }
   ],
   "source": [
    "plt.hist(x, density=True, bins=bins)\n",
    "plt.ylabel('Density')\n",
    "plt.xlabel('x');"
   ]
  },
  {
   "cell_type": "markdown",
   "metadata": {
    "id": "daX3yFS4yy06"
   },
   "source": [
    "Figure 5.3 – Histogram of the Markov chain  x"
   ]
  },
  {
   "cell_type": "code",
   "execution_count": 31,
   "metadata": {
    "id": "O8uSBgdlNCiY"
   },
   "outputs": [],
   "source": [
    "def run_PySCF(info_dict, pyqmc=True, show=True):\n",
    "  # Reset the files\n",
    "  for fname in ['mf.hdf5','optimized_wf.hdf5','vmc_data.hdf5','dmc.hdf5']:\n",
    "    if os.path.isfile(fname):\n",
    "        os.remove(fname)\n",
    "  \n",
    "  atoms = info_dict['atoms']\n",
    "  coords = info_dict['coords']\n",
    "  charge = info_dict['charge']\n",
    "  multiplicity = info_dict['multiplicity']\n",
    "  atom_pair = info_dict['atom_pair']\n",
    "\n",
    "  s = ''\n",
    "  k = 0\n",
    "  for atom in atoms:\n",
    "    s += atoms[k] + ' ' + str(coords[k][0]) + ' ' + str(coords[k][1]) + ' ' + str(coords[k][2]) + '; '\n",
    "    k += 1\n",
    "  s = s[0:-2]\n",
    "  \n",
    "  mol_PySCF = gto.M(atom = s)\n",
    "  \n",
    "  mf = scf.RHF(mol_PySCF)\n",
    "  mf.chkfile = \"mf.hdf5\"\n",
    "  \n",
    "  conv, e, mo_e, mo, mo_occ = scf.hf.kernel(mf)\n",
    "  if show:\n",
    "    if conv:\n",
    "      print(\"PySCF restricted HF (RHF) converged ground-state energy: {:.12f}\".format(e))\n",
    "    else:\n",
    "      print(\"PySCF restricted HF (RHF) ground-state computation failed to converge\")\n",
    "\n",
    "  if pyqmc:\n",
    "    pyq.OPTIMIZE(\"mf.hdf5\",# Construct a Slater-Jastrow wave function from the pyscf output\n",
    "      \"optimized_wf.hdf5\", # Store optimized parameters in this file.\n",
    "      nconfig=100,         # Optimize using this many Monte Carlo samples/configurations\n",
    "      max_iterations=4,    # 4 optimization steps\n",
    "      verbose=False)\n",
    "\n",
    "    with h5py.File(\"optimized_wf.hdf5\") as f:\n",
    "      iter = f['iteration']\n",
    "      energy = f['energy']\n",
    "      error = f['energy_error']\n",
    "      l = energy.shape[0]\n",
    "      e = energy[l-1]\n",
    "      err = error[l-1]\n",
    "      if show:\n",
    "        if err < 0.1:\n",
    "          print(\"Iteration, Energy, Error\")\n",
    "          for k in iter:\n",
    "            print(\"{}:         {:.4f} {:.4f}\".format(k, energy[k], error[k]))\n",
    "          print(\"PyQMC Monte Carlo converged ground-state energy: {:.12f}, error: {:.4f}\".format(e, err))\n",
    "        else:\n",
    "          print(\"PyQMC Monte Carlo failed to converge\")\n",
    "\n",
    "  return conv, e"
   ]
  },
  {
   "cell_type": "markdown",
   "metadata": {
    "id": "HvCCPvHW_2Q2"
   },
   "source": [
    "## 5.1.3. Quantum Phase Estimation (QPE)"
   ]
  },
  {
   "cell_type": "code",
   "execution_count": 32,
   "metadata": {
    "id": "Bag4FJG5CoJv"
   },
   "outputs": [],
   "source": [
    "def U(theta):\n",
    "  unitary = QuantumCircuit(1)\n",
    "  unitary.p(np.pi*2*theta, 0)\n",
    "  return unitary"
   ]
  },
  {
   "cell_type": "code",
   "execution_count": 33,
   "metadata": {
    "id": "GMc84XyLDllg"
   },
   "outputs": [],
   "source": [
    "def do_qpe(unitary, nqubits=3, show=True):\n",
    "  state_in = QuantumCircuit(1)\n",
    "  state_in.x(0)\n",
    "  pe = PhaseEstimation(num_evaluation_qubits=nqubits, quantum_instance=quantum_instance)\n",
    "  result = pe.estimate(unitary, state_in)\n",
    "  phase_out = result.phase\n",
    "  if show:\n",
    "    print(\"Number of qubits: {}, QPE phase estimate: {}\".format(nqubits, phase_out))\n",
    "  return(phase_out)"
   ]
  },
  {
   "cell_type": "code",
   "execution_count": 34,
   "metadata": {
    "id": "-BClSbzXDu-v"
   },
   "outputs": [
    {
     "name": "stdout",
     "output_type": "stream",
     "text": [
      "theta: 0.875\n",
      "Number of qubits: 3, QPE phase estimate: 0.875\n"
     ]
    }
   ],
   "source": [
    "quantum_instance = QuantumInstance(backend = Aer.get_backend('aer_simulator_statevector'))\n",
    "theta = 1/2 + 1/4 + 1/8\n",
    "print(\"theta: {}\".format(theta))\n",
    "unitary = U(theta)\n",
    "result = do_qpe(unitary, nqubits=3)"
   ]
  },
  {
   "cell_type": "code",
   "execution_count": 35,
   "metadata": {
    "id": "75807vgGEde2"
   },
   "outputs": [
    {
     "name": "stdout",
     "output_type": "stream",
     "text": [
      "theta: 0.99609375\n",
      "Number of qubits: 8, QPE phase estimate: 0.99609375\n"
     ]
    }
   ],
   "source": [
    "theta = 1/2 + 1/4 + 1/8 + 1/16 + 1/32 + 1/64 + 1/128 + 1/256\n",
    "print(\"theta: {}\".format(theta))\n",
    "unitary = U(theta)\n",
    "result = do_qpe(unitary, nqubits=8)"
   ]
  },
  {
   "cell_type": "markdown",
   "metadata": {
    "id": "cbOkuGV3UB8l"
   },
   "source": [
    "## 5.1.4. Description of the VQE algorithm"
   ]
  },
  {
   "cell_type": "markdown",
   "metadata": {
    "id": "So7eKKk7vLOb"
   },
   "source": [
    "### Trial wavefunctions\n",
    "\n",
    "### Setting-up the VQE solver"
   ]
  },
  {
   "cell_type": "code",
   "execution_count": 36,
   "metadata": {
    "id": "8pG_4qK4W4PM"
   },
   "outputs": [],
   "source": [
    "quantum_instance = QuantumInstance(backend = Aer.get_backend('aer_simulator_statevector'))"
   ]
  },
  {
   "cell_type": "code",
   "execution_count": 37,
   "metadata": {
    "id": "VhOBLKHgwinZ"
   },
   "outputs": [],
   "source": [
    "numpy_solver = NumPyMinimumEigensolver()"
   ]
  },
  {
   "cell_type": "code",
   "execution_count": 38,
   "metadata": {
    "id": "LyQzqQ32W88Q"
   },
   "outputs": [],
   "source": [
    "tl_circuit = TwoLocal(rotation_blocks = ['h', 'rx'], entanglement_blocks = 'cz',\n",
    "                      entanglement='full', reps=2, parameter_prefix = 'y')"
   ]
  },
  {
   "cell_type": "code",
   "execution_count": 39,
   "metadata": {
    "id": "pg9f1GE3XAYg"
   },
   "outputs": [],
   "source": [
    "# Leveraging Qiskit Runtime\n",
    "# https://qiskit.org/documentation/nature/tutorials/07_leveraging_qiskit_runtime.html\n",
    "\n",
    "#vqe_tl_solver = VQE(ansatz = tl_circuit,\n",
    "                     #quantum_instance = QuantumInstance(Aer.get_backend('aer_simulator_statevector')))\n",
    "estimator = Estimator()\n",
    "optimizer = SPSA(maxiter=100)\n",
    "vqe_tl_solver = VQE(estimator, tl_circuit, optimizer)"
   ]
  },
  {
   "cell_type": "code",
   "execution_count": 40,
   "metadata": {
    "id": "8aLqIBB2WmF7"
   },
   "outputs": [],
   "source": [
    "#vqe_ucc_solver = VQEUCCFactory(quantum_instance, ansatz = tl_circuit)\n",
    "#https://qiskit.org/documentation/nature/tutorials/03_ground_state_solvers.html\n",
    "vqe_ucc_solver = VQEUCCFactory(Estimator(), UCCSD(), SLSQP())"
   ]
  },
  {
   "cell_type": "code",
   "execution_count": 41,
   "metadata": {
    "id": "Ihi0Sbo0WFIk"
   },
   "outputs": [],
   "source": [
    "qnspsa_loss = []\n",
    "def qnspsa_callback(nfev, x, fx, stepsize, accepted):\n",
    "    qnspsa_loss.append(fx)"
   ]
  },
  {
   "cell_type": "code",
   "execution_count": 42,
   "metadata": {},
   "outputs": [],
   "source": [
    "# Sampling the potential energy surface\n",
    "_EPS = 1e-2 # Global variable used to chop small numbers to zero\n",
    "def bopes(info_dict, mapper, num_electrons, num_spatial_orbitals, two_qubit_reduction, z2symmetry_reduction,\n",
    "          name_solver, perturbation_steps, qubit_converter, solver, show=True):\n",
    "  \n",
    "  atoms = info_dict['atoms']\n",
    "  coords = info_dict['coords']\n",
    "  charge = info_dict['charge']\n",
    "  multiplicity = info_dict['multiplicity']\n",
    "  atom_pair = info_dict['atom_pair']\n",
    "\n",
    "  size = len(perturbation_steps)\n",
    "  \n",
    "  energy = np.empty(size)\n",
    "\n",
    "  x0 = coords[atom_pair[0]][0]\n",
    "  y0 = coords[atom_pair[0]][1]\n",
    "  z0 = coords[atom_pair[0]][2]\n",
    "  if show:\n",
    "    print(\"x0, y0, z0 :\", x0, y0, z0)\n",
    "  \n",
    "  x1 = coords[atom_pair[1]][0]\n",
    "  y1 = coords[atom_pair[1]][1]\n",
    "  z1 = coords[atom_pair[1]][2]\n",
    "  if show:\n",
    "    print(\"x1, y1, z1 :\", x1, y1, z1)\n",
    "  \n",
    "  m = 0\n",
    "  p = y0\n",
    "  if abs(x1 - x0) > _EPS:\n",
    "    # Find the equation of a straight line y = m*x + p that crosses the points of the atom pair\n",
    "    m = (y1 - y0)/(x1 - x0)\n",
    "    p = y0 - m*x0  \n",
    "  \n",
    "  print(\"Number of perturbation steps: \", size)\n",
    "  for k in range(size):\n",
    "    print(\"Step: \", k)\n",
    "    \n",
    "    if (abs(x0)<_EPS and abs(y0)<_EPS):\n",
    "      z0_new = z0 + perturbation_steps[k]\n",
    "      coords_new = []\n",
    "      for l in range(len(coords)):\n",
    "        if l == atom_pair[0]:\n",
    "          coords_new.append((0.0, 0.0, z0_new))\n",
    "        else:\n",
    "          coords_new.append(coords[l])\n",
    "\n",
    "    elif (abs(z0)<_EPS and abs(z1)<_EPS):\n",
    "      x0_new = x0 + perturbation_steps[k]\n",
    "      y0_new = m*x0_new + p\n",
    "      coords_new = []\n",
    "      for l in range(len(coords)):\n",
    "        if l == atom_pair[0]:\n",
    "          coords_new.append((x0_new, y0_new, 0.0))\n",
    "        else:\n",
    "          coords_new.append(coords[l])\n",
    "    else:\n",
    "        print(\"bopes - Error: unsupported molecule geometry, atom pairs must be in the same line or in the same plane\")\n",
    "        return perturbation_steps, 0\n",
    "    \n",
    "    info_dict_new={'atoms':atoms, 'coords':coords_new, 'charge':charge, \n",
    "                  'multiplicity':multiplicity, 'atom_pair':atom_pair}\n",
    "    \n",
    "    fermionic_hamiltonian, num_particles, num_spin_orbitals, qubit_op, qubit_converter, ground_state = \\\n",
    "    solve_ground_state(info_dict_new, mapper=mapper, num_electrons=num_electrons, num_spatial_orbitals=num_spatial_orbitals,\n",
    "                  two_qubit_reduction=two_qubit_reduction, z2symmetry_reduction=z2symmetry_reduction, \n",
    "                  name_solver=name_solver, solver=solver, pyqmc=False, show=show)\n",
    "    \n",
    "    energy[k] = ground_state.total_energies\n",
    "    \n",
    "  return perturbation_steps, energy"
   ]
  },
  {
   "cell_type": "markdown",
   "metadata": {
    "id": "LM65eKkliwmY"
   },
   "source": [
    "# 5.2. Example chemical calculations"
   ]
  },
  {
   "cell_type": "code",
   "execution_count": 43,
   "metadata": {
    "id": "dfmNsOkfiwmZ"
   },
   "outputs": [],
   "source": [
    "def get_particle_number(problem, show=True):\n",
    "  # https://qiskit.org/documentation/nature/stubs/qiskit_nature.second_q.problems.ElectronicStructureProblem.num_spin_orbitals.html\n",
    "  num_spin_orbitals = problem.num_spin_orbitals\n",
    "  num_particles = problem.num_particles\n",
    "  \n",
    "  if show:\n",
    "    print(\"Number of particles: {}\".format(num_particles))\n",
    "    print(\"Number of spin orbitals: {}\".format(num_spin_orbitals))\n",
    "    \n",
    "  return num_particles, num_spin_orbitals"
   ]
  },
  {
   "cell_type": "code",
   "execution_count": 44,
   "metadata": {
    "id": "jzxFDQN2iwmZ"
   },
   "outputs": [],
   "source": [
    "def fermion_to_qubit(problem, second_q_op, mapper, truncate=20, two_qubit_reduction=False, z2symmetry_reduction=None, show=True): \n",
    "# Electronic Structure Problems with v0.5\n",
    "# https://qiskit.org/documentation/nature/migration/00b_Electronic_structure_with_v0.5.html\n",
    "# https://qiskit.org/documentation/nature/stubs/qiskit_nature.second_q.mappers.QubitConverter.html#qubitconverter\n",
    "  if show:\n",
    "    print(\"Qubit Hamiltonian operator\")\n",
    "  dmap = {\"Jordan-Wigner\": JordanWignerMapper(), \"Parity\": ParityMapper(), \"Bravyi-Kitaev\": BravyiKitaevMapper()}\n",
    "  qubit_op = None\n",
    "  qubit_converter = None\n",
    "  for k, v in dmap.items():\n",
    "    if k == mapper:\n",
    "      if show:\n",
    "        print(\"{} transformation \". format(mapper))\n",
    "      qubit_converter = QubitConverter(v, two_qubit_reduction=two_qubit_reduction, z2symmetry_reduction=z2symmetry_reduction)\n",
    "      # QubitConverter.convert\n",
    "      # https://qiskit.org/documentation/nature/stubs/qiskit_nature.second_q.mappers.QubitConverter.convert.html\n",
    "      if two_qubit_reduction:\n",
    "        qubit_op = qubit_converter.convert(second_q_op, num_particles=problem.num_particles)\n",
    "      else:\n",
    "        qubit_op = qubit_converter.convert(second_q_op)\n",
    "      n_items = len(qubit_op)\n",
    "      if show:\n",
    "        print(\"Number of items in the Pauli list:\", n_items)\n",
    "        if n_items <= truncate:\n",
    "          print(qubit_op)\n",
    "        else:\n",
    "          print(qubit_op[0:truncate])\n",
    "  return qubit_op, qubit_converter"
   ]
  },
  {
   "cell_type": "code",
   "execution_count": 45,
   "metadata": {
    "id": "7KtqcWwYiwma"
   },
   "outputs": [],
   "source": [
    "# Leveraging Qiskit Runtime\n",
    "# https://qiskit.org/documentation/nature/tutorials/07_leveraging_qiskit_runtime.html\n",
    "def run_vqe(name, problem, qubit_converter, solver, show=True):\n",
    "  calc = GroundStateEigensolver(qubit_converter, solver)\n",
    "  start = time.time()\n",
    "  ground_state = calc.solve(problem)\n",
    "  elapsed = str(datetime.timedelta(seconds = time.time()-start))\n",
    "  if show:\n",
    "    print(\"Running the VQE using the {}\".format(name))\n",
    "    print(\"Elapsed time: {} \\n\".format(elapsed))\n",
    "    print(ground_state)\n",
    "  return ground_state"
   ]
  },
  {
   "cell_type": "code",
   "execution_count": 46,
   "metadata": {
    "id": "DrdDPmSy5lG0"
   },
   "outputs": [],
   "source": [
    "def run_qpe(qubit_op, n_ancillae=3, num_time_slices = 1, show=True):\n",
    "  evolution = PauliTrotterEvolution('trotter', reps=num_time_slices)\n",
    "\n",
    "  qpe = HamiltonianPhaseEstimation(n_ancillae, quantum_instance=quantum_instance)\n",
    "  state_preparation = None\n",
    "  result = qpe.estimate(qubit_op, state_preparation, evolution=evolution)\n",
    "\n",
    "  eigv = result.most_likely_eigenvalue\n",
    "  \n",
    "  if show:\n",
    "    print(\"QPE computed electronic ground state energy (Hartree): {}\".format(eigv))\n",
    "  \n",
    "  return eigv"
   ]
  },
  {
   "cell_type": "code",
   "execution_count": 47,
   "metadata": {
    "id": "-sLSVAzXC4_a"
   },
   "outputs": [],
   "source": [
    "def plot_energy_landscape(dist, energy):\n",
    "  if len(dist) > 1:\n",
    "      plt.plot(dist, energy, label=\"VQE Energy\")\n",
    "      plt.xlabel('Atomic distance Deviation(Angstrom)')\n",
    "      plt.ylabel('Energy (hartree)')\n",
    "      plt.legend()\n",
    "      plt.show()\n",
    "  else:\n",
    "      print(\"Total Energy is: \", energy_surface_result.energies[0], \"hartree\")\n",
    "      print(\"(No need to plot, only one configuration calculated.)\")\n",
    "  return"
   ]
  },
  {
   "cell_type": "code",
   "execution_count": 48,
   "metadata": {
    "id": "XBO9ULlLcW2B"
   },
   "outputs": [],
   "source": [
    "def plot_loss(loss, label, target):\n",
    "  plt.figure(figsize=(12, 6))\n",
    "  plt.plot(loss, 'tab:green', ls='--', label=label)\n",
    "  plt.axhline(target, c='tab:red', ls='--', label='target')\n",
    "  plt.ylabel('loss')\n",
    "  plt.xlabel('iterations')\n",
    "  plt.legend()"
   ]
  },
  {
   "cell_type": "code",
   "execution_count": 49,
   "metadata": {
    "id": "eN9lS_TNce2k"
   },
   "outputs": [],
   "source": [
    "def solve_ground_state(\n",
    "    info_dict,\n",
    "    mapper =\"Parity\",\n",
    "    num_electrons=None,\n",
    "    num_spatial_orbitals=None,\n",
    "    freeze_core=None, \n",
    "    two_qubit_reduction=False,\n",
    "    z2symmetry_reduction = \"Auto\",\n",
    "    name_solver='NumPy exact solver',\n",
    "    solver=NumPyMinimumEigensolver(),\n",
    "    plot_bopes=False,\n",
    "    perturbation_steps=np.linspace(-1, 1, 3),\n",
    "    pyqmc=True,\n",
    "    n_ancillae=3, \n",
    "    num_time_slices=1,\n",
    "    loss=[],\n",
    "    label=None,\n",
    "    target=None,\n",
    "    show=True\n",
    "):\n",
    "    \n",
    "    atoms = info_dict['atoms']\n",
    "    coords = info_dict['coords']\n",
    "    charge = info_dict['charge']\n",
    "    multiplicity = info_dict['multiplicity']\n",
    "    atom_pair = info_dict['atom_pair']\n",
    "    \n",
    "    moleculeinfo = MoleculeInfo(atoms, coords, charge=charge, multiplicity=multiplicity)\n",
    "    \n",
    "    # Define the electronic structure molecule driver\n",
    "    # Electronic Structure Problems with v0.5\n",
    "    # https://qiskit.org/documentation/nature/migration/00b_Electronic_structure_with_v0.5.html\n",
    "    # https://qiskit.org/documentation/nature/tutorials/01_electronic_structure.html\n",
    "    driver = PySCFDriver.from_molecule(moleculeinfo, basis=\"sto3g\")\n",
    "\n",
    "    # Split into classical and quantum\n",
    "    if num_electrons != None and num_spatial_orbitals != None:\n",
    "      # https://qiskit.org/documentation/nature/tutorials/05_problem_transformers.html\n",
    "      # https://qiskit.org/documentation/nature/stubs/qiskit_nature.second_q.transformers.ActiveSpaceTransformer.html#activespacetransformer\n",
    "      split = ActiveSpaceTransformer(num_electrons=num_electrons, num_spatial_orbitals=num_spatial_orbitals)\n",
    "    else:\n",
    "      split = None\n",
    "\n",
    "    # Define an electronic structure problem\n",
    "    problem = driver.run()\n",
    "    if split != None:\n",
    "      problem = split.transform(problem)\n",
    "    elif freeze_core != None:\n",
    "      problem = freeze_core.transform(problem)\n",
    "    \n",
    "    # Get the electronic energy fermionic Hamiltonian\n",
    "    fermionic_hamiltonian = problem.hamiltonian\n",
    "    second_q_op = fermionic_hamiltonian.second_q_op()\n",
    "    \n",
    "    if show:\n",
    "      print(\"Fermionic Hamiltonian operator\")\n",
    "      # We print the first 20 terms of the fermionic Hamiltonian operator of the molecule\n",
    "      # https://qiskit.org/documentation/nature/migration/00b_Electronic_structure_with_v0.5.html\n",
    "      print(\"\\n\".join(str(second_q_op).splitlines()[:22] + [\"...\"]))\n",
    "    \n",
    "     # Get number of particles and number of spin orbitals\n",
    "    num_particles, num_spin_orbitals = get_particle_number(problem, show=show)\n",
    "    \n",
    "    # Use the function fermion_to_qubit() to convert a fermionic operator to a qubit operator\n",
    "    if show:\n",
    "      print(\" \")\n",
    "    qubit_op, qubit_converter = fermion_to_qubit(problem, second_q_op, mapper=mapper, two_qubit_reduction=two_qubit_reduction, z2symmetry_reduction=z2symmetry_reduction, show=show)\n",
    "    \n",
    "    # Run the the PySCF RHF method\n",
    "    if show:\n",
    "      print(\" \")\n",
    "    conv, e = run_PySCF(info_dict, pyqmc=pyqmc, show=show)\n",
    "    \n",
    "    # Run QPE\n",
    "    eigv = run_qpe(qubit_op, n_ancillae=n_ancillae, num_time_slices=num_time_slices, show=show)\n",
    "\n",
    "    # Run VQE\n",
    "    if show:\n",
    "      print(\" \")\n",
    "    ground_state = run_vqe(name_solver, problem, qubit_converter, solver, show=show)\n",
    "    \n",
    "    # Plot loss function\n",
    "    if loss != []:\n",
    "      plot_loss(loss, label, target)\n",
    "    \n",
    "    if plot_bopes:\n",
    "      # Compute the potential energy surface\n",
    "      dist, energy = bopes(info_dict, mapper, num_electrons, num_spatial_orbitals, two_qubit_reduction, z2symmetry_reduction,\n",
    "          name_solver, perturbation_steps, qubit_converter, solver, show=False)\n",
    "      \n",
    "      # Plot the energy as a function of atomic separation\n",
    "      plot_energy_landscape(dist, energy)\n",
    "\n",
    "    return fermionic_hamiltonian, num_particles, num_spin_orbitals, qubit_op, qubit_converter, ground_state"
   ]
  },
  {
   "cell_type": "markdown",
   "metadata": {
    "id": "2w4yOY4Tir3R"
   },
   "source": [
    "## 5.2.1. Hydrogen molecule"
   ]
  },
  {
   "cell_type": "code",
   "execution_count": 50,
   "metadata": {
    "id": "hppW5zDalVCf"
   },
   "outputs": [],
   "source": [
    "# Electronic Structure Problems with v0.5\n",
    "# https://qiskit.org/documentation/nature/migration/00b_Electronic_structure_with_v0.5.html\n",
    "H2_atoms = [\"H\", \"H\"]\n",
    "H2_coords = [(0.0, 0.0, 0.0), (0.0, 0.0, 0.735)]\n",
    "H2_charge = 0\n",
    "H2_multiplicity = 1\n",
    "H2_atom_pair=(1, 0)\n",
    "H2_info_dict={'atoms':H2_atoms, 'coords':H2_coords, 'charge':H2_charge, 'multiplicity':H2_multiplicity, 'atom_pair':H2_atom_pair}\n",
    "\n",
    "H2_moleculeinfo = MoleculeInfo(H2_atoms, H2_coords, charge=H2_charge, multiplicity=H2_multiplicity)"
   ]
  },
  {
   "cell_type": "markdown",
   "metadata": {
    "id": "byVVfJpMF6Mn"
   },
   "source": [
    "### Solving for the Ground-state"
   ]
  },
  {
   "cell_type": "code",
   "execution_count": 51,
   "metadata": {
    "id": "byXv0Y18GFah"
   },
   "outputs": [
    {
     "name": "stdout",
     "output_type": "stream",
     "text": [
      "Fermionic Hamiltonian operator\n",
      "Fermionic Operator\n",
      "number spin orbitals=4, number terms=36\n",
      "  0.33785507740175813 * ( +_0 +_0 -_0 -_0 )\n",
      "+ 0.0904655998921157 * ( +_0 +_0 -_1 -_1 )\n",
      "+ 0.09046559989211564 * ( +_0 +_1 -_0 -_1 )\n",
      "+ 0.3322908651276484 * ( +_0 +_1 -_1 -_0 )\n",
      "+ 0.33785507740175813 * ( +_0 +_2 -_2 -_0 )\n",
      "+ 0.0904655998921157 * ( +_0 +_2 -_3 -_1 )\n",
      "+ 0.09046559989211564 * ( +_0 +_3 -_2 -_1 )\n",
      "+ 0.3322908651276484 * ( +_0 +_3 -_3 -_0 )\n",
      "+ 0.33229086512764827 * ( +_1 +_0 -_0 -_1 )\n",
      "+ 0.09046559989211572 * ( +_1 +_0 -_1 -_0 )\n",
      "+ 0.09046559989211564 * ( +_1 +_1 -_0 -_0 )\n",
      "+ 0.34928686136600906 * ( +_1 +_1 -_1 -_1 )\n",
      "+ 0.33229086512764827 * ( +_1 +_2 -_2 -_1 )\n",
      "+ 0.09046559989211572 * ( +_1 +_2 -_3 -_0 )\n",
      "+ 0.09046559989211564 * ( +_1 +_3 -_2 -_0 )\n",
      "+ 0.34928686136600906 * ( +_1 +_3 -_3 -_1 )\n",
      "+ 0.33785507740175813 * ( +_2 +_0 -_0 -_2 )\n",
      "+ 0.0904655998921157 * ( +_2 +_0 -_1 -_3 )\n",
      "+ 0.09046559989211564 * ( +_2 +_1 -_0 -_3 )\n",
      "+ 0.3322908651276484 * ( +_2 +_1 -_1 -_2 )\n",
      "...\n",
      "Number of particles: (1, 1)\n",
      "Number of spin orbitals: 4\n",
      " \n",
      "Qubit Hamiltonian operator\n",
      "Parity transformation \n",
      "Number of items in the Pauli list: 5\n",
      "-1.0523732457728605 * II\n",
      "+ 0.39793742484317884 * IZ\n",
      "- 0.39793742484317884 * ZI\n",
      "- 0.011280104256235296 * ZZ\n",
      "+ 0.18093119978423128 * XX\n",
      " \n",
      "PySCF restricted HF (RHF) converged ground-state energy: -1.116998996754\n",
      "Iteration, Energy, Error\n",
      "0:         -1.1255 0.0085\n",
      "1:         -1.1565 0.0038\n",
      "2:         -1.1372 0.0082\n",
      "3:         -1.1554 0.0060\n",
      "PyQMC Monte Carlo converged ground-state energy: -1.155429451738, error: 0.0060\n",
      "QPE computed electronic ground state energy (Hartree): -1.2993947842045666\n",
      " \n",
      "Running the VQE using the NumPy exact solver\n",
      "Elapsed time: 0:00:00.050259 \n",
      "\n",
      "=== GROUND STATE ENERGY ===\n",
      " \n",
      "* Electronic ground state energy (Hartree): -1.857275030202\n",
      "  - computed part:      -1.857275030202\n",
      "~ Nuclear repulsion energy (Hartree): 0.719968994449\n",
      "> Total ground state energy (Hartree): -1.137306035753\n",
      " \n",
      "=== MEASURED OBSERVABLES ===\n",
      " \n",
      "  0:  # Particles: 2.000 S: 0.000 S^2: 0.000 M: 0.000\n",
      " \n",
      "=== DIPOLE MOMENTS ===\n",
      " \n",
      "~ Nuclear dipole moment (a.u.): [0.0  0.0  1.3889487]\n",
      " \n",
      "  0: \n",
      "  * Electronic dipole moment (a.u.): [0.0  0.0  1.3889487]\n",
      "    - computed part:      [0.0  0.0  1.3889487]\n",
      "  > Dipole moment (a.u.): [0.0  0.0  0.0]  Total: 0.0\n",
      "                 (debye): [0.0  0.0  0.0]  Total: 0.0\n",
      " \n"
     ]
    }
   ],
   "source": [
    "H2_fermionic_hamiltonian, H2_num_particles, H2_num_spin_orbitals, H2_qubit_op, H2_qubit_converter, H2_ground_state = \\\n",
    "                  solve_ground_state(H2_info_dict, mapper =\"Parity\",\n",
    "                  two_qubit_reduction=True, z2symmetry_reduction=None, \n",
    "                  name_solver = 'NumPy exact solver', solver = numpy_solver)"
   ]
  },
  {
   "cell_type": "markdown",
   "metadata": {
    "id": "tGWPggHM86hT"
   },
   "source": [
    "Figure 5.5. Ground-state of the $\\text{H}_{2}$ molecule with PySCF RHF and PyQMC Monte Carlo\n",
    "\n",
    "Figure 5.6. Ground-state of the $\\text{H}_{2}$ molecule computed with VQE using the NumPy minimum eigensolver"
   ]
  },
  {
   "cell_type": "code",
   "execution_count": 52,
   "metadata": {
    "id": "Du6sdRFVGFai"
   },
   "outputs": [
    {
     "name": "stdout",
     "output_type": "stream",
     "text": [
      "Fermionic Hamiltonian operator\n",
      "Fermionic Operator\n",
      "number spin orbitals=4, number terms=36\n",
      "  0.33785507740175813 * ( +_0 +_0 -_0 -_0 )\n",
      "+ 0.0904655998921157 * ( +_0 +_0 -_1 -_1 )\n",
      "+ 0.09046559989211564 * ( +_0 +_1 -_0 -_1 )\n",
      "+ 0.3322908651276484 * ( +_0 +_1 -_1 -_0 )\n",
      "+ 0.33785507740175813 * ( +_0 +_2 -_2 -_0 )\n",
      "+ 0.0904655998921157 * ( +_0 +_2 -_3 -_1 )\n",
      "+ 0.09046559989211564 * ( +_0 +_3 -_2 -_1 )\n",
      "+ 0.3322908651276484 * ( +_0 +_3 -_3 -_0 )\n",
      "+ 0.33229086512764827 * ( +_1 +_0 -_0 -_1 )\n",
      "+ 0.09046559989211572 * ( +_1 +_0 -_1 -_0 )\n",
      "+ 0.09046559989211564 * ( +_1 +_1 -_0 -_0 )\n",
      "+ 0.34928686136600906 * ( +_1 +_1 -_1 -_1 )\n",
      "+ 0.33229086512764827 * ( +_1 +_2 -_2 -_1 )\n",
      "+ 0.09046559989211572 * ( +_1 +_2 -_3 -_0 )\n",
      "+ 0.09046559989211564 * ( +_1 +_3 -_2 -_0 )\n",
      "+ 0.34928686136600906 * ( +_1 +_3 -_3 -_1 )\n",
      "+ 0.33785507740175813 * ( +_2 +_0 -_0 -_2 )\n",
      "+ 0.0904655998921157 * ( +_2 +_0 -_1 -_3 )\n",
      "+ 0.09046559989211564 * ( +_2 +_1 -_0 -_3 )\n",
      "+ 0.3322908651276484 * ( +_2 +_1 -_1 -_2 )\n",
      "...\n",
      "Number of particles: (1, 1)\n",
      "Number of spin orbitals: 4\n",
      " \n",
      "Qubit Hamiltonian operator\n",
      "Parity transformation \n",
      "Number of items in the Pauli list: 5\n",
      "-1.0523732457728605 * II\n",
      "+ 0.39793742484317884 * IZ\n",
      "- 0.39793742484317884 * ZI\n",
      "- 0.011280104256235296 * ZZ\n",
      "+ 0.18093119978423128 * XX\n",
      " \n",
      "PySCF restricted HF (RHF) converged ground-state energy: -1.116998996754\n",
      "Iteration, Energy, Error\n",
      "0:         -1.1155 0.0074\n",
      "1:         -1.1129 0.0129\n",
      "2:         -1.1377 0.0105\n",
      "3:         -1.1405 0.0086\n",
      "PyQMC Monte Carlo converged ground-state energy: -1.140479682448, error: 0.0086\n",
      "QPE computed electronic ground state energy (Hartree): -1.2993947842045666\n",
      " \n",
      "Running the VQE using the Unitary Coupled Cluster (UCC) factory ansatz\n",
      "Elapsed time: 0:00:00.116594 \n",
      "\n",
      "=== GROUND STATE ENERGY ===\n",
      " \n",
      "* Electronic ground state energy (Hartree): -1.857275030144\n",
      "  - computed part:      -1.857275030144\n",
      "~ Nuclear repulsion energy (Hartree): 0.719968994449\n",
      "> Total ground state energy (Hartree): -1.137306035695\n",
      " \n",
      "=== MEASURED OBSERVABLES ===\n",
      " \n",
      "  0:  # Particles: 2.000 S: 0.000 S^2: 0.000 M: 0.000\n",
      " \n",
      "=== DIPOLE MOMENTS ===\n",
      " \n",
      "~ Nuclear dipole moment (a.u.): [0.0  0.0  1.3889487]\n",
      " \n",
      "  0: \n",
      "  * Electronic dipole moment (a.u.): [0.0  0.0  1.38894876]\n",
      "    - computed part:      [0.0  0.0  1.38894876]\n",
      "  > Dipole moment (a.u.): [0.0  0.0  -0.00000006]  Total: 0.00000006\n",
      "                 (debye): [0.0  0.0  -0.00000015]  Total: 0.00000015\n",
      " \n"
     ]
    }
   ],
   "source": [
    "H2_fermionic_hamiltonian, H2_num_particles, H2_num_spin_orbitals, H2_qubit_op, H2_qubit_converter, H2_ground_state = \\\n",
    "                  solve_ground_state(H2_info_dict, mapper =\"Parity\",\n",
    "                  two_qubit_reduction=True, z2symmetry_reduction=None, \n",
    "                  name_solver = 'Unitary Coupled Cluster (UCC) factory ansatz', solver = vqe_ucc_solver)"
   ]
  },
  {
   "cell_type": "markdown",
   "metadata": {
    "id": "DC4pTgwxeZuB"
   },
   "source": [
    "Figure 5.7. Ground-state of the $\\text{H}_{2}$ molecule with VQE using the UCC factory ansatz."
   ]
  },
  {
   "cell_type": "code",
   "execution_count": 53,
   "metadata": {
    "id": "l7A3RRA7GFai"
   },
   "outputs": [
    {
     "name": "stdout",
     "output_type": "stream",
     "text": [
      "Fermionic Hamiltonian operator\n",
      "Fermionic Operator\n",
      "number spin orbitals=4, number terms=36\n",
      "  0.33785507740175813 * ( +_0 +_0 -_0 -_0 )\n",
      "+ 0.0904655998921157 * ( +_0 +_0 -_1 -_1 )\n",
      "+ 0.09046559989211564 * ( +_0 +_1 -_0 -_1 )\n",
      "+ 0.3322908651276484 * ( +_0 +_1 -_1 -_0 )\n",
      "+ 0.33785507740175813 * ( +_0 +_2 -_2 -_0 )\n",
      "+ 0.0904655998921157 * ( +_0 +_2 -_3 -_1 )\n",
      "+ 0.09046559989211564 * ( +_0 +_3 -_2 -_1 )\n",
      "+ 0.3322908651276484 * ( +_0 +_3 -_3 -_0 )\n",
      "+ 0.33229086512764827 * ( +_1 +_0 -_0 -_1 )\n",
      "+ 0.09046559989211572 * ( +_1 +_0 -_1 -_0 )\n",
      "+ 0.09046559989211564 * ( +_1 +_1 -_0 -_0 )\n",
      "+ 0.34928686136600906 * ( +_1 +_1 -_1 -_1 )\n",
      "+ 0.33229086512764827 * ( +_1 +_2 -_2 -_1 )\n",
      "+ 0.09046559989211572 * ( +_1 +_2 -_3 -_0 )\n",
      "+ 0.09046559989211564 * ( +_1 +_3 -_2 -_0 )\n",
      "+ 0.34928686136600906 * ( +_1 +_3 -_3 -_1 )\n",
      "+ 0.33785507740175813 * ( +_2 +_0 -_0 -_2 )\n",
      "+ 0.0904655998921157 * ( +_2 +_0 -_1 -_3 )\n",
      "+ 0.09046559989211564 * ( +_2 +_1 -_0 -_3 )\n",
      "+ 0.3322908651276484 * ( +_2 +_1 -_1 -_2 )\n",
      "...\n",
      "Number of particles: (1, 1)\n",
      "Number of spin orbitals: 4\n",
      " \n",
      "Qubit Hamiltonian operator\n",
      "Parity transformation \n",
      "Number of items in the Pauli list: 5\n",
      "-1.0523732457728605 * II\n",
      "+ 0.39793742484317884 * IZ\n",
      "- 0.39793742484317884 * ZI\n",
      "- 0.011280104256235296 * ZZ\n",
      "+ 0.18093119978423128 * XX\n",
      " \n",
      "PySCF restricted HF (RHF) converged ground-state energy: -1.116998996754\n",
      "Iteration, Energy, Error\n",
      "0:         -1.1154 0.0089\n",
      "1:         -1.1439 0.0078\n",
      "2:         -1.1399 0.0058\n",
      "3:         -1.1538 0.0086\n",
      "PyQMC Monte Carlo converged ground-state energy: -1.153750035771, error: 0.0086\n",
      "QPE computed electronic ground state energy (Hartree): -1.2993947842045666\n",
      " \n",
      "Running the VQE using the Heuristic ansatz, the Two-Local circuit with SLSQP\n",
      "Elapsed time: 0:00:00.523444 \n",
      "\n",
      "=== GROUND STATE ENERGY ===\n",
      " \n",
      "* Electronic ground state energy (Hartree): -1.83730083454\n",
      "  - computed part:      -1.83730083454\n",
      "~ Nuclear repulsion energy (Hartree): 0.719968994449\n",
      "> Total ground state energy (Hartree): -1.117331840091\n",
      " \n",
      "=== MEASURED OBSERVABLES ===\n",
      " \n",
      "  0:  # Particles: 2.000 S: 0.000 S^2: 0.000 M: 0.000\n",
      " \n",
      "=== DIPOLE MOMENTS ===\n",
      " \n",
      "~ Nuclear dipole moment (a.u.): [0.0  0.0  1.3889487]\n",
      " \n",
      "  0: \n",
      "  * Electronic dipole moment (a.u.): [0.0  0.0  1.3889487]\n",
      "    - computed part:      [0.0  0.0  1.3889487]\n",
      "  > Dipole moment (a.u.): [0.0  0.0  0.0]  Total: 0.0\n",
      "                 (debye): [0.0  0.0  0.0]  Total: 0.0\n",
      " \n"
     ]
    }
   ],
   "source": [
    "H2_fermionic_hamiltonian, H2_num_particles, H2_num_spin_orbitals, H2_qubit_op, H2_qubit_converter, H2_ground_state = \\\n",
    "                  solve_ground_state(H2_info_dict, mapper =\"Parity\",\n",
    "                   two_qubit_reduction=True, z2symmetry_reduction=None, \n",
    "                   name_solver = 'Heuristic ansatz, the Two-Local circuit with SLSQP',solver = vqe_tl_solver)"
   ]
  },
  {
   "cell_type": "markdown",
   "metadata": {
    "id": "VnSvZTSWj0x_"
   },
   "source": [
    "Figure 5.8. Ground-state of the $\\text{H}_{2}$ molecule with VQE using the Two-Local circuit and SLSQP"
   ]
  },
  {
   "cell_type": "code",
   "execution_count": 54,
   "metadata": {
    "id": "JDx_GsjTEyvl"
   },
   "outputs": [],
   "source": [
    "#https://qiskit.org/documentation/stubs/qiskit.algorithms.optimizers.QNSPSA.html?highlight=qnspsa#qiskit.algorithms.optimizers.QNSPSA\n",
    "qnspsa_loss = []\n",
    "ansatz = tl_circuit\n",
    "sampler = Sampler()\n",
    "fidelity = QNSPSA.get_fidelity(ansatz, sampler)\n",
    "qnspsa = QNSPSA(fidelity, maxiter=500, learning_rate=0.01, perturbation=0.7, callback=qnspsa_callback)"
   ]
  },
  {
   "cell_type": "code",
   "execution_count": 55,
   "metadata": {
    "id": "6FCB2ZXkDnfZ"
   },
   "outputs": [],
   "source": [
    "vqe_tl_QNSPSA_solver = VQE(estimator, tl_circuit, optimizer=qnspsa)"
   ]
  },
  {
   "cell_type": "code",
   "execution_count": 56,
   "metadata": {
    "id": "NJVk9vZFDZEJ"
   },
   "outputs": [
    {
     "name": "stdout",
     "output_type": "stream",
     "text": [
      "Fermionic Hamiltonian operator\n",
      "Fermionic Operator\n",
      "number spin orbitals=4, number terms=36\n",
      "  0.33785507740175813 * ( +_0 +_0 -_0 -_0 )\n",
      "+ 0.0904655998921157 * ( +_0 +_0 -_1 -_1 )\n",
      "+ 0.09046559989211564 * ( +_0 +_1 -_0 -_1 )\n",
      "+ 0.3322908651276484 * ( +_0 +_1 -_1 -_0 )\n",
      "+ 0.33785507740175813 * ( +_0 +_2 -_2 -_0 )\n",
      "+ 0.0904655998921157 * ( +_0 +_2 -_3 -_1 )\n",
      "+ 0.09046559989211564 * ( +_0 +_3 -_2 -_1 )\n",
      "+ 0.3322908651276484 * ( +_0 +_3 -_3 -_0 )\n",
      "+ 0.33229086512764827 * ( +_1 +_0 -_0 -_1 )\n",
      "+ 0.09046559989211572 * ( +_1 +_0 -_1 -_0 )\n",
      "+ 0.09046559989211564 * ( +_1 +_1 -_0 -_0 )\n",
      "+ 0.34928686136600906 * ( +_1 +_1 -_1 -_1 )\n",
      "+ 0.33229086512764827 * ( +_1 +_2 -_2 -_1 )\n",
      "+ 0.09046559989211572 * ( +_1 +_2 -_3 -_0 )\n",
      "+ 0.09046559989211564 * ( +_1 +_3 -_2 -_0 )\n",
      "+ 0.34928686136600906 * ( +_1 +_3 -_3 -_1 )\n",
      "+ 0.33785507740175813 * ( +_2 +_0 -_0 -_2 )\n",
      "+ 0.0904655998921157 * ( +_2 +_0 -_1 -_3 )\n",
      "+ 0.09046559989211564 * ( +_2 +_1 -_0 -_3 )\n",
      "+ 0.3322908651276484 * ( +_2 +_1 -_1 -_2 )\n",
      "...\n",
      "Number of particles: (1, 1)\n",
      "Number of spin orbitals: 4\n",
      " \n",
      "Qubit Hamiltonian operator\n",
      "Parity transformation \n",
      "Number of items in the Pauli list: 5\n",
      "-1.0523732457728605 * II\n",
      "+ 0.39793742484317884 * IZ\n",
      "- 0.39793742484317884 * ZI\n",
      "- 0.011280104256235296 * ZZ\n",
      "+ 0.18093119978423128 * XX\n",
      " \n",
      "PySCF restricted HF (RHF) converged ground-state energy: -1.116998996754\n",
      "Iteration, Energy, Error\n",
      "0:         -1.1021 0.0084\n",
      "1:         -1.1568 0.0067\n",
      "2:         -1.1529 0.0038\n",
      "3:         -1.1574 0.0071\n",
      "PyQMC Monte Carlo converged ground-state energy: -1.157431945153, error: 0.0071\n",
      "QPE computed electronic ground state energy (Hartree): -1.2993947842045666\n",
      " \n",
      "Running the VQE using the Two-Local circuit and the QN-SPSA optimizer\n",
      "Elapsed time: 0:00:11.366950 \n",
      "\n",
      "=== GROUND STATE ENERGY ===\n",
      " \n",
      "* Electronic ground state energy (Hartree): -1.85727380113\n",
      "  - computed part:      -1.85727380113\n",
      "~ Nuclear repulsion energy (Hartree): 0.719968994449\n",
      "> Total ground state energy (Hartree): -1.137304806681\n",
      " \n",
      "=== MEASURED OBSERVABLES ===\n",
      " \n",
      "  0:  # Particles: 2.000 S: 0.000 S^2: 0.000 M: 0.000\n",
      " \n",
      "=== DIPOLE MOMENTS ===\n",
      " \n",
      "~ Nuclear dipole moment (a.u.): [0.0  0.0  1.3889487]\n",
      " \n",
      "  0: \n",
      "  * Electronic dipole moment (a.u.): [0.0  0.0  1.3889487]\n",
      "    - computed part:      [0.0  0.0  1.3889487]\n",
      "  > Dipole moment (a.u.): [0.0  0.0  0.0]  Total: 0.0\n",
      "                 (debye): [0.0  0.0  0.0]  Total: 0.0\n",
      " \n"
     ]
    },
    {
     "data": {
      "image/png": "[encoded data removed]",
      "text/plain": [
       "<Figure size 864x432 with 1 Axes>"
      ]
     },
     "metadata": {
      "needs_background": "light"
     },
     "output_type": "display_data"
    }
   ],
   "source": [
    "H2_fermionic_hamiltonian, H2_num_particles, H2_num_spin_orbitals, H2_qubit_op, H2_qubit_converter, H2_ground_state = \\\n",
    "                  solve_ground_state(H2_info_dict, mapper =\"Parity\", two_qubit_reduction=True, z2symmetry_reduction=None,\n",
    "                  loss=qnspsa_loss, label='QN-SPSA', target=-1.857274810366,\n",
    "                  name_solver='Two-Local circuit and the QN-SPSA optimizer', solver=vqe_tl_QNSPSA_solver)"
   ]
  },
  {
   "cell_type": "markdown",
   "metadata": {
    "id": "eZJzQtZ_xDcw"
   },
   "source": [
    "Figure 5.9 – Ground-state of the $\\text{H}_{2}$ molecule with VQE using the Two-Local circuit and QN-SPSA\n",
    "\n",
    "Figure 5.10 – Plot of the loss function of the VQE using the Two-Local circuit and QN-SPSA for the $\\text{H}_{2}$ molecule"
   ]
  },
  {
   "cell_type": "markdown",
   "metadata": {
    "id": "R6-QzelYUfAg"
   },
   "source": [
    "### Computing the BOPES"
   ]
  },
  {
   "cell_type": "code",
   "execution_count": 57,
   "metadata": {
    "id": "2lA7lY1tGqB4"
   },
   "outputs": [
    {
     "name": "stdout",
     "output_type": "stream",
     "text": [
      "Fermionic Hamiltonian operator\n",
      "Fermionic Operator\n",
      "number spin orbitals=4, number terms=36\n",
      "  0.33785507740175813 * ( +_0 +_0 -_0 -_0 )\n",
      "+ 0.0904655998921157 * ( +_0 +_0 -_1 -_1 )\n",
      "+ 0.09046559989211564 * ( +_0 +_1 -_0 -_1 )\n",
      "+ 0.3322908651276484 * ( +_0 +_1 -_1 -_0 )\n",
      "+ 0.33785507740175813 * ( +_0 +_2 -_2 -_0 )\n",
      "+ 0.0904655998921157 * ( +_0 +_2 -_3 -_1 )\n",
      "+ 0.09046559989211564 * ( +_0 +_3 -_2 -_1 )\n",
      "+ 0.3322908651276484 * ( +_0 +_3 -_3 -_0 )\n",
      "+ 0.33229086512764827 * ( +_1 +_0 -_0 -_1 )\n",
      "+ 0.09046559989211572 * ( +_1 +_0 -_1 -_0 )\n",
      "+ 0.09046559989211564 * ( +_1 +_1 -_0 -_0 )\n",
      "+ 0.34928686136600906 * ( +_1 +_1 -_1 -_1 )\n",
      "+ 0.33229086512764827 * ( +_1 +_2 -_2 -_1 )\n",
      "+ 0.09046559989211572 * ( +_1 +_2 -_3 -_0 )\n",
      "+ 0.09046559989211564 * ( +_1 +_3 -_2 -_0 )\n",
      "+ 0.34928686136600906 * ( +_1 +_3 -_3 -_1 )\n",
      "+ 0.33785507740175813 * ( +_2 +_0 -_0 -_2 )\n",
      "+ 0.0904655998921157 * ( +_2 +_0 -_1 -_3 )\n",
      "+ 0.09046559989211564 * ( +_2 +_1 -_0 -_3 )\n",
      "+ 0.3322908651276484 * ( +_2 +_1 -_1 -_2 )\n",
      "...\n",
      "Number of particles: (1, 1)\n",
      "Number of spin orbitals: 4\n",
      " \n",
      "Qubit Hamiltonian operator\n",
      "Parity transformation \n",
      "Number of items in the Pauli list: 5\n",
      "-1.0523732457728605 * II\n",
      "+ 0.39793742484317884 * IZ\n",
      "- 0.39793742484317884 * ZI\n",
      "- 0.011280104256235296 * ZZ\n",
      "+ 0.18093119978423128 * XX\n",
      " \n",
      "PySCF restricted HF (RHF) converged ground-state energy: -1.116998996754\n",
      "Iteration, Energy, Error\n",
      "1:         -1.1001 0.0107\n",
      "0:         -8.1611 0.0755\n",
      "1:         -1.1001 0.0107\n",
      "2:         -1.1481 0.0080\n",
      "2:         -1.1481 0.0080\n",
      "3:         -7.8131 0.0355\n",
      "PyQMC Monte Carlo converged ground-state energy: -1.161343699094, error: 0.0050\n",
      "QPE computed electronic ground state energy (Hartree): -1.2993947842045666\n",
      " \n",
      "Running the VQE using the NumPy exact solver\n",
      "Elapsed time: 0:00:00.046043 \n",
      "\n",
      "=== GROUND STATE ENERGY ===\n",
      " \n",
      "* Electronic ground state energy (Hartree): -1.857275030202\n",
      "  - computed part:      -1.857275030202\n",
      "~ Nuclear repulsion energy (Hartree): 0.719968994449\n",
      "> Total ground state energy (Hartree): -1.137306035753\n",
      " \n",
      "=== MEASURED OBSERVABLES ===\n",
      " \n",
      "  0:  # Particles: 2.000 S: 0.000 S^2: 0.000 M: 0.000\n",
      " \n",
      "=== DIPOLE MOMENTS ===\n",
      " \n",
      "~ Nuclear dipole moment (a.u.): [0.0  0.0  1.3889487]\n",
      " \n",
      "  0: \n",
      "  * Electronic dipole moment (a.u.): [0.0  0.0  1.3889487]\n",
      "    - computed part:      [0.0  0.0  1.3889487]\n",
      "  > Dipole moment (a.u.): [0.0  0.0  0.0]  Total: 0.0\n",
      "                 (debye): [0.0  0.0  0.0]  Total: 0.0\n",
      " \n",
      "Number of perturbation steps:  25\n",
      "Step:  0\n",
      "Step:  1\n",
      "Step:  2\n",
      "Step:  3\n",
      "Step:  4\n",
      "Step:  5\n",
      "Step:  6\n",
      "Step:  7\n",
      "Step:  8\n",
      "Step:  9\n",
      "Step:  10\n",
      "Step:  11\n",
      "Step:  12\n",
      "Step:  13\n",
      "Step:  14\n",
      "Step:  15\n",
      "Step:  16\n",
      "Step:  17\n",
      "Step:  18\n",
      "Step:  19\n",
      "Step:  20\n",
      "Step:  21\n",
      "Step:  22\n",
      "Step:  23\n",
      "Step:  24\n"
     ]
    },
    {
     "data": {
      "image/png": "[encoded data removed]",
      "text/plain": [
       "<Figure size 432x288 with 1 Axes>"
      ]
     },
     "metadata": {
      "needs_background": "light"
     },
     "output_type": "display_data"
    }
   ],
   "source": [
    "perturbation_steps = np.linspace(-0.5, 2, 25) # 25 equally spaced points from -0.2 to 4, inclusive.\n",
    "H2_s_fermionic_hamiltonian, H2_s_num_particles, H2_s_num_spin_orbitals, H2_s_qubit_op, H2_s_qubit_converter, H2_s_ground_state = \\\n",
    "                  solve_ground_state(H2_info_dict, mapper =\"Parity\",\n",
    "                   two_qubit_reduction=True, z2symmetry_reduction=None, \n",
    "                   name_solver = 'NumPy exact solver', solver = numpy_solver,\n",
    "                   plot_bopes = True, perturbation_steps=perturbation_steps)"
   ]
  },
  {
   "cell_type": "markdown",
   "metadata": {
    "id": "ZmTA538SXFt7"
   },
   "source": [
    "Figure 5.12 – Plot of the BOPES of the hydrogen molecule\n",
    "\n",
    "## 5.2.2. Lithium hydride molecule"
   ]
  },
  {
   "cell_type": "code",
   "execution_count": 58,
   "metadata": {
    "id": "NfP3LKlTDqQa"
   },
   "outputs": [],
   "source": [
    "LiH_atoms = [\"Li\", \"H\"]\n",
    "LiH_coords = [(0.0, 0.0, 0.0), (0.0, 0.0, 1.5474)]\n",
    "LiH_charge = 0\n",
    "LiH_multiplicity = 1\n",
    "LiH_atom_pair=(1,0)\n",
    "LiH_info_dict={'atoms':LiH_atoms, 'coords':LiH_coords, 'charge':LiH_charge, 'multiplicity':LiH_multiplicity, 'atom_pair':LiH_atom_pair}\n",
    "\n",
    "LiH_moleculeinfo = MoleculeInfo(LiH_atoms, LiH_coords, charge=LiH_charge, multiplicity=LiH_multiplicity)"
   ]
  },
  {
   "cell_type": "markdown",
   "metadata": {
    "id": "lgKIjsNeSN5F"
   },
   "source": [
    "### Solving for the Ground-state"
   ]
  },
  {
   "cell_type": "code",
   "execution_count": 59,
   "metadata": {
    "id": "S27IqTdwPv_t"
   },
   "outputs": [
    {
     "name": "stdout",
     "output_type": "stream",
     "text": [
      "Fermionic Hamiltonian operator\n",
      "Fermionic Operator\n",
      "number spin orbitals=6, number terms=342\n",
      "  0.2454848810509071 * ( +_0 +_0 -_0 -_0 )\n",
      "+ -0.02385105856895492 * ( +_0 +_0 -_0 -_1 )\n",
      "+ 0.06479059463973212 * ( +_0 +_0 -_0 -_2 )\n",
      "+ -0.023851058568954905 * ( +_0 +_0 -_1 -_0 )\n",
      "+ 0.0062789647509914025 * ( +_0 +_0 -_1 -_1 )\n",
      "+ -0.016998316939607787 * ( +_0 +_0 -_1 -_2 )\n",
      "+ 0.06479059463973216 * ( +_0 +_0 -_2 -_0 )\n",
      "+ -0.016998316939607794 * ( +_0 +_0 -_2 -_1 )\n",
      "+ 0.0616921939265509 * ( +_0 +_0 -_2 -_2 )\n",
      "+ -0.02385105856895491 * ( +_0 +_1 -_0 -_0 )\n",
      "+ 0.006278964750991413 * ( +_0 +_1 -_0 -_1 )\n",
      "+ -0.0169983169396078 * ( +_0 +_1 -_0 -_2 )\n",
      "+ 0.11257756334433247 * ( +_0 +_1 -_1 -_0 )\n",
      "+ 0.0033949299247708867 * ( +_0 +_1 -_1 -_1 )\n",
      "+ -0.0054745012246734765 * ( +_0 +_1 -_1 -_2 )\n",
      "+ -0.025558666066023618 * ( +_0 +_1 -_2 -_0 )\n",
      "+ 0.004443221616282542 * ( +_0 +_1 -_2 -_1 )\n",
      "+ -0.01571800653178825 * ( +_0 +_1 -_2 -_2 )\n",
      "+ 0.06479059463973202 * ( +_0 +_2 -_0 -_0 )\n",
      "+ -0.01699831693960778 * ( +_0 +_2 -_0 -_1 )\n",
      "...\n",
      "Number of particles: (1, 1)\n",
      "Number of spin orbitals: 6\n",
      " \n",
      "Qubit Hamiltonian operator\n",
      "Parity transformation \n",
      "Number of items in the Pauli list: 100\n",
      "-0.20316606150558994 * IIII\n",
      "- 0.09275994933497213 * IIIZ\n",
      "- 0.002941141087287775 * IIZX\n",
      "+ 0.002941141087287775 * IIIX\n",
      "- 0.0007427996395025574 * IIXX\n",
      "+ 0.0007427996395025574 * IIYY\n",
      "- 0.21188984297009342 * IIZZ\n",
      "+ 0.36525869021603435 * IIZI\n",
      "+ 0.019389408583705338 * IIXZ\n",
      "+ 0.019389408583705338 * IIXI\n",
      "+ 0.09275994933497224 * IZII\n",
      "- 0.12274244052545352 * IZIZ\n",
      "+ 0.011925529284477453 * IZZX\n",
      "- 0.011925529284477453 * IZIX\n",
      "+ 0.03239529731986603 * IZXX\n",
      "- 0.03239529731986603 * IZYY\n",
      "+ 0.002941141087287775 * ZXII\n",
      "+ 0.011925529284477454 * ZXIZ\n",
      "+ 0.002941141087287775 * IXII\n",
      "+ 0.011925529284477454 * IXIZ\n",
      " \n",
      "PySCF restricted HF (RHF) converged ground-state energy: -7.863113882796\n",
      "Iteration, Energy, Error\n",
      "0:         -7.9619 0.0734\n",
      "1:         -7.9212 0.0689\n",
      "2:         -7.9692 0.0385\n",
      "3:         -7.9796 0.0295\n",
      "PyQMC Monte Carlo converged ground-state energy: -7.979560317983, error: 0.0295\n",
      "QPE computed electronic ground state energy (Hartree): -0.20316606150558994\n",
      " \n",
      "Running the VQE using the NumPy exact solver\n",
      "Elapsed time: 0:00:00.133060 \n",
      "\n",
      "=== GROUND STATE ENERGY ===\n",
      " \n",
      "* Electronic ground state energy (Hartree): -8.907396311316\n",
      "  - computed part:      -1.088706015735\n",
      "  - FreezeCoreTransformer extracted energy part: -7.818690295581\n",
      "~ Nuclear repulsion energy (Hartree): 1.025934879643\n",
      "> Total ground state energy (Hartree): -7.881461431673\n",
      " \n",
      "=== MEASURED OBSERVABLES ===\n",
      " \n",
      "  0:  # Particles: 2.000 S: 0.000 S^2: 0.000 M: 0.000\n",
      " \n",
      "=== DIPOLE MOMENTS ===\n",
      " \n",
      "~ Nuclear dipole moment (a.u.): [0.0  0.0  2.92416221]\n",
      " \n",
      "  0: \n",
      "  * Electronic dipole moment (a.u.): [0.0  0.0  4.76300889]\n",
      "    - computed part:      [0.0  0.0  4.76695575]\n",
      "    - FreezeCoreTransformer extracted energy part: [0.0  0.0  -0.00394686]\n",
      "  > Dipole moment (a.u.): [0.0  0.0  -1.83884668]  Total: 1.83884668\n",
      "                 (debye): [0.0  0.0  -4.67388163]  Total: 4.67388163\n",
      " \n"
     ]
    }
   ],
   "source": [
    "LiH_fermionic_hamiltonian, LiH_num_particles, LiH_num_spin_orbitals, LiH_qubit_op, LiH_qubit_converter, LiH_ground_state = \\\n",
    "                  solve_ground_state(LiH_info_dict, mapper=\"Parity\",\n",
    "                  freeze_core=FreezeCoreTransformer(freeze_core=True, remove_orbitals=[4, 3]),\n",
    "                  two_qubit_reduction=True, z2symmetry_reduction=\"auto\", \n",
    "                  name_solver='NumPy exact solver', solver=numpy_solver)"
   ]
  },
  {
   "cell_type": "markdown",
   "metadata": {
    "id": "9DhAWQeYXyET"
   },
   "source": [
    "Figure 5.13 – Ground-state of the $\\text{LiH}$ molecule with PySCF RHF, PyQMC Monte Carlo and QPE\n",
    "\n",
    "Figure 5.14. Ground-state of the $\\text{LiH}$ molecule with VQE using the NumPy minimum eigensolver"
   ]
  },
  {
   "cell_type": "code",
   "execution_count": 60,
   "metadata": {
    "id": "rEeqmchsUM8d"
   },
   "outputs": [
    {
     "name": "stdout",
     "output_type": "stream",
     "text": [
      "Fermionic Hamiltonian operator\n",
      "Fermionic Operator\n",
      "number spin orbitals=6, number terms=342\n",
      "  0.24548488105088562 * ( +_0 +_0 -_0 -_0 )\n",
      "+ -0.023851058568999068 * ( +_0 +_0 -_0 -_1 )\n",
      "+ 0.06479059463971548 * ( +_0 +_0 -_0 -_2 )\n",
      "+ -0.02385105856899905 * ( +_0 +_0 -_1 -_0 )\n",
      "+ 0.006278964751011005 * ( +_0 +_0 -_1 -_1 )\n",
      "+ -0.016998316939632278 * ( +_0 +_0 -_1 -_2 )\n",
      "+ 0.06479059463971551 * ( +_0 +_0 -_2 -_0 )\n",
      "+ -0.016998316939632285 * ( +_0 +_0 -_2 -_1 )\n",
      "+ 0.06169219392653935 * ( +_0 +_0 -_2 -_2 )\n",
      "+ -0.023851058568999058 * ( +_0 +_1 -_0 -_0 )\n",
      "+ 0.006278964751011012 * ( +_0 +_1 -_0 -_1 )\n",
      "+ -0.01699831693963227 * ( +_0 +_1 -_0 -_2 )\n",
      "+ 0.11257756334435215 * ( +_0 +_1 -_1 -_0 )\n",
      "+ 0.003394929924785611 * ( +_0 +_1 -_1 -_1 )\n",
      "+ -0.00547450122465466 * ( +_0 +_1 -_1 -_2 )\n",
      "+ -0.02555866606604778 * ( +_0 +_1 -_2 -_0 )\n",
      "+ 0.004443221616304373 * ( +_0 +_1 -_2 -_1 )\n",
      "+ -0.015718006531806716 * ( +_0 +_1 -_2 -_2 )\n",
      "+ 0.06479059463971545 * ( +_0 +_2 -_0 -_0 )\n",
      "+ -0.016998316939632274 * ( +_0 +_2 -_0 -_1 )\n",
      "...\n",
      "Number of particles: (1, 1)\n",
      "Number of spin orbitals: 6\n",
      " \n",
      "Qubit Hamiltonian operator\n",
      "Parity transformation \n",
      "Number of items in the Pauli list: 100\n",
      "-0.20316606150559066 * IIII\n",
      "- 0.0927599493349742 * IIIZ\n",
      "- 0.002941141087327009 * IIZX\n",
      "+ 0.002941141087327009 * IIIX\n",
      "- 0.0007427996394863742 * IIXX\n",
      "+ 0.0007427996394863742 * IIYY\n",
      "- 0.21188984297008964 * IIZZ\n",
      "+ 0.3652586902160366 * IIZI\n",
      "+ 0.0193894085836976 * IIXZ\n",
      "+ 0.0193894085836976 * IIXI\n",
      "+ 0.09275994933497436 * IZII\n",
      "- 0.12274244052544277 * IZIZ\n",
      "+ 0.011925529284499522 * IZZX\n",
      "- 0.011925529284499522 * IZIX\n",
      "+ 0.03239529731985773 * IZXX\n",
      "- 0.03239529731985773 * IZYY\n",
      "+ 0.002941141087327009 * ZXII\n",
      "+ 0.011925529284499527 * ZXIZ\n",
      "+ 0.002941141087327009 * IXII\n",
      "+ 0.011925529284499527 * IXIZ\n",
      " \n",
      "PySCF restricted HF (RHF) converged ground-state energy: -7.863113882796\n",
      "Iteration, Energy, Error\n",
      "0:         -7.7079 0.1029\n",
      "1:         -8.0872 0.0343\n",
      "2:         -8.0660 0.0807\n",
      "3:         -8.0853 0.0381\n",
      "PyQMC Monte Carlo converged ground-state energy: -8.085265494562, error: 0.0381\n",
      "QPE computed electronic ground state energy (Hartree): -0.20316606150559066\n",
      " \n",
      "Running the VQE using the Heuristic ansatz, the Two-Local circuit with SLSQP\n",
      "Elapsed time: 0:00:01.703325 \n",
      "\n",
      "=== GROUND STATE ENERGY ===\n",
      " \n",
      "* Electronic ground state energy (Hartree): -8.787315317705\n",
      "  - computed part:      -0.968625022124\n",
      "  - FreezeCoreTransformer extracted energy part: -7.818690295581\n",
      "~ Nuclear repulsion energy (Hartree): 1.025934879643\n",
      "> Total ground state energy (Hartree): -7.761380438062\n",
      " \n",
      "=== MEASURED OBSERVABLES ===\n",
      " \n",
      "  0:  # Particles: 2.076 S: 0.511 S^2: 0.772 M: -0.025\n",
      " \n",
      "=== DIPOLE MOMENTS ===\n",
      " \n",
      "~ Nuclear dipole moment (a.u.): [0.0  0.0  2.92416221]\n",
      " \n",
      "  0: \n",
      "  * Electronic dipole moment (a.u.): [0.0  0.0  3.03672934]\n",
      "    - computed part:      [0.0  0.0  3.0406762]\n",
      "    - FreezeCoreTransformer extracted energy part: [0.0  0.0  -0.00394686]\n",
      "  > Dipole moment (a.u.): [0.0  0.0  -0.11256713]  Total: 0.11256713\n",
      "                 (debye): [0.0  0.0  -0.28611707]  Total: 0.28611707\n",
      " \n"
     ]
    }
   ],
   "source": [
    "LiH_fermionic_hamiltonian, LiH_num_particles, LiH_num_spin_orbitals, LiH_qubit_op, LiH_qubit_converter, LiH_ground_state = \\\n",
    "                  solve_ground_state(LiH_info_dict, mapper=\"Parity\",\n",
    "                  freeze_core=FreezeCoreTransformer(freeze_core=True, remove_orbitals=[4, 3]),\n",
    "                  two_qubit_reduction=True, z2symmetry_reduction=\"auto\", \n",
    "                  name_solver = 'Heuristic ansatz, the Two-Local circuit with SLSQP', solver = vqe_tl_solver)"
   ]
  },
  {
   "cell_type": "markdown",
   "metadata": {
    "id": "-m1VgbftX6Cj"
   },
   "source": [
    "Figure 5.15 – Ground-state of the $\\text{LiH}$ molecule with VQE using the Two-Local circuit and SLSQP"
   ]
  },
  {
   "cell_type": "code",
   "execution_count": 61,
   "metadata": {
    "id": "iPsEkUA2VfND"
   },
   "outputs": [],
   "source": [
    "#https://qiskit.org/documentation/stubs/qiskit.algorithms.optimizers.QNSPSA.html?highlight=qnspsa#qiskit.algorithms.optimizers.QNSPSA\n",
    "qnspsa_loss = []\n",
    "ansatz = tl_circuit\n",
    "sampler = Sampler()\n",
    "fidelity = QNSPSA.get_fidelity(ansatz, sampler)\n",
    "qnspsa = QNSPSA(fidelity, maxiter=500, learning_rate=0.01, perturbation=0.7, callback=qnspsa_callback)"
   ]
  },
  {
   "cell_type": "code",
   "execution_count": 62,
   "metadata": {
    "id": "vEvtcGM7yHFp"
   },
   "outputs": [],
   "source": [
    "vqe_tl_QNSPSA_solver = VQE(estimator, tl_circuit, optimizer=qnspsa)"
   ]
  },
  {
   "cell_type": "code",
   "execution_count": 63,
   "metadata": {
    "id": "401O7P7ZV-FA",
    "scrolled": false
   },
   "outputs": [
    {
     "name": "stdout",
     "output_type": "stream",
     "text": [
      "Fermionic Hamiltonian operator\n",
      "Fermionic Operator\n",
      "number spin orbitals=6, number terms=342\n",
      "  0.2454848810508779 * ( +_0 +_0 -_0 -_0 )\n",
      "+ -0.02385105856901456 * ( +_0 +_0 -_0 -_1 )\n",
      "+ 0.0647905946397095 * ( +_0 +_0 -_0 -_2 )\n",
      "+ -0.023851058569014566 * ( +_0 +_0 -_1 -_0 )\n",
      "+ 0.006278964751017916 * ( +_0 +_0 -_1 -_1 )\n",
      "+ -0.016998316939641024 * ( +_0 +_0 -_1 -_2 )\n",
      "+ 0.06479059463970951 * ( +_0 +_0 -_2 -_0 )\n",
      "+ -0.016998316939640996 * ( +_0 +_0 -_2 -_1 )\n",
      "+ 0.061692193926535216 * ( +_0 +_0 -_2 -_2 )\n",
      "+ -0.02385105856901457 * ( +_0 +_1 -_0 -_0 )\n",
      "+ 0.006278964751017924 * ( +_0 +_1 -_0 -_1 )\n",
      "+ -0.016998316939641014 * ( +_0 +_1 -_0 -_2 )\n",
      "+ 0.11257756334435942 * ( +_0 +_1 -_1 -_0 )\n",
      "+ 0.0033949299247905042 * ( +_0 +_1 -_1 -_1 )\n",
      "+ -0.0054745012246479935 * ( +_0 +_1 -_1 -_2 )\n",
      "+ -0.025558666066056814 * ( +_0 +_1 -_2 -_0 )\n",
      "+ 0.004443221616312078 * ( +_0 +_1 -_2 -_1 )\n",
      "+ -0.01571800653181351 * ( +_0 +_1 -_2 -_2 )\n",
      "+ 0.06479059463970947 * ( +_0 +_2 -_0 -_0 )\n",
      "+ -0.01699831693964099 * ( +_0 +_2 -_0 -_1 )\n",
      "...\n",
      "Number of particles: (1, 1)\n",
      "Number of spin orbitals: 6\n",
      " \n",
      "Qubit Hamiltonian operator\n",
      "Parity transformation \n",
      "Number of items in the Pauli list: 100\n",
      "-0.2031660615055903 * IIII\n",
      "- 0.09275994933497518 * IIIZ\n",
      "- 0.0029411410873402414 * IIZX\n",
      "+ 0.0029411410873402414 * IIIX\n",
      "- 0.0007427996394814822 * IIXX\n",
      "+ 0.0007427996394814814 * IIYY\n",
      "- 0.21188984297008806 * IIZZ\n",
      "+ 0.36525869021603785 * IIZI\n",
      "+ 0.019389408583694256 * IIXZ\n",
      "+ 0.019389408583694256 * IIXI\n",
      "+ 0.09275994933497529 * IZII\n",
      "- 0.12274244052543891 * IZIZ\n",
      "+ 0.01192552928450728 * IZZX\n",
      "- 0.01192552928450728 * IZIX\n",
      "+ 0.03239529731985473 * IZXX\n",
      "- 0.03239529731985473 * IZYY\n",
      "+ 0.0029411410873402483 * ZXII\n",
      "+ 0.01192552928450728 * ZXIZ\n",
      "+ 0.0029411410873402552 * IXII\n",
      "+ 0.01192552928450728 * IXIZ\n",
      " \n",
      "PySCF restricted HF (RHF) converged ground-state energy: -7.863113882796\n",
      "Iteration, Energy, Error\n",
      "0:         -7.6075 0.1364\n",
      "1:         -7.9080 0.1198\n",
      "2:         -8.0060 0.0424\n",
      "3:         -8.1764 0.0478\n",
      "PyQMC Monte Carlo converged ground-state energy: -8.176424746632, error: 0.0478\n",
      "QPE computed electronic ground state energy (Hartree): -0.2031660615055903\n",
      " \n",
      "Running the VQE using the Two-Local circuit and the QN-SPSA optimizer\n",
      "Elapsed time: 0:00:20.751414 \n",
      "\n",
      "=== GROUND STATE ENERGY ===\n",
      " \n",
      "* Electronic ground state energy (Hartree): -8.88871063845\n",
      "  - computed part:      -1.070020342869\n",
      "  - FreezeCoreTransformer extracted energy part: -7.818690295581\n",
      "~ Nuclear repulsion energy (Hartree): 1.025934879643\n",
      "> Total ground state energy (Hartree): -7.862775758807\n",
      " \n",
      "=== MEASURED OBSERVABLES ===\n",
      " \n",
      "  0:  # Particles: 2.000 S: 0.002 S^2: 0.002 M: 0.000\n",
      " \n",
      "=== DIPOLE MOMENTS ===\n",
      " \n",
      "~ Nuclear dipole moment (a.u.): [0.0  0.0  2.92416221]\n",
      " \n",
      "  0: \n",
      "  * Electronic dipole moment (a.u.): [0.0  0.0  4.82082225]\n",
      "    - computed part:      [0.0  0.0  4.82476911]\n",
      "    - FreezeCoreTransformer extracted energy part: [0.0  0.0  -0.00394686]\n",
      "  > Dipole moment (a.u.): [0.0  0.0  -1.89666004]  Total: 1.89666004\n",
      "                 (debye): [0.0  0.0  -4.8208285]  Total: 4.8208285\n",
      " \n"
     ]
    },
    {
     "data": {
      "image/png": "[encoded data removed]",
      "text/plain": [
       "<Figure size 864x432 with 1 Axes>"
      ]
     },
     "metadata": {
      "needs_background": "light"
     },
     "output_type": "display_data"
    }
   ],
   "source": [
    "LiH_fermionic_hamiltonian, LiH_num_particles, LiH_num_spin_orbitals, LiH_qubit_op, LiH_qubit_converter, LiH_ground_state = \\\n",
    "                  solve_ground_state(LiH_info_dict, mapper=\"Parity\",\n",
    "                  freeze_core=FreezeCoreTransformer(freeze_core=True, remove_orbitals=[4, 3]),\n",
    "                  two_qubit_reduction=True, z2symmetry_reduction=\"auto\", loss=qnspsa_loss, label='QN-SPSA', target=-1.0703584,\n",
    "                  name_solver='Two-Local circuit and the QN-SPSA optimizer', solver=vqe_tl_QNSPSA_solver)"
   ]
  },
  {
   "cell_type": "markdown",
   "metadata": {
    "id": "CgnMCPC1Twal"
   },
   "source": [
    "Figure 5.16 – Ground-state of the $\\text{LiH}$ molecule with VQE using the Two-Local circuit and QN-SPSA\n",
    "\n",
    "Figure 5.17 – Loss function of the VQE using the Two-Local circuit and QN-SPSA for the $\\text{LiH}$ molecule\n",
    "\n",
    "Figure 5.18 – Table summarizing the calculations of the ground state energy obtained with the $\\text{LiH}$ molecule"
   ]
  },
  {
   "cell_type": "markdown",
   "metadata": {
    "id": "5yq8fMpwA20w"
   },
   "source": [
    "### Computing the Born-Oppenheimer Potential Energy Surface (BOPES)"
   ]
  },
  {
   "cell_type": "code",
   "execution_count": 64,
   "metadata": {
    "id": "Ofz1OF_Sc0Xy"
   },
   "outputs": [
    {
     "name": "stdout",
     "output_type": "stream",
     "text": [
      "Fermionic Hamiltonian operator\n",
      "Fermionic Operator\n",
      "number spin orbitals=6, number terms=342\n",
      "  0.2454848810508554 * ( +_0 +_0 -_0 -_0 )\n",
      "+ -0.023851058569061917 * ( +_0 +_0 -_0 -_1 )\n",
      "+ 0.06479059463969192 * ( +_0 +_0 -_0 -_2 )\n",
      "+ -0.02385105856906189 * ( +_0 +_0 -_1 -_0 )\n",
      "+ 0.006278964751038882 * ( +_0 +_0 -_1 -_1 )\n",
      "+ -0.01699831693966717 * ( +_0 +_0 -_1 -_2 )\n",
      "+ 0.06479059463969195 * ( +_0 +_0 -_2 -_0 )\n",
      "+ -0.016998316939667194 * ( +_0 +_0 -_2 -_1 )\n",
      "+ 0.06169219392652288 * ( +_0 +_0 -_2 -_2 )\n",
      "+ -0.0238510585690619 * ( +_0 +_1 -_0 -_0 )\n",
      "+ 0.006278964751038881 * ( +_0 +_1 -_0 -_1 )\n",
      "+ -0.016998316939667166 * ( +_0 +_1 -_0 -_2 )\n",
      "+ 0.1125775633443804 * ( +_0 +_1 -_1 -_0 )\n",
      "+ 0.003394929924806344 * ( +_0 +_1 -_1 -_1 )\n",
      "+ -0.005474501224627862 * ( +_0 +_1 -_1 -_2 )\n",
      "+ -0.025558666066082494 * ( +_0 +_1 -_2 -_0 )\n",
      "+ 0.004443221616335391 * ( +_0 +_1 -_2 -_1 )\n",
      "+ -0.015718006531833115 * ( +_0 +_1 -_2 -_2 )\n",
      "+ 0.06479059463969188 * ( +_0 +_2 -_0 -_0 )\n",
      "+ -0.016998316939667177 * ( +_0 +_2 -_0 -_1 )\n",
      "...\n",
      "Number of particles: (1, 1)\n",
      "Number of spin orbitals: 6\n",
      " \n",
      "Qubit Hamiltonian operator\n",
      "Parity transformation \n",
      "Number of items in the Pauli list: 100\n",
      "-0.2031660615055887 * IIII\n",
      "- 0.09275994933497721 * IIIZ\n",
      "- 0.0029411410873821974 * IIZX\n",
      "+ 0.0029411410873821974 * IIIX\n",
      "- 0.0007427996394636293 * IIXX\n",
      "+ 0.0007427996394636302 * IIYY\n",
      "- 0.211889842970084 * IIZZ\n",
      "+ 0.36525869021603974 * IIZI\n",
      "+ 0.019389408583686353 * IIXZ\n",
      "+ 0.019389408583686353 * IIXI\n",
      "+ 0.09275994933497671 * IZII\n",
      "- 0.12274244052542765 * IZIZ\n",
      "+ 0.011925529284530941 * IZZX\n",
      "- 0.011925529284530941 * IZIX\n",
      "+ 0.032395297319845945 * IZXX\n",
      "- 0.032395297319845945 * IZYY\n",
      "+ 0.0029411410873821766 * ZXII\n",
      "+ 0.011925529284530953 * ZXIZ\n",
      "+ 0.00294114108738218 * IXII\n",
      "+ 0.011925529284530953 * IXIZ\n",
      " \n",
      "PySCF restricted HF (RHF) converged ground-state energy: -7.863113882796\n",
      "Iteration, Energy, Error\n",
      "0:         -7.9104 0.0810\n",
      "1:         -7.7798 0.1750\n",
      "2:         -7.8369 0.0575\n",
      "3:         -8.0284 0.0346\n",
      "PyQMC Monte Carlo converged ground-state energy: -8.028433761404, error: 0.0346\n",
      "QPE computed electronic ground state energy (Hartree): -0.2031660615055887\n",
      " \n",
      "Running the VQE using the NumPy exact solver\n",
      "Elapsed time: 0:00:00.146542 \n",
      "\n",
      "=== GROUND STATE ENERGY ===\n",
      " \n",
      "* Electronic ground state energy (Hartree): -8.907396311316\n",
      "  - computed part:      -1.088706015735\n",
      "  - FreezeCoreTransformer extracted energy part: -7.818690295581\n",
      "~ Nuclear repulsion energy (Hartree): 1.025934879643\n",
      "> Total ground state energy (Hartree): -7.881461431673\n",
      " \n",
      "=== MEASURED OBSERVABLES ===\n",
      " \n",
      "  0:  # Particles: 2.000 S: 0.000 S^2: 0.000 M: 0.000\n",
      " \n",
      "=== DIPOLE MOMENTS ===\n",
      " \n",
      "~ Nuclear dipole moment (a.u.): [0.0  0.0  2.92416221]\n",
      " \n",
      "  0: \n",
      "  * Electronic dipole moment (a.u.): [0.0  0.0  4.76300889]\n",
      "    - computed part:      [0.0  0.0  4.76695575]\n",
      "    - FreezeCoreTransformer extracted energy part: [0.0  0.0  -0.00394686]\n",
      "  > Dipole moment (a.u.): [0.0  0.0  -1.83884668]  Total: 1.83884668\n",
      "                 (debye): [0.0  0.0  -4.67388163]  Total: 4.67388163\n",
      " \n",
      "Number of perturbation steps:  10\n",
      "Step:  0\n",
      "Step:  1\n",
      "Step:  2\n",
      "Step:  3\n",
      "Step:  4\n",
      "Step:  5\n",
      "Step:  6\n",
      "Step:  7\n",
      "Step:  8\n",
      "Step:  9\n"
     ]
    },
    {
     "data": {
      "image/png": "[encoded data removed]",
      "text/plain": [
       "<Figure size 432x288 with 1 Axes>"
      ]
     },
     "metadata": {
      "needs_background": "light"
     },
     "output_type": "display_data"
    }
   ],
   "source": [
    "perturbation_steps = np.linspace(-0.8, 0.8, 10) # 10 equally spaced points from -0.8 to 0.8, inclusive.\n",
    "LiH_s_fermionic_hamiltonian, LiH_s_num_particles, LiH_s_num_spin_orbitals, LiH_s_qubit_op, LiH_s_qubit_converter, LiH_s_ground_state = \\\n",
    "                  solve_ground_state(LiH_info_dict, mapper =\"Parity\",\n",
    "                  freeze_core=FreezeCoreTransformer(freeze_core=True, remove_orbitals=[4, 3]),\n",
    "                   two_qubit_reduction=True, z2symmetry_reduction=\"auto\", \n",
    "                   name_solver='NumPy exact solver', solver=numpy_solver,\n",
    "                   plot_bopes=True, perturbation_steps=perturbation_steps)"
   ]
  },
  {
   "cell_type": "markdown",
   "metadata": {
    "id": "E55CqTIJBQh5"
   },
   "source": [
    "Figure 5.19 – Plot of the Born-Oppenheimer Potential Energy Surface (BOPES) of the $\\text{LiH}$ molecule"
   ]
  },
  {
   "cell_type": "markdown",
   "metadata": {
    "id": "yxiPpypwFF-Q"
   },
   "source": [
    "## 5.2.3. Macro molecule"
   ]
  },
  {
   "cell_type": "code",
   "execution_count": 65,
   "metadata": {
    "id": "fQcyMo8_dAb2"
   },
   "outputs": [],
   "source": [
    "macro_ASE = Atoms('ONCHHHC', [(1.1280, 0.2091, 0.0000), \n",
    "                          (-1.1878, 0.1791, 0.0000), \n",
    "                          (0.0598, -0.3882, 0.0000),\n",
    "                          (-1.3085, 1.1864, 0.0001),\n",
    "                          (-2.0305, -0.3861, -0.0001),\n",
    "                          (-0.0014, -1.4883, -0.0001),\n",
    "                          (-0.1805, 1.3955, 0.0000)])"
   ]
  },
  {
   "cell_type": "code",
   "execution_count": 66,
   "metadata": {
    "id": "rczrZIh5dIWD"
   },
   "outputs": [
    {
     "data": {
      "text/html": [
       "<html>\n",
       "\n",
       " <head>\n",
       "\n",
       "  <title>ASE atomic visualization</title>\n",
       "\n",
       "  <link rel=\"stylesheet\" type=\"text/css\"\n",
       "\n",
       "   href=\"https://www.x3dom.org/x3dom/release/x3dom.css\">\n",
       "\n",
       "  </link>\n",
       "\n",
       "  <script type=\"text/javascript\"\n",
       "\n",
       "   src=\"https://www.x3dom.org/x3dom/release/x3dom.js\">\n",
       "\n",
       "  </script>\n",
       "\n",
       " </head>\n",
       "\n",
       " <body>\n",
       "\n",
       "  <X3D>\n",
       "\n",
       "   <Scene>\n",
       "\n",
       "    <Transform translation=\"1.13 0.21 0.00\">\n",
       "\n",
       "     <Shape>\n",
       "\n",
       "      <Appearance>\n",
       "\n",
       "       <Material diffuseColor=\"1.000 0.051 0.051\" specularColor=\"0.5 0.5 0.5\">\n",
       "\n",
       "       </Material>\n",
       "\n",
       "      </Appearance>\n",
       "\n",
       "      <Sphere radius=\"0.66\">\n",
       "\n",
       "      </Sphere>\n",
       "\n",
       "     </Shape>\n",
       "\n",
       "    </Transform>\n",
       "\n",
       "    <Transform translation=\"-1.19 0.18 0.00\">\n",
       "\n",
       "     <Shape>\n",
       "\n",
       "      <Appearance>\n",
       "\n",
       "       <Material diffuseColor=\"0.188 0.314 0.973\" specularColor=\"0.5 0.5 0.5\">\n",
       "\n",
       "       </Material>\n",
       "\n",
       "      </Appearance>\n",
       "\n",
       "      <Sphere radius=\"0.71\">\n",
       "\n",
       "      </Sphere>\n",
       "\n",
       "     </Shape>\n",
       "\n",
       "    </Transform>\n",
       "\n",
       "    <Transform translation=\"0.06 -0.39 0.00\">\n",
       "\n",
       "     <Shape>\n",
       "\n",
       "      <Appearance>\n",
       "\n",
       "       <Material diffuseColor=\"0.565 0.565 0.565\" specularColor=\"0.5 0.5 0.5\">\n",
       "\n",
       "       </Material>\n",
       "\n",
       "      </Appearance>\n",
       "\n",
       "      <Sphere radius=\"0.76\">\n",
       "\n",
       "      </Sphere>\n",
       "\n",
       "     </Shape>\n",
       "\n",
       "    </Transform>\n",
       "\n",
       "    <Transform translation=\"-1.31 1.19 0.00\">\n",
       "\n",
       "     <Shape>\n",
       "\n",
       "      <Appearance>\n",
       "\n",
       "       <Material diffuseColor=\"1.000 1.000 1.000\" specularColor=\"0.5 0.5 0.5\">\n",
       "\n",
       "       </Material>\n",
       "\n",
       "      </Appearance>\n",
       "\n",
       "      <Sphere radius=\"0.31\">\n",
       "\n",
       "      </Sphere>\n",
       "\n",
       "     </Shape>\n",
       "\n",
       "    </Transform>\n",
       "\n",
       "    <Transform translation=\"-2.03 -0.39 -0.00\">\n",
       "\n",
       "     <Shape>\n",
       "\n",
       "      <Appearance>\n",
       "\n",
       "       <Material diffuseColor=\"1.000 1.000 1.000\" specularColor=\"0.5 0.5 0.5\">\n",
       "\n",
       "       </Material>\n",
       "\n",
       "      </Appearance>\n",
       "\n",
       "      <Sphere radius=\"0.31\">\n",
       "\n",
       "      </Sphere>\n",
       "\n",
       "     </Shape>\n",
       "\n",
       "    </Transform>\n",
       "\n",
       "    <Transform translation=\"-0.00 -1.49 -0.00\">\n",
       "\n",
       "     <Shape>\n",
       "\n",
       "      <Appearance>\n",
       "\n",
       "       <Material diffuseColor=\"1.000 1.000 1.000\" specularColor=\"0.5 0.5 0.5\">\n",
       "\n",
       "       </Material>\n",
       "\n",
       "      </Appearance>\n",
       "\n",
       "      <Sphere radius=\"0.31\">\n",
       "\n",
       "      </Sphere>\n",
       "\n",
       "     </Shape>\n",
       "\n",
       "    </Transform>\n",
       "\n",
       "    <Transform translation=\"-0.18 1.40 0.00\">\n",
       "\n",
       "     <Shape>\n",
       "\n",
       "      <Appearance>\n",
       "\n",
       "       <Material diffuseColor=\"0.565 0.565 0.565\" specularColor=\"0.5 0.5 0.5\">\n",
       "\n",
       "       </Material>\n",
       "\n",
       "      </Appearance>\n",
       "\n",
       "      <Sphere radius=\"0.76\">\n",
       "\n",
       "      </Sphere>\n",
       "\n",
       "     </Shape>\n",
       "\n",
       "    </Transform>\n",
       "\n",
       "   </Scene>\n",
       "\n",
       "  </X3D>\n",
       "\n",
       " </body>\n",
       "\n",
       "</html>\n",
       "\n"
      ],
      "text/plain": [
       "<IPython.core.display.HTML object>"
      ]
     },
     "execution_count": 66,
     "metadata": {},
     "output_type": "execute_result"
    }
   ],
   "source": [
    "view(macro_ASE, viewer='x3d')"
   ]
  },
  {
   "cell_type": "markdown",
   "metadata": {
    "id": "k5IRl-OkcPGk"
   },
   "source": [
    "Figure 5.20 – Macro molecule"
   ]
  },
  {
   "cell_type": "code",
   "execution_count": 67,
   "metadata": {},
   "outputs": [],
   "source": [
    "M_atoms = [\"O\",\"N\",\"C\",\"H\",\"H\",\"H\",\"C\"]\n",
    "M_coords = [(1.1280, 0.2091, 0.0000), \n",
    "                    (-1.1878, 0.1791, 0.0000),\n",
    "                    (0.0598, -0.3882, 0.0000),\n",
    "                    (-1.3085, 1.1864, 0.0001),\n",
    "                    (-2.0305, -0.3861, -0.0001),\n",
    "                    (-0.0014, -1.4883, -0.0001),\n",
    "                    (-0.1805, 1.3955, 0.0000)]\n",
    "M_charge = 0\n",
    "M_multiplicity = 1\n",
    "M_atom_pair=(6, 1)\n",
    "M_info_dict={'atoms':M_atoms, 'coords':M_coords, 'charge':M_charge, 'multiplicity':M_multiplicity, 'atom_pair':M_atom_pair}\n",
    "\n",
    "macromoleculeinfo = MoleculeInfo(M_atoms, M_coords, charge=M_charge, multiplicity=M_multiplicity)"
   ]
  },
  {
   "cell_type": "markdown",
   "metadata": {
    "id": "GYcdp6gtjuK6"
   },
   "source": [
    "### Solving for the Ground-state"
   ]
  },
  {
   "cell_type": "code",
   "execution_count": 68,
   "metadata": {
    "id": "fljwX8YAaQO5"
   },
   "outputs": [
    {
     "name": "stdout",
     "output_type": "stream",
     "text": [
      "Macro molecule\n",
      "Using the ParityMapper with two_qubit_reduction=True to eliminate two qubits\n",
      "Parameters ActiveSpaceTransformer(num_electrons=2, num_molecular_orbitals=2)\n",
      "Setting z2symmetry_reduction=\"auto\"\n"
     ]
    }
   ],
   "source": [
    "print(\"Macro molecule\")\n",
    "print(\"Using the ParityMapper with two_qubit_reduction=True to eliminate two qubits\")\n",
    "print(\"Parameters ActiveSpaceTransformer(num_electrons=2, num_molecular_orbitals=2)\")\n",
    "print(\"Setting z2symmetry_reduction=\\\"auto\\\"\")"
   ]
  },
  {
   "cell_type": "code",
   "execution_count": 69,
   "metadata": {
    "id": "PeBodrvbZseO"
   },
   "outputs": [
    {
     "name": "stdout",
     "output_type": "stream",
     "text": [
      "Fermionic Hamiltonian operator\n",
      "Fermionic Operator\n",
      "number spin orbitals=4, number terms=72\n",
      "  0.3059180961453185 * ( +_0 +_0 -_0 -_0 )\n",
      "+ 0.02553837251977948 * ( +_0 +_0 -_0 -_1 )\n",
      "+ 0.025538372519779452 * ( +_0 +_0 -_1 -_0 )\n",
      "+ 0.013459756138882619 * ( +_0 +_0 -_1 -_1 )\n",
      "+ 0.02553837251977946 * ( +_0 +_1 -_0 -_0 )\n",
      "+ 0.013459756138882617 * ( +_0 +_1 -_0 -_1 )\n",
      "+ 0.15143562248740172 * ( +_0 +_1 -_1 -_0 )\n",
      "+ -0.024634277834934864 * ( +_0 +_1 -_1 -_1 )\n",
      "+ 0.3059180961453185 * ( +_0 +_2 -_2 -_0 )\n",
      "+ 0.02553837251977946 * ( +_0 +_2 -_2 -_1 )\n",
      "+ 0.025538372519779487 * ( +_0 +_2 -_3 -_0 )\n",
      "+ 0.013459756138882617 * ( +_0 +_2 -_3 -_1 )\n",
      "+ 0.02553837251977948 * ( +_0 +_3 -_2 -_0 )\n",
      "+ 0.013459756138882617 * ( +_0 +_3 -_2 -_1 )\n",
      "+ 0.15143562248740183 * ( +_0 +_3 -_3 -_0 )\n",
      "+ -0.02463427783493484 * ( +_0 +_3 -_3 -_1 )\n",
      "+ 0.025538372519779487 * ( +_1 +_0 -_0 -_0 )\n",
      "+ 0.15143562248740183 * ( +_1 +_0 -_0 -_1 )\n",
      "+ 0.013459756138882619 * ( +_1 +_0 -_1 -_0 )\n",
      "+ -0.02463427783493487 * ( +_1 +_0 -_1 -_1 )\n",
      "...\n",
      "Number of particles: (1, 1)\n",
      "Number of spin orbitals: 4\n",
      " \n",
      "Qubit Hamiltonian operator\n",
      "Parity transformation \n",
      "Number of items in the Pauli list: 9\n",
      "-0.641002818115792 * II\n",
      "+ 0.1873187800476399 * IZ\n",
      "- 0.05017272138403064 * IX\n",
      "- 0.18731878004763985 * ZI\n",
      "- 0.13136975723491895 * ZZ\n",
      "+ 0.050172650354714285 * ZX\n",
      "- 0.050172721384030616 * XI\n",
      "- 0.05017265035471433 * XZ\n",
      "+ 0.026919512277765224 * XX\n",
      " \n",
      "PySCF restricted HF (RHF) converged ground-state energy: -203.543863584136\n",
      "QPE computed electronic ground state energy (Hartree): -0.8244072113871554\n",
      " \n",
      "Running the VQE using the NumPy exact solver\n",
      "Elapsed time: 0:00:00.046538 \n",
      "\n",
      "=== GROUND STATE ENERGY ===\n",
      " \n",
      "* Electronic ground state energy (Hartree): -318.206223981747\n",
      "  - computed part:      -0.885465166125\n",
      "  - ActiveSpaceTransformer extracted energy part: -317.320758815622\n",
      "~ Nuclear repulsion energy (Hartree): 114.661165852466\n",
      "> Total ground state energy (Hartree): -203.545058129282\n",
      " \n",
      "=== MEASURED OBSERVABLES ===\n",
      " \n",
      "  0:  # Particles: 2.000 S: 0.000 S^2: 0.000 M: 0.000\n",
      " \n",
      "=== DIPOLE MOMENTS ===\n",
      " \n",
      "~ Nuclear dipole moment (a.u.): [-6.34040909  15.65127868  -0.00018897]\n",
      " \n",
      "  0: \n",
      "  * Electronic dipole moment (a.u.): [-5.12026581  16.91295797  -0.00024077]\n",
      "    - computed part:      [-0.70824787  4.63305797  -0.00017904]\n",
      "    - ActiveSpaceTransformer extracted energy part: [-4.41201795  12.2799  -0.00006172]\n",
      "  > Dipole moment (a.u.): [-1.22014328  -1.26167929  0.0000518]  Total: 1.75515933\n",
      "                 (debye): [-3.10129458  -3.20686858  0.00013165]  Total: 4.4611696\n",
      " \n"
     ]
    }
   ],
   "source": [
    "macro_fermionic_hamiltonian, macro_particle_num_particles, macro_particle_num_spin_orbitals, macro_qubit_op, macro_qubit_converter, macro_ground_state = \\\n",
    "                  solve_ground_state(M_info_dict, mapper=\"Parity\",\n",
    "                  num_electrons=2, num_spatial_orbitals=2,\n",
    "                  two_qubit_reduction=True, z2symmetry_reduction=\"auto\", \n",
    "                  name_solver='NumPy exact solver', solver=numpy_solver, pyqmc=False)"
   ]
  },
  {
   "cell_type": "markdown",
   "metadata": {
    "id": "8wluc-v-DqcF"
   },
   "source": [
    "Figure 5.21 – First 20 terms of the fermionic Hamiltonian operator of the macro molecule\n",
    "\n",
    "Figure 5.22 – Qubit Hamiltonian operator of the outermost two electrons of the macro molecule\n",
    "\n",
    "Figure 5.23 – Total and electronic ground state energy of the macro molecule by PySCF and QPE respectively\n",
    "\n",
    "Figure 5.24 – Ground state of macro molecule using the NumPy exact minimum eigensolver\n",
    "\n",
    "### Computing the BOPES"
   ]
  },
  {
   "cell_type": "code",
   "execution_count": 70,
   "metadata": {
    "id": "AI3Q4flqfJQ6"
   },
   "outputs": [
    {
     "name": "stdout",
     "output_type": "stream",
     "text": [
      "Fermionic Hamiltonian operator\n",
      "Fermionic Operator\n",
      "number spin orbitals=4, number terms=72\n",
      "  0.30591809614531845 * ( +_0 +_0 -_0 -_0 )\n",
      "+ 0.025538372519779858 * ( +_0 +_0 -_0 -_1 )\n",
      "+ 0.025538372519779837 * ( +_0 +_0 -_1 -_0 )\n",
      "+ 0.013459756138882704 * ( +_0 +_0 -_1 -_1 )\n",
      "+ 0.025538372519779834 * ( +_0 +_1 -_0 -_0 )\n",
      "+ 0.013459756138882705 * ( +_0 +_1 -_0 -_1 )\n",
      "+ 0.1514356224874016 * ( +_0 +_1 -_1 -_0 )\n",
      "+ -0.024634277834934836 * ( +_0 +_1 -_1 -_1 )\n",
      "+ 0.30591809614531845 * ( +_0 +_2 -_2 -_0 )\n",
      "+ 0.025538372519779834 * ( +_0 +_2 -_2 -_1 )\n",
      "+ 0.025538372519779855 * ( +_0 +_2 -_3 -_0 )\n",
      "+ 0.013459756138882697 * ( +_0 +_2 -_3 -_1 )\n",
      "+ 0.025538372519779858 * ( +_0 +_3 -_2 -_0 )\n",
      "+ 0.013459756138882705 * ( +_0 +_3 -_2 -_1 )\n",
      "+ 0.15143562248740167 * ( +_0 +_3 -_3 -_0 )\n",
      "+ -0.024634277834934833 * ( +_0 +_3 -_3 -_1 )\n",
      "+ 0.025538372519779855 * ( +_1 +_0 -_0 -_0 )\n",
      "+ 0.15143562248740167 * ( +_1 +_0 -_0 -_1 )\n",
      "+ 0.0134597561388827 * ( +_1 +_0 -_1 -_0 )\n",
      "+ -0.024634277834934857 * ( +_1 +_0 -_1 -_1 )\n",
      "...\n",
      "Number of particles: (1, 1)\n",
      "Number of spin orbitals: 4\n",
      " \n",
      "Qubit Hamiltonian operator\n",
      "Parity transformation \n",
      "Number of items in the Pauli list: 9\n",
      "-0.6410028181157996 * II\n",
      "+ 0.18731878004763813 * IZ\n",
      "- 0.05017272138403072 * IX\n",
      "- 0.18731878004763836 * ZI\n",
      "- 0.13136975723491878 * ZZ\n",
      "+ 0.05017265035471466 * ZX\n",
      "- 0.050172721384030686 * XI\n",
      "- 0.050172650354714673 * XZ\n",
      "+ 0.02691951227776539 * XX\n",
      " \n",
      "PySCF restricted HF (RHF) converged ground-state energy: -203.543863584136\n",
      "QPE computed electronic ground state energy (Hartree): -0.8244072113871624\n",
      " \n",
      "Running the VQE using the NumPy exact solver\n",
      "Elapsed time: 0:00:00.050723 \n",
      "\n",
      "=== GROUND STATE ENERGY ===\n",
      " \n",
      "* Electronic ground state energy (Hartree): -318.206223981747\n",
      "  - computed part:      -0.885465166125\n",
      "  - ActiveSpaceTransformer extracted energy part: -317.320758815622\n",
      "~ Nuclear repulsion energy (Hartree): 114.661165852466\n",
      "> Total ground state energy (Hartree): -203.545058129282\n",
      " \n",
      "=== MEASURED OBSERVABLES ===\n",
      " \n",
      "  0:  # Particles: 2.000 S: 0.000 S^2: 0.000 M: 0.000\n",
      " \n",
      "=== DIPOLE MOMENTS ===\n",
      " \n",
      "~ Nuclear dipole moment (a.u.): [-6.34040909  15.65127868  -0.00018897]\n",
      " \n",
      "  0: \n",
      "  * Electronic dipole moment (a.u.): [-5.12026581  16.91295797  -0.00024077]\n",
      "    - computed part:      [-0.70824787  4.63305797  -0.00017904]\n",
      "    - ActiveSpaceTransformer extracted energy part: [-4.41201795  12.2799  -0.00006172]\n",
      "  > Dipole moment (a.u.): [-1.22014328  -1.26167929  0.0000518]  Total: 1.75515933\n",
      "                 (debye): [-3.10129458  -3.20686858  0.00013165]  Total: 4.4611696\n",
      " \n",
      "Number of perturbation steps:  25\n",
      "Step:  0\n",
      "Step:  1\n",
      "Step:  2\n",
      "Step:  3\n",
      "Step:  4\n",
      "Step:  5\n",
      "Step:  6\n",
      "Step:  7\n",
      "Step:  8\n",
      "Step:  9\n",
      "Step:  10\n",
      "Step:  11\n",
      "Step:  12\n",
      "Step:  13\n",
      "Step:  14\n",
      "Step:  15\n",
      "Step:  16\n",
      "Step:  17\n",
      "Step:  18\n",
      "Step:  19\n",
      "Step:  20\n",
      "Step:  21\n",
      "Step:  22\n",
      "Step:  23\n",
      "Step:  24\n"
     ]
    },
    {
     "data": {
      "image/png": "[encoded data removed]",
      "text/plain": [
       "<Figure size 432x288 with 1 Axes>"
      ]
     },
     "metadata": {
      "needs_background": "light"
     },
     "output_type": "display_data"
    }
   ],
   "source": [
    "perturbation_steps = np.linspace(-0.5, 3, 25) # 25 equally spaced points from -0.5 to 3, inclusive.\n",
    "macro_fermionic_hamiltonian, macro_particle_num_particles, macro_particle_num_spin_orbitals, macro_qubit_op, macro_qubit_converter, macro_ground_state = \\\n",
    "                  solve_ground_state(M_info_dict, mapper=\"Parity\",\n",
    "                  num_electrons=2, num_spatial_orbitals=2,\n",
    "                  two_qubit_reduction=True, z2symmetry_reduction=\"auto\",  \n",
    "                  name_solver='NumPy exact solver', solver=numpy_solver, pyqmc=False,\n",
    "                  plot_bopes=True, perturbation_steps=perturbation_steps)"
   ]
  },
  {
   "cell_type": "markdown",
   "metadata": {
    "id": "JMGRYSoelGaj"
   },
   "source": [
    "Figure 5.25 – Plot of the Born-Oppenheimer Potential Energy Surface (BOPES) of the macro molecule"
   ]
  },
  {
   "cell_type": "markdown",
   "metadata": {
    "id": "N9OUnvrLVe2S"
   },
   "source": [
    "# Summary"
   ]
  },
  {
   "cell_type": "markdown",
   "metadata": {
    "id": "CGfBDGZY82zw"
   },
   "source": [
    "# Questions\n",
    "\n",
    "1.   Does the variational theorem apply to excited states?\n"
   ]
  },
  {
   "cell_type": "code",
   "execution_count": 71,
   "metadata": {
    "cellView": "form",
    "id": "DtfjLkr-7wsF"
   },
   "outputs": [
    {
     "name": "stdout",
     "output_type": "stream",
     "text": [
      "Incorrect, please try again\n"
     ]
    }
   ],
   "source": [
    "#@title Enter your answer Yes, No or ? for a solution, then execute cell.\n",
    "answer = \"\" #@param {type:\"string\"}\n",
    "solution = \"Yes\"\n",
    "if answer == solution:\n",
    "  print(\"Correct\")\n",
    "elif answer == '?':\n",
    "  print(solution)\n",
    "else:\n",
    "  print(\"Incorrect, please try again\")"
   ]
  },
  {
   "cell_type": "markdown",
   "metadata": {
    "id": "08jG9COw-eFW"
   },
   "source": [
    "2. True or False: The Metropolis-Hastings method is a way to approximate integration over spatial coordinates."
   ]
  },
  {
   "cell_type": "code",
   "execution_count": 72,
   "metadata": {
    "cellView": "form",
    "id": "mNQGPNdv9f3V"
   },
   "outputs": [
    {
     "name": "stdout",
     "output_type": "stream",
     "text": [
      "Incorrect, please try again\n"
     ]
    }
   ],
   "source": [
    "#@title Enter your answer True, False or ? for a solution, then execute cell.\n",
    "answer = \"\" #@param {type:\"string\"}\n",
    "solution = \"True\"\n",
    "if answer == solution:\n",
    "  print(\"Correct\")\n",
    "elif answer == '?':\n",
    "  print(solution)\n",
    "else:\n",
    "  print(\"Incorrect, please try again\")"
   ]
  },
  {
   "cell_type": "markdown",
   "metadata": {
    "id": "9nRVSIzr9c0d"
   },
   "source": [
    "3. True or False: VQE is only a quantum computing algorithm and does not require the use of classical computing."
   ]
  },
  {
   "cell_type": "code",
   "execution_count": 73,
   "metadata": {
    "cellView": "form",
    "id": "JDF0IR8l9jOR"
   },
   "outputs": [
    {
     "name": "stdout",
     "output_type": "stream",
     "text": [
      "Incorrect, please try again\n"
     ]
    }
   ],
   "source": [
    "#@title Enter your answer True, False or ? for a solution, then execute cell.\n",
    "answer = \"\" #@param {type:\"string\"}\n",
    "solution = \"False\"\n",
    "if answer == solution:\n",
    "  print(\"Correct\")\n",
    "elif answer == '?':\n",
    "  print(solution)\n",
    "else:\n",
    "  print(\"Incorrect, please try again\")"
   ]
  },
  {
   "cell_type": "code",
   "execution_count": 74,
   "metadata": {},
   "outputs": [
    {
     "data": {
      "text/html": [
       "<h3>Version Information</h3><table><tr><th>Qiskit Software</th><th>Version</th></tr><tr><td><code>qiskit-terra</code></td><td>0.22.3</td></tr><tr><td><code>qiskit-aer</code></td><td>0.11.0</td></tr><tr><td><code>qiskit-ibmq-provider</code></td><td>0.19.2</td></tr><tr><td><code>qiskit</code></td><td>0.38.0</td></tr><tr><td><code>qiskit-nature</code></td><td>0.5.1</td></tr><tr><th>System information</th></tr><tr><td>Python version</td><td>3.8.12</td></tr><tr><td>Python compiler</td><td>GCC 7.5.0</td></tr><tr><td>Python build</td><td>default, Oct 12 2021 13:49:34</td></tr><tr><td>OS</td><td>Linux</td></tr><tr><td>CPUs</td><td>8</td></tr><tr><td>Memory (Gb)</td><td>7.403186798095703</td></tr><tr><td colspan='2'>Mon Nov 28 00:37:42 2022 CET</td></tr></table>"
      ],
      "text/plain": [
       "<IPython.core.display.HTML object>"
      ]
     },
     "metadata": {},
     "output_type": "display_data"
    }
   ],
   "source": [
    "# Display Qiskit Software and System information\n",
    "import qiskit.tools.jupyter\n",
    "%qiskit_version_table"
   ]
  }
 ],
 "metadata": {
  "colab": {
   "provenance": []
  },
  "kernelspec": {
   "display_name": "Python 3",
   "language": "python",
   "name": "python3"
  },
  "language_info": {
   "codemirror_mode": {
    "name": "ipython",
    "version": 3
   },
   "file_extension": ".py",
   "mimetype": "text/x-python",
   "name": "python",
   "nbconvert_exporter": "python",
   "pygments_lexer": "ipython3",
   "version": "3.8.12"
  },
  "widgets": {
   "application/vnd.jupyter.widget-state+json": {
    "state": {
     "100e1cb36007412385bdd5b7d0e91b8a": {
      "model_module": "@jupyter-widgets/base",
      "model_module_version": "1.2.0",
      "model_name": "LayoutModel",
      "state": {
       "width": "145px"
      }
     },
     "1e4c366a17f84ac0a8340e57a5848571": {
      "model_module": "@jupyter-widgets/base",
      "model_module_version": "1.2.0",
      "model_name": "LayoutModel",
      "state": {}
     },
     "27e118d201984c42b48abe05d3866d45": {
      "model_module": "@jupyter-widgets/controls",
      "model_module_version": "1.5.0",
      "model_name": "HTMLModel",
      "state": {
       "layout": "IPY_MODEL_1e4c366a17f84ac0a8340e57a5848571",
       "style": "IPY_MODEL_c984fbb95a994ecba5fb82fc4ece884a",
       "value": "<h5>Message</h5>"
      }
     },
     "3ec61ee8d470436ea82cf6a0ee0e55a1": {
      "model_module": "@jupyter-widgets/controls",
      "model_module_version": "1.5.0",
      "model_name": "HTMLModel",
      "state": {
       "layout": "IPY_MODEL_100e1cb36007412385bdd5b7d0e91b8a",
       "style": "IPY_MODEL_f611207f71634f3a931a1c1c7e1b82e7",
       "value": "<h5>Backend</h5>"
      }
     },
     "4eaf897d919c4e98a481310a2b1e70c7": {
      "model_module": "@jupyter-widgets/base",
      "model_module_version": "1.2.0",
      "model_name": "LayoutModel",
      "state": {
       "grid_area": "right",
       "padding": "0px 0px 0px 0px",
       "width": "70px"
      }
     },
     "618983f932684d3e9b3ea32ba1dd82d4": {
      "model_module": "@jupyter-widgets/controls",
      "model_module_version": "1.5.0",
      "model_name": "HBoxModel",
      "state": {
       "children": [
        "IPY_MODEL_8f4328fb327342cb84baf44adafcbc71",
        "IPY_MODEL_3ec61ee8d470436ea82cf6a0ee0e55a1",
        "IPY_MODEL_bfa17145e2e640a3bed007cba37e3746",
        "IPY_MODEL_80261813c59549fc92de97acddb3fafc",
        "IPY_MODEL_27e118d201984c42b48abe05d3866d45"
       ],
       "layout": "IPY_MODEL_747a2dbf25dd49e3b6f5947632ab2e3e"
      }
     },
     "70c60934ce8440a3aa5b0f899da1c101": {
      "model_module": "@jupyter-widgets/base",
      "model_module_version": "1.2.0",
      "model_name": "LayoutModel",
      "state": {
       "grid_template_areas": "\n                                       \". . . . right \"\n                                        ",
       "grid_template_columns": "20% 20% 20% 20% 20%",
       "width": "100%"
      }
     },
     "747a2dbf25dd49e3b6f5947632ab2e3e": {
      "model_module": "@jupyter-widgets/base",
      "model_module_version": "1.2.0",
      "model_name": "LayoutModel",
      "state": {
       "margin": "0px 0px 0px 37px",
       "width": "600px"
      }
     },
     "80261813c59549fc92de97acddb3fafc": {
      "model_module": "@jupyter-widgets/controls",
      "model_module_version": "1.5.0",
      "model_name": "HTMLModel",
      "state": {
       "layout": "IPY_MODEL_eeb32f41be9646dc85d46ffd709d3c7d",
       "style": "IPY_MODEL_dbc351e1c7ce4987944dee9125d59477",
       "value": "<h5>Queue</h5>"
      }
     },
     "8cc21cf5d6314da888c742528318bb5e": {
      "model_module": "@jupyter-widgets/controls",
      "model_module_version": "1.5.0",
      "model_name": "ButtonModel",
      "state": {
       "button_style": "primary",
       "description": "Clear",
       "layout": "IPY_MODEL_4eaf897d919c4e98a481310a2b1e70c7",
       "style": "IPY_MODEL_b9584646a7b34091964986a100521ece"
      }
     },
     "8f4328fb327342cb84baf44adafcbc71": {
      "model_module": "@jupyter-widgets/controls",
      "model_module_version": "1.5.0",
      "model_name": "HTMLModel",
      "state": {
       "layout": "IPY_MODEL_9dadaa172abd4571a3d39103d1d7c5bb",
       "style": "IPY_MODEL_ab9c9c2ce82d4b18a6861d4799bf9807",
       "value": "<h5>Job ID</h5>"
      }
     },
     "9dadaa172abd4571a3d39103d1d7c5bb": {
      "model_module": "@jupyter-widgets/base",
      "model_module_version": "1.2.0",
      "model_name": "LayoutModel",
      "state": {
       "width": "190px"
      }
     },
     "a15f372c08b3412c809124e9cce1d04f": {
      "model_module": "@jupyter-widgets/base",
      "model_module_version": "1.2.0",
      "model_name": "LayoutModel",
      "state": {
       "margin": "0px 0px 10px 0px"
      }
     },
     "ab9c9c2ce82d4b18a6861d4799bf9807": {
      "model_module": "@jupyter-widgets/controls",
      "model_module_version": "1.5.0",
      "model_name": "DescriptionStyleModel",
      "state": {
       "description_width": ""
      }
     },
     "b78441be68d14d33945439edf13d282c": {
      "model_module": "@jupyter-widgets/controls",
      "model_module_version": "1.5.0",
      "model_name": "HTMLModel",
      "state": {
       "layout": "IPY_MODEL_a15f372c08b3412c809124e9cce1d04f",
       "style": "IPY_MODEL_d96291d26e4c4ef4925849eefda33536",
       "value": "<p style='font-family: IBM Plex Sans, Arial, Helvetica, sans-serif; font-size: 20px; font-weight: medium;'>Circuit Properties</p>"
      }
     },
     "b9584646a7b34091964986a100521ece": {
      "model_module": "@jupyter-widgets/controls",
      "model_module_version": "1.5.0",
      "model_name": "ButtonStyleModel",
      "state": {}
     },
     "bfa17145e2e640a3bed007cba37e3746": {
      "model_module": "@jupyter-widgets/controls",
      "model_module_version": "1.5.0",
      "model_name": "HTMLModel",
      "state": {
       "layout": "IPY_MODEL_c4575484a94a4525875797d9f5cd5ce0",
       "style": "IPY_MODEL_e522f3b2de6c45db8cac36013a99a0b9",
       "value": "<h5>Status</h5>"
      }
     },
     "c4575484a94a4525875797d9f5cd5ce0": {
      "model_module": "@jupyter-widgets/base",
      "model_module_version": "1.2.0",
      "model_name": "LayoutModel",
      "state": {
       "width": "95px"
      }
     },
     "c984fbb95a994ecba5fb82fc4ece884a": {
      "model_module": "@jupyter-widgets/controls",
      "model_module_version": "1.5.0",
      "model_name": "DescriptionStyleModel",
      "state": {
       "description_width": ""
      }
     },
     "d96291d26e4c4ef4925849eefda33536": {
      "model_module": "@jupyter-widgets/controls",
      "model_module_version": "1.5.0",
      "model_name": "DescriptionStyleModel",
      "state": {
       "description_width": ""
      }
     },
     "dbc351e1c7ce4987944dee9125d59477": {
      "model_module": "@jupyter-widgets/controls",
      "model_module_version": "1.5.0",
      "model_name": "DescriptionStyleModel",
      "state": {
       "description_width": ""
      }
     },
     "e522f3b2de6c45db8cac36013a99a0b9": {
      "model_module": "@jupyter-widgets/controls",
      "model_module_version": "1.5.0",
      "model_name": "DescriptionStyleModel",
      "state": {
       "description_width": ""
      }
     },
     "e65fa90fe7de4370b5d6e1515566c654": {
      "model_module": "@jupyter-widgets/controls",
      "model_module_version": "1.5.0",
      "model_name": "GridBoxModel",
      "state": {
       "children": [
        "IPY_MODEL_8cc21cf5d6314da888c742528318bb5e"
       ],
       "layout": "IPY_MODEL_70c60934ce8440a3aa5b0f899da1c101"
      }
     },
     "eeb32f41be9646dc85d46ffd709d3c7d": {
      "model_module": "@jupyter-widgets/base",
      "model_module_version": "1.2.0",
      "model_name": "LayoutModel",
      "state": {
       "width": "70px"
      }
     },
     "f611207f71634f3a931a1c1c7e1b82e7": {
      "model_module": "@jupyter-widgets/controls",
      "model_module_version": "1.5.0",
      "model_name": "DescriptionStyleModel",
      "state": {
       "description_width": ""
      }
     }
    },
    "version_major": 2,
    "version_minor": 0
   }
  }
 },
 "nbformat": 4,
 "nbformat_minor": 4
}
