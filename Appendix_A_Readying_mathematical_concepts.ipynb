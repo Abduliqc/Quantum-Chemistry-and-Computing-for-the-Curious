{
  "nbformat": 4,
  "nbformat_minor": 0,
  "metadata": {
    "colab": {
      "name": "Appendix_A_Readying_mathematical_concepts.ipynb",
      "provenance": [],
      "collapsed_sections": [],
      "authorship_tag": "ABX9TyMYtqM3IeVV06/ueryInOk+"
    },
    "kernelspec": {
      "name": "python3",
      "display_name": "Python 3"
    },
    "language_info": {
      "name": "python"
    }
  },
  "cells": [
    {
      "cell_type": "markdown",
      "source": [
        "$$\n",
        "\\text{This is the cutdown companion Jupyter Notebook of Appendix A. Readying mathematical concepts of the book titled:}$$\n",
        "$$\\text{ Quantum Chemistry and Computing for the Curious: Illustrated with Python and Qiskit® code and with ISBN: 978-1-80323-859-3.}$$"
      ],
      "metadata": {
        "id": "G5doYRQ5NEHX"
      }
    },
    {
      "cell_type": "markdown",
      "source": [
        "# MIT License\n",
        "\n",
        "Copyright (c) 2022 Packt\n",
        "\n",
        "Permission is hereby granted, free of charge, to any person obtaining a copy\n",
        "of this software and associated documentation files (the \"Software\"), to deal\n",
        "in the Software without restriction, including without limitation the rights\n",
        "to use, copy, modify, merge, publish, distribute, sublicense, and/or sell\n",
        "copies of the Software, and to permit persons to whom the Software is\n",
        "furnished to do so, subject to the following conditions:\n",
        "\n",
        "The above copyright notice and this permission notice shall be included in all\n",
        "copies or substantial portions of the Software.\n",
        "\n",
        "THE SOFTWARE IS PROVIDED \"AS IS\", WITHOUT WARRANTY OF ANY KIND, EXPRESS OR\n",
        "IMPLIED, INCLUDING BUT NOT LIMITED TO THE WARRANTIES OF MERCHANTABILITY,\n",
        "FITNESS FOR A PARTICULAR PURPOSE AND NONINFRINGEMENT. IN NO EVENT SHALL THE\n",
        "AUTHORS OR COPYRIGHT HOLDERS BE LIABLE FOR ANY CLAIM, DAMAGES OR OTHER\n",
        "LIABILITY, WHETHER IN AN ACTION OF CONTRACT, TORT OR OTHERWISE, ARISING FROM,\n",
        "OUT OF OR IN CONNECTION WITH THE SOFTWARE OR THE USE OR OTHER DEALINGS IN THE\n",
        "SOFTWARE."
      ],
      "metadata": {
        "id": "zfvF0_5uIplY"
      }
    },
    {
      "cell_type": "markdown",
      "metadata": {
        "id": "zStRIEt49BvK"
      },
      "source": [
        "# Appendix A – Readying mathematical concepts\n"
      ]
    },
    {
      "cell_type": "markdown",
      "metadata": {
        "id": "uQbyEBeJ9H8z"
      },
      "source": [
        "## Installing NumPy, SimPy, and Qiskit and importing various modules\n",
        "Install NumPy with the following command:"
      ]
    },
    {
      "cell_type": "code",
      "metadata": {
        "id": "yOWQ7HRq9DrN"
      },
      "source": [
        "# pip install numpy"
      ],
      "execution_count": null,
      "outputs": []
    },
    {
      "cell_type": "markdown",
      "metadata": {
        "id": "GxYq2aAx9Vdp"
      },
      "source": [
        "Install SimPy with the following command:"
      ]
    },
    {
      "cell_type": "code",
      "metadata": {
        "id": "FdfxrSns9exg"
      },
      "source": [
        "pip install simpy"
      ],
      "execution_count": null,
      "outputs": []
    },
    {
      "cell_type": "markdown",
      "metadata": {
        "id": "OfYFpz7Z9RRI"
      },
      "source": [
        "Install Qiskit with the following command:"
      ]
    },
    {
      "cell_type": "code",
      "metadata": {
        "id": "GB3bBR-M9nau"
      },
      "source": [
        "pip install qiskit"
      ],
      "execution_count": null,
      "outputs": []
    },
    {
      "cell_type": "markdown",
      "metadata": {
        "id": "Yz9PY3139y8J"
      },
      "source": [
        "### Importing NumPy and a function which returns a LaTeX representation of a complex array\n",
        "Importing numPy"
      ]
    },
    {
      "cell_type": "code",
      "metadata": {
        "id": "hWJzdrJL92QD"
      },
      "source": [
        "import numpy as np"
      ],
      "execution_count": null,
      "outputs": []
    },
    {
      "cell_type": "markdown",
      "metadata": {
        "id": "iaQN7O7596eP"
      },
      "source": [
        "Importing array_to_latex function which returns a Latex representation of a complex array with dimension 1 or 2."
      ]
    },
    {
      "cell_type": "code",
      "metadata": {
        "id": "g6EqK_H898GO"
      },
      "source": [
        "from qiskit.visualization import array_to_latex"
      ],
      "execution_count": null,
      "outputs": []
    },
    {
      "cell_type": "markdown",
      "metadata": {
        "id": "vlpFQg2-uhDJ"
      },
      "source": [
        "# Linear algebra\n",
        "\n"
      ]
    },
    {
      "cell_type": "markdown",
      "metadata": {
        "id": "_Ado8GOL8xA2"
      },
      "source": [
        "## Complex numbers\n",
        "\n",
        "## Vector space"
      ]
    },
    {
      "cell_type": "code",
      "metadata": {
        "colab": {
          "base_uri": "https://localhost:8080/",
          "height": 58
        },
        "id": "Ah3xlqO986FZ",
        "outputId": "bb9cc97e-8936-4d56-827d-08b2036e3df7"
      },
      "source": [
        "x = np.array([[1j],\n",
        "             [2]])\n",
        "array_to_latex(x, prefix='x = ')"
      ],
      "execution_count": null,
      "outputs": [
        {
          "output_type": "execute_result",
          "data": {
            "text/latex": "$$\nx = \n\\begin{bmatrix}\ni  \\\\\n 2  \\\\\n \\end{bmatrix}\n$$",
            "text/plain": [
              "<IPython.core.display.Latex object>"
            ]
          },
          "metadata": {},
          "execution_count": 6
        }
      ]
    },
    {
      "cell_type": "code",
      "metadata": {
        "colab": {
          "base_uri": "https://localhost:8080/",
          "height": 76
        },
        "id": "ybVYVNbo-Wv7",
        "outputId": "ced93a0b-0fe8-4e3e-f4bb-3d2c72b8dec2"
      },
      "source": [
        "α = 1j\n",
        "print('α =', α)\n",
        "y = α*x\n",
        "array_to_latex(y, prefix=' y = α*x =')"
      ],
      "execution_count": null,
      "outputs": [
        {
          "output_type": "stream",
          "name": "stdout",
          "text": [
            "α = 1j\n"
          ]
        },
        {
          "output_type": "execute_result",
          "data": {
            "text/latex": "$$\n y = α*x =\n\\begin{bmatrix}\n-1  \\\\\n 2i  \\\\\n \\end{bmatrix}\n$$",
            "text/plain": [
              "<IPython.core.display.Latex object>"
            ]
          },
          "metadata": {},
          "execution_count": 7
        }
      ]
    },
    {
      "cell_type": "markdown",
      "metadata": {
        "id": "-gKaN-1U-eyD"
      },
      "source": [
        "## Linear operators"
      ]
    },
    {
      "cell_type": "markdown",
      "metadata": {
        "id": "Ujrov3_f-jrU"
      },
      "source": [
        "## Matrices"
      ]
    },
    {
      "cell_type": "markdown",
      "metadata": {
        "id": "OYa95yYLuwW0"
      },
      "source": [
        "## Eigenvalues and eigenvectors"
      ]
    },
    {
      "cell_type": "markdown",
      "metadata": {
        "id": "5-yVQzGt_Ss1"
      },
      "source": [
        "## Vector and matrix transpose, conjugate, and conjugate transpose"
      ]
    },
    {
      "cell_type": "code",
      "metadata": {
        "colab": {
          "base_uri": "https://localhost:8080/",
          "height": 39
        },
        "id": "YN0uf43u_uMj",
        "outputId": "02cf7bab-3c94-4c8c-ea86-a4c4300df739"
      },
      "source": [
        "array_to_latex(x.transpose(), prefix='x^T = ')"
      ],
      "execution_count": null,
      "outputs": [
        {
          "output_type": "execute_result",
          "data": {
            "text/latex": "$$\nx^T = \n\\begin{bmatrix}\ni & 2  \\\\\n \\end{bmatrix}\n$$",
            "text/plain": [
              "<IPython.core.display.Latex object>"
            ]
          },
          "metadata": {},
          "execution_count": 8
        }
      ]
    },
    {
      "cell_type": "code",
      "metadata": {
        "colab": {
          "base_uri": "https://localhost:8080/",
          "height": 58
        },
        "id": "EnrQ19cP5w9g",
        "outputId": "f5d51b5a-ddf7-46ab-85f1-2cf928810d4b"
      },
      "source": [
        "array_to_latex(x.conjugate(), prefix='x^* = ')"
      ],
      "execution_count": null,
      "outputs": [
        {
          "output_type": "execute_result",
          "data": {
            "text/latex": "$$\nx^* = \n\\begin{bmatrix}\n-i  \\\\\n 2  \\\\\n \\end{bmatrix}\n$$",
            "text/plain": [
              "<IPython.core.display.Latex object>"
            ]
          },
          "metadata": {},
          "execution_count": 9
        }
      ]
    },
    {
      "cell_type": "code",
      "metadata": {
        "colab": {
          "base_uri": "https://localhost:8080/",
          "height": 39
        },
        "id": "ZPZnHqbi_qbu",
        "outputId": "a92cab01-b1e4-49d6-d713-51838060050c"
      },
      "source": [
        "array_to_latex(x.conjugate().transpose(), prefix='x^\\dagger = (x^*)^T = ')"
      ],
      "execution_count": null,
      "outputs": [
        {
          "output_type": "execute_result",
          "data": {
            "text/latex": "$$\nx^\\dagger = (x^*)^T = \n\\begin{bmatrix}\n-i & 2  \\\\\n \\end{bmatrix}\n$$",
            "text/plain": [
              "<IPython.core.display.Latex object>"
            ]
          },
          "metadata": {},
          "execution_count": 10
        }
      ]
    },
    {
      "cell_type": "markdown",
      "metadata": {
        "id": "zGk5Ac4OAFcE"
      },
      "source": [
        "## Dirac’s notation"
      ]
    },
    {
      "cell_type": "markdown",
      "metadata": {
        "id": "Zrgdg_TgAJRW"
      },
      "source": [
        "## Inner product of two vectors"
      ]
    },
    {
      "cell_type": "code",
      "metadata": {
        "colab": {
          "base_uri": "https://localhost:8080/",
          "height": 58
        },
        "id": "ZfdzDrOLAGMQ",
        "outputId": "582e73da-81f0-4f71-b3af-f131956f03d6"
      },
      "source": [
        "array_to_latex(x, prefix=' x = ')"
      ],
      "execution_count": null,
      "outputs": [
        {
          "output_type": "execute_result",
          "data": {
            "text/latex": "$$\n x = \n\\begin{bmatrix}\ni  \\\\\n 2  \\\\\n \\end{bmatrix}\n$$",
            "text/plain": [
              "<IPython.core.display.Latex object>"
            ]
          },
          "metadata": {},
          "execution_count": 11
        }
      ]
    },
    {
      "cell_type": "code",
      "metadata": {
        "colab": {
          "base_uri": "https://localhost:8080/",
          "height": 58
        },
        "id": "6B_PbRB5aBBs",
        "outputId": "4933091b-fd03-43cc-ee0c-fe056de2c6e8"
      },
      "source": [
        "array_to_latex(y, prefix=' y = ')"
      ],
      "execution_count": null,
      "outputs": [
        {
          "output_type": "execute_result",
          "data": {
            "text/latex": "$$\n y = \n\\begin{bmatrix}\n-1  \\\\\n 2i  \\\\\n \\end{bmatrix}\n$$",
            "text/plain": [
              "<IPython.core.display.Latex object>"
            ]
          },
          "metadata": {},
          "execution_count": 12
        }
      ]
    },
    {
      "cell_type": "code",
      "metadata": {
        "colab": {
          "base_uri": "https://localhost:8080/"
        },
        "id": "2srzbOGVAWlv",
        "outputId": "9e4787bc-a7a8-4fae-8af3-78fda1644636"
      },
      "source": [
        "print(\"np.vdot(x, y) = \", np.vdot(x, y))"
      ],
      "execution_count": null,
      "outputs": [
        {
          "output_type": "stream",
          "name": "stdout",
          "text": [
            "np.vdot(x, y) =  5j\n"
          ]
        }
      ]
    },
    {
      "cell_type": "markdown",
      "metadata": {
        "id": "sArscordUK_k"
      },
      "source": [
        "## Norm of a vector"
      ]
    },
    {
      "cell_type": "code",
      "metadata": {
        "colab": {
          "base_uri": "https://localhost:8080/"
        },
        "id": "Wk3uYWRtAZpV",
        "outputId": "8fbba361-6ddf-4ac7-9d28-0acc0b8ac2e0"
      },
      "source": [
        "print(\"Norm of vector x: {:.3f}\".format(np.linalg.norm(x)))"
      ],
      "execution_count": null,
      "outputs": [
        {
          "output_type": "stream",
          "name": "stdout",
          "text": [
            "Norm of vector x: 2.236\n"
          ]
        }
      ]
    },
    {
      "cell_type": "markdown",
      "metadata": {
        "id": "H9vLBE7jUTaR"
      },
      "source": [
        "## Hilbert space"
      ]
    },
    {
      "cell_type": "markdown",
      "metadata": {
        "id": "GFJ_Z2BiUYcT"
      },
      "source": [
        "## Matrix multiplication with a vector"
      ]
    },
    {
      "cell_type": "code",
      "metadata": {
        "colab": {
          "base_uri": "https://localhost:8080/",
          "height": 58
        },
        "id": "ol5RJIwrwUFV",
        "outputId": "5e648731-480c-4c18-c650-478a0ec263c3"
      },
      "source": [
        "A = np.array([[1, 2],\n",
        "              [3, 1j]])\n",
        "array_to_latex(A, prefix='A = ')"
      ],
      "execution_count": null,
      "outputs": [
        {
          "output_type": "execute_result",
          "data": {
            "text/latex": "$$\nA = \n\\begin{bmatrix}\n1 & 2  \\\\\n 3 & i  \\\\\n \\end{bmatrix}\n$$",
            "text/plain": [
              "<IPython.core.display.Latex object>"
            ]
          },
          "metadata": {},
          "execution_count": 15
        }
      ]
    },
    {
      "cell_type": "code",
      "metadata": {
        "colab": {
          "base_uri": "https://localhost:8080/",
          "height": 58
        },
        "id": "dMJ-urT1waXJ",
        "outputId": "aeb5c90f-49fe-4da3-d953-743ee590b21f"
      },
      "source": [
        "a = np.array([[1],\n",
        "             [1]])\n",
        "array_to_latex(a, prefix='a = ')"
      ],
      "execution_count": null,
      "outputs": [
        {
          "output_type": "execute_result",
          "data": {
            "text/latex": "$$\na = \n\\begin{bmatrix}\n1  \\\\\n 1  \\\\\n \\end{bmatrix}\n$$",
            "text/plain": [
              "<IPython.core.display.Latex object>"
            ]
          },
          "metadata": {},
          "execution_count": 16
        }
      ]
    },
    {
      "cell_type": "code",
      "metadata": {
        "colab": {
          "base_uri": "https://localhost:8080/",
          "height": 58
        },
        "id": "0oYEUH9fUuQl",
        "outputId": "fb4c3e67-2835-4f5b-ddba-e6654e8b0213"
      },
      "source": [
        "array_to_latex(A@a, prefix='A@a = ')"
      ],
      "execution_count": null,
      "outputs": [
        {
          "output_type": "execute_result",
          "data": {
            "text/latex": "$$\nA@a = \n\\begin{bmatrix}\n3  \\\\\n 3 + i  \\\\\n \\end{bmatrix}\n$$",
            "text/plain": [
              "<IPython.core.display.Latex object>"
            ]
          },
          "metadata": {},
          "execution_count": 17
        }
      ]
    },
    {
      "cell_type": "markdown",
      "metadata": {
        "id": "hKKrs342U6IB"
      },
      "source": [
        "## Matrix addition"
      ]
    },
    {
      "cell_type": "code",
      "metadata": {
        "colab": {
          "base_uri": "https://localhost:8080/",
          "height": 58
        },
        "id": "JH4bzqMNdngq",
        "outputId": "782facec-4266-4cde-ad1c-8b39b7a47bfe"
      },
      "source": [
        "A = np.array([[1, 0],\n",
        "              [0, 1j]])\n",
        "array_to_latex(A, prefix='A = ')"
      ],
      "execution_count": null,
      "outputs": [
        {
          "output_type": "execute_result",
          "data": {
            "text/latex": "$$\nA = \n\\begin{bmatrix}\n1 & 0  \\\\\n 0 & i  \\\\\n \\end{bmatrix}\n$$",
            "text/plain": [
              "<IPython.core.display.Latex object>"
            ]
          },
          "metadata": {},
          "execution_count": 18
        }
      ]
    },
    {
      "cell_type": "code",
      "metadata": {
        "colab": {
          "base_uri": "https://localhost:8080/",
          "height": 58
        },
        "id": "gIM_sVCCduL5",
        "outputId": "19883e2a-cc56-4e35-b983-4bd34a08f010"
      },
      "source": [
        "B = np.array([[0, 1],\n",
        "              [1j, 0]])\n",
        "array_to_latex(B, prefix='B = ')"
      ],
      "execution_count": null,
      "outputs": [
        {
          "output_type": "execute_result",
          "data": {
            "text/latex": "$$\nB = \n\\begin{bmatrix}\n0 & 1  \\\\\n i & 0  \\\\\n \\end{bmatrix}\n$$",
            "text/plain": [
              "<IPython.core.display.Latex object>"
            ]
          },
          "metadata": {},
          "execution_count": 19
        }
      ]
    },
    {
      "cell_type": "code",
      "metadata": {
        "colab": {
          "base_uri": "https://localhost:8080/",
          "height": 58
        },
        "id": "2GBFf2HId6dl",
        "outputId": "179ee2ec-b0d8-4e23-93e2-07737827ad3a"
      },
      "source": [
        "array_to_latex(A+B, prefix='A+B = ')"
      ],
      "execution_count": null,
      "outputs": [
        {
          "output_type": "execute_result",
          "data": {
            "text/latex": "$$\nA+B = \n\\begin{bmatrix}\n1 & 1  \\\\\n i & i  \\\\\n \\end{bmatrix}\n$$",
            "text/plain": [
              "<IPython.core.display.Latex object>"
            ]
          },
          "metadata": {},
          "execution_count": 20
        }
      ]
    },
    {
      "cell_type": "markdown",
      "metadata": {
        "id": "meYBd-XWU-ze"
      },
      "source": [
        "## Matrix multiplication"
      ]
    },
    {
      "cell_type": "code",
      "metadata": {
        "colab": {
          "base_uri": "https://localhost:8080/",
          "height": 58
        },
        "id": "ejfiiZ68U64c",
        "outputId": "3ad0965b-98fe-4ce2-fc3e-d3f7f96738c3"
      },
      "source": [
        "A = np.array([[1, 0],\n",
        "              [0, 1j]])\n",
        "array_to_latex(A, prefix='A = ')"
      ],
      "execution_count": null,
      "outputs": [
        {
          "output_type": "execute_result",
          "data": {
            "text/latex": "$$\nA = \n\\begin{bmatrix}\n1 & 0  \\\\\n 0 & i  \\\\\n \\end{bmatrix}\n$$",
            "text/plain": [
              "<IPython.core.display.Latex object>"
            ]
          },
          "metadata": {},
          "execution_count": 21
        }
      ]
    },
    {
      "cell_type": "code",
      "metadata": {
        "colab": {
          "base_uri": "https://localhost:8080/",
          "height": 58
        },
        "id": "dUgLKyWZVFn8",
        "outputId": "98f44a2b-b969-48bd-89c1-42f2f08f07ee"
      },
      "source": [
        "B = np.array([[1, 1, 1j],\n",
        "              [1, -1, 0]])\n",
        "array_to_latex(B, prefix='B = ')"
      ],
      "execution_count": null,
      "outputs": [
        {
          "output_type": "execute_result",
          "data": {
            "text/latex": "$$\nB = \n\\begin{bmatrix}\n1 & 1 & i  \\\\\n 1 & -1 & 0  \\\\\n \\end{bmatrix}\n$$",
            "text/plain": [
              "<IPython.core.display.Latex object>"
            ]
          },
          "metadata": {},
          "execution_count": 22
        }
      ]
    },
    {
      "cell_type": "code",
      "metadata": {
        "colab": {
          "base_uri": "https://localhost:8080/",
          "height": 58
        },
        "id": "HuTGghMiVI1P",
        "outputId": "307468cd-e7ac-48fb-ae4f-7cea8a9e9181"
      },
      "source": [
        "array_to_latex(A@B, prefix='A@B = ')"
      ],
      "execution_count": null,
      "outputs": [
        {
          "output_type": "execute_result",
          "data": {
            "text/latex": "$$\nA@B = \n\\begin{bmatrix}\n1 & 1 & i  \\\\\n i & -i & 0  \\\\\n \\end{bmatrix}\n$$",
            "text/plain": [
              "<IPython.core.display.Latex object>"
            ]
          },
          "metadata": {},
          "execution_count": 23
        }
      ]
    },
    {
      "cell_type": "markdown",
      "metadata": {
        "id": "f1U3yDTjVMym"
      },
      "source": [
        "## Matrix inverse"
      ]
    },
    {
      "cell_type": "code",
      "metadata": {
        "colab": {
          "base_uri": "https://localhost:8080/",
          "height": 58
        },
        "id": "LnN1If7YVNlB",
        "outputId": "ec3e044d-add5-4e14-e3d7-0048978a377c"
      },
      "source": [
        "from numpy.linalg import inv\n",
        "A = np.array([[1., 2.], [3., 4.]])\n",
        "array_to_latex(A, prefix='A =')"
      ],
      "execution_count": null,
      "outputs": [
        {
          "output_type": "execute_result",
          "data": {
            "text/latex": "$$\nA =\n\\begin{bmatrix}\n1 & 2  \\\\\n 3 & 4  \\\\\n \\end{bmatrix}\n$$",
            "text/plain": [
              "<IPython.core.display.Latex object>"
            ]
          },
          "metadata": {},
          "execution_count": 24
        }
      ]
    },
    {
      "cell_type": "code",
      "metadata": {
        "colab": {
          "base_uri": "https://localhost:8080/",
          "height": 58
        },
        "id": "Gvqr_azgVTIP",
        "outputId": "2c2c9708-65ef-446f-fe82-eb11695328b4"
      },
      "source": [
        "array_to_latex(inv(A), prefix='A^{-1} = ')"
      ],
      "execution_count": null,
      "outputs": [
        {
          "output_type": "execute_result",
          "data": {
            "text/latex": "$$\nA^{-1} = \n\\begin{bmatrix}\n-2 & 1  \\\\\n \\tfrac{3}{2} & -\\tfrac{1}{2}  \\\\\n \\end{bmatrix}\n$$",
            "text/plain": [
              "<IPython.core.display.Latex object>"
            ]
          },
          "metadata": {},
          "execution_count": 25
        }
      ]
    },
    {
      "cell_type": "markdown",
      "metadata": {
        "id": "0ulW1ET9bGPy"
      },
      "source": [
        "## Tensor product"
      ]
    },
    {
      "cell_type": "markdown",
      "metadata": {
        "id": "wsLFB1a5VXE_"
      },
      "source": [
        "## Kronecker product or tensor product of matrices or vectors"
      ]
    },
    {
      "cell_type": "code",
      "metadata": {
        "colab": {
          "base_uri": "https://localhost:8080/",
          "height": 58
        },
        "id": "8IjZ13sDVXxw",
        "outputId": "8961cc40-7e5e-49f7-fe0e-5a8727805777"
      },
      "source": [
        "A = np.array([[1,2],\n",
        "              [3, 4]])\n",
        "array_to_latex(A, prefix='A =')"
      ],
      "execution_count": null,
      "outputs": [
        {
          "output_type": "execute_result",
          "data": {
            "text/latex": "$$\nA =\n\\begin{bmatrix}\n1 & 2  \\\\\n 3 & 4  \\\\\n \\end{bmatrix}\n$$",
            "text/plain": [
              "<IPython.core.display.Latex object>"
            ]
          },
          "metadata": {},
          "execution_count": 26
        }
      ]
    },
    {
      "cell_type": "code",
      "metadata": {
        "colab": {
          "base_uri": "https://localhost:8080/",
          "height": 58
        },
        "id": "9CRXVz5eVb3V",
        "outputId": "5264997a-2dfd-444c-d8fb-76a1a2df56c7"
      },
      "source": [
        "B = np.array([[0, 5],\n",
        "              [6, 7]])\n",
        "array_to_latex(B, prefix='B =')"
      ],
      "execution_count": null,
      "outputs": [
        {
          "output_type": "execute_result",
          "data": {
            "text/latex": "$$\nB =\n\\begin{bmatrix}\n0 & 5  \\\\\n 6 & 7  \\\\\n \\end{bmatrix}\n$$",
            "text/plain": [
              "<IPython.core.display.Latex object>"
            ]
          },
          "metadata": {},
          "execution_count": 27
        }
      ]
    },
    {
      "cell_type": "code",
      "metadata": {
        "colab": {
          "base_uri": "https://localhost:8080/",
          "height": 99
        },
        "id": "xooxn8fBVhgV",
        "outputId": "c3f561f1-69b1-4f0b-c38f-7347a1cabce0"
      },
      "source": [
        "C = np.kron(A,B)\n",
        "array_to_latex(C, prefix='A \\otimes B =')"
      ],
      "execution_count": null,
      "outputs": [
        {
          "output_type": "execute_result",
          "data": {
            "text/latex": "$$\nA \\otimes B =\n\\begin{bmatrix}\n0 & 5 & 0 & 10  \\\\\n 6 & 7 & 12 & 14  \\\\\n 0 & 15 & 0 & 20  \\\\\n 18 & 21 & 24 & 28  \\\\\n \\end{bmatrix}\n$$",
            "text/plain": [
              "<IPython.core.display.Latex object>"
            ]
          },
          "metadata": {},
          "execution_count": 28
        }
      ]
    },
    {
      "cell_type": "markdown",
      "metadata": {
        "id": "ET91KE0dVltC"
      },
      "source": [
        "## Outer product"
      ]
    },
    {
      "cell_type": "code",
      "metadata": {
        "colab": {
          "base_uri": "https://localhost:8080/",
          "height": 58
        },
        "id": "noPgdqxsVmyE",
        "outputId": "1cad381e-1865-469c-84f8-b9db984e4464"
      },
      "source": [
        "array_to_latex(x, prefix=' x = ')"
      ],
      "execution_count": null,
      "outputs": [
        {
          "output_type": "execute_result",
          "data": {
            "text/latex": "$$\n x = \n\\begin{bmatrix}\ni  \\\\\n 2  \\\\\n \\end{bmatrix}\n$$",
            "text/plain": [
              "<IPython.core.display.Latex object>"
            ]
          },
          "metadata": {},
          "execution_count": 29
        }
      ]
    },
    {
      "cell_type": "code",
      "metadata": {
        "colab": {
          "base_uri": "https://localhost:8080/",
          "height": 58
        },
        "id": "k_e7NKt1Vpx5",
        "outputId": "f6dc87aa-e62f-4128-a845-dbb2997a3eb9"
      },
      "source": [
        "array_to_latex(y, prefix=' y = ')"
      ],
      "execution_count": null,
      "outputs": [
        {
          "output_type": "execute_result",
          "data": {
            "text/latex": "$$\n y = \n\\begin{bmatrix}\n-1  \\\\\n 2i  \\\\\n \\end{bmatrix}\n$$",
            "text/plain": [
              "<IPython.core.display.Latex object>"
            ]
          },
          "metadata": {},
          "execution_count": 30
        }
      ]
    },
    {
      "cell_type": "code",
      "metadata": {
        "colab": {
          "base_uri": "https://localhost:8080/",
          "height": 58
        },
        "id": "wInamVhaVtGu",
        "outputId": "7edace3f-abb5-4827-b767-dba4788e8242"
      },
      "source": [
        "array_to_latex(np.outer(x, y), prefix='np.outer(x, y) = ')"
      ],
      "execution_count": null,
      "outputs": [
        {
          "output_type": "execute_result",
          "data": {
            "text/latex": "$$\nnp.outer(x, y) = \n\\begin{bmatrix}\n-i & -2  \\\\\n -2 & 4i  \\\\\n \\end{bmatrix}\n$$",
            "text/plain": [
              "<IPython.core.display.Latex object>"
            ]
          },
          "metadata": {},
          "execution_count": 31
        }
      ]
    },
    {
      "cell_type": "markdown",
      "metadata": {
        "id": "sHO2R73hc0cH"
      },
      "source": [
        "### Writing single qubit matrices as a sum of outer products\n",
        "\n",
        "## Hermitian operator\n",
        "\n",
        "\n",
        "## Unitary operator\n",
        "\n",
        "## Density matrix and mixed quantum states"
      ]
    },
    {
      "cell_type": "markdown",
      "metadata": {
        "id": "xVFPle-vOAdV"
      },
      "source": [
        "## Pauli matrices"
      ]
    },
    {
      "cell_type": "markdown",
      "metadata": {
        "id": "NJS1_GcK2oaY"
      },
      "source": [
        "### Decomposing a matrix into the weighted sum of the tensor product of Pauli matrices"
      ]
    },
    {
      "cell_type": "markdown",
      "metadata": {
        "id": "bTNA1WeySvSa"
      },
      "source": [
        "## Anti-commutator\n",
        "\n",
        "## Commutator"
      ]
    }
  ]
}